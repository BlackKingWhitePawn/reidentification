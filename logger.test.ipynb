{
 "cells": [
  {
   "attachments": {},
   "cell_type": "markdown",
   "metadata": {},
   "source": [
    "# Тестирование логгирования\n",
    "_Воспроизведение экспериментов_"
   ]
  },
  {
   "cell_type": "code",
   "execution_count": 1,
   "metadata": {},
   "outputs": [
    {
     "name": "stderr",
     "output_type": "stream",
     "text": [
      "/home/nick/reidentification/.conda/lib/python3.10/site-packages/tqdm/auto.py:21: TqdmWarning: IProgress not found. Please update jupyter and ipywidgets. See https://ipywidgets.readthedocs.io/en/stable/user_install.html\n",
      "  from .autonotebook import tqdm as notebook_tqdm\n",
      "/home/nick/reidentification/.conda/lib/python3.10/site-packages/torchvision/io/image.py:13: UserWarning: Failed to load image Python extension: /home/nick/reidentification/.conda/lib/python3.10/site-packages/torchvision/image.so: undefined symbol: _ZN2at4_ops19empty_memory_format4callEN3c108ArrayRefIlEENS2_8optionalINS2_10ScalarTypeEEENS5_INS2_6LayoutEEENS5_INS2_6DeviceEEENS5_IbEENS5_INS2_12MemoryFormatEEE\n",
      "  warn(f\"Failed to load image Python extension: {e}\")\n"
     ]
    }
   ],
   "source": [
    "from datetime import datetime\n",
    "from os.path import exists, join\n",
    "\n",
    "import albumentations as A\n",
    "import numpy as np\n",
    "import pandas as pd\n",
    "import torch\n",
    "import torchvision\n",
    "from torch.nn import CrossEntropyLoss\n",
    "from torch.optim import SGD, Adam\n",
    "from torch.optim.lr_scheduler import StepLR\n",
    "\n",
    "from src.config import (MOT20_EXT_FIRST_AXIS_MEAN, MOT20_EXT_SECOND_AXIS_MEAN,\n",
    "                        RESULTS_PATH)\n",
    "from src.models.reidentification import SiameseBasicCNN, SiameseTransfered\n",
    "from src.models.utils import resnet_grad_l4_unlock\n",
    "from src.train import get_loaders, train_siamese\n",
    "from src.train.loss import ContrastiveLoss\n",
    "from src.train.utils import save_train_results\n",
    "from src.transforms import get_norm_transform, get_resize_transform"
   ]
  },
  {
   "attachments": {},
   "cell_type": "markdown",
   "metadata": {},
   "source": [
    "## Создание и обработка csv"
   ]
  },
  {
   "cell_type": "code",
   "execution_count": 2,
   "metadata": {},
   "outputs": [
    {
     "data": {
      "text/plain": [
       "model_name                object\n",
       "datetime          datetime64[ns]\n",
       "epoch_count                int32\n",
       "optimizer                 object\n",
       "lr                       float64\n",
       "gamma                    float64\n",
       "step_size                  int32\n",
       "loss_name                 object\n",
       "dataset_config            object\n",
       "dtype: object"
      ]
     },
     "execution_count": 2,
     "metadata": {},
     "output_type": "execute_result"
    }
   ],
   "source": [
    "df = pd.DataFrame(columns=[\n",
    "    'model_name',\n",
    "    'datetime',\n",
    "    'epoch_count',\n",
    "    'optimizer',\n",
    "    'lr',\n",
    "    'gamma',\n",
    "    'step_size',\n",
    "    'loss_name',\n",
    "    'dataset_config'\n",
    "])\n",
    "\n",
    "dt = str(datetime.now())\n",
    "\n",
    "df.loc[len(df)] = [\n",
    "    'test',\n",
    "    dt,\n",
    "    1,\n",
    "    'adam',\n",
    "    1e-3,\n",
    "    0.5,\n",
    "    2,\n",
    "    'contr',\n",
    "    'a'\n",
    "]\n",
    "\n",
    "df = df.astype({\n",
    "    'model_name': 'object',\n",
    "    'datetime': 'datetime64',\n",
    "    'epoch_count': 'i4',\n",
    "    'optimizer': 'object',\n",
    "    'lr': 'float64',\n",
    "    'gamma': 'float64',\n",
    "    'step_size': 'i4',\n",
    "    'loss_name': 'object',\n",
    "    'dataset_config': 'object'\n",
    "})\n",
    "\n",
    "# df.astype({\n",
    "#     'model_name': 'int32'\n",
    "# })\n",
    "\n",
    "df.dtypes"
   ]
  },
  {
   "cell_type": "code",
   "execution_count": null,
   "metadata": {},
   "outputs": [],
   "source": []
  },
  {
   "cell_type": "code",
   "execution_count": 3,
   "metadata": {},
   "outputs": [],
   "source": [
    "file_path = join(RESULTS_PATH, 'experiments.csv')\n",
    "config_path = join(RESULTS_PATH, 'configs.csv')\n",
    "\n",
    "# # experiments.csv\n",
    "# # pd.read_csv()\n",
    "# df.to_csv(file_path, sep=',', index=False)"
   ]
  },
  {
   "cell_type": "code",
   "execution_count": 4,
   "metadata": {},
   "outputs": [],
   "source": [
    "# pd.read_csv(file_path)"
   ]
  },
  {
   "cell_type": "code",
   "execution_count": 5,
   "metadata": {},
   "outputs": [],
   "source": [
    "# if (not exists(file_path)):\n",
    "#     # TODO: указать типы\n",
    "#     pd.DataFrame(columns=[\n",
    "#         'model_name',\n",
    "#         'datetime',\n",
    "#         'epoch_count',\n",
    "#         'optimizer',\n",
    "#         'lr',\n",
    "#         'gamma',\n",
    "#         'step_size',\n",
    "#         'loss_name',\n",
    "#         'dataset_config'\n",
    "#     ]).to_csv(file_path, sep=',', index=False)"
   ]
  },
  {
   "cell_type": "code",
   "execution_count": 6,
   "metadata": {},
   "outputs": [],
   "source": [
    "# df = pd.read_csv(file_path)"
   ]
  },
  {
   "cell_type": "code",
   "execution_count": 7,
   "metadata": {},
   "outputs": [
    {
     "data": {
      "text/html": [
       "<div>\n",
       "<style scoped>\n",
       "    .dataframe tbody tr th:only-of-type {\n",
       "        vertical-align: middle;\n",
       "    }\n",
       "\n",
       "    .dataframe tbody tr th {\n",
       "        vertical-align: top;\n",
       "    }\n",
       "\n",
       "    .dataframe thead th {\n",
       "        text-align: right;\n",
       "    }\n",
       "</style>\n",
       "<table border=\"1\" class=\"dataframe\">\n",
       "  <thead>\n",
       "    <tr style=\"text-align: right;\">\n",
       "      <th></th>\n",
       "      <th>model_name</th>\n",
       "      <th>datetime</th>\n",
       "      <th>epoch_count</th>\n",
       "      <th>optimizer</th>\n",
       "      <th>lr</th>\n",
       "      <th>gamma</th>\n",
       "      <th>step_size</th>\n",
       "      <th>loss_name</th>\n",
       "      <th>dataset_config</th>\n",
       "    </tr>\n",
       "  </thead>\n",
       "  <tbody>\n",
       "    <tr>\n",
       "      <th>0</th>\n",
       "      <td>test2</td>\n",
       "      <td>2023-05-15 14:13:24.784617</td>\n",
       "      <td>1</td>\n",
       "      <td>adam</td>\n",
       "      <td>0.001</td>\n",
       "      <td>0.5</td>\n",
       "      <td>2</td>\n",
       "      <td>contr</td>\n",
       "      <td>a</td>\n",
       "    </tr>\n",
       "  </tbody>\n",
       "</table>\n",
       "</div>"
      ],
      "text/plain": [
       "  model_name                    datetime  epoch_count optimizer     lr  gamma  \\\n",
       "0      test2  2023-05-15 14:13:24.784617            1      adam  0.001    0.5   \n",
       "\n",
       "   step_size loss_name dataset_config  \n",
       "0          2     contr              a  "
      ]
     },
     "execution_count": 7,
     "metadata": {},
     "output_type": "execute_result"
    }
   ],
   "source": [
    "res = pd.DataFrame({\n",
    "    'model_name': 'test2',\n",
    "    'datetime': dt,\n",
    "    'epoch_count': 1,\n",
    "    'optimizer': 'adam',\n",
    "    'lr': 1e-3,\n",
    "    'gamma': 0.5,\n",
    "    'step_size': 2,\n",
    "    'loss_name': 'contr',\n",
    "    'dataset_config': 'a'\n",
    "}, index=[0])\n",
    "res"
   ]
  },
  {
   "cell_type": "code",
   "execution_count": 8,
   "metadata": {},
   "outputs": [
    {
     "name": "stderr",
     "output_type": "stream",
     "text": [
      "/tmp/ipykernel_33766/3392409908.py:1: FutureWarning: The frame.append method is deprecated and will be removed from pandas in a future version. Use pandas.concat instead.\n",
      "  df = df.append(res)\n"
     ]
    },
    {
     "data": {
      "text/html": [
       "<div>\n",
       "<style scoped>\n",
       "    .dataframe tbody tr th:only-of-type {\n",
       "        vertical-align: middle;\n",
       "    }\n",
       "\n",
       "    .dataframe tbody tr th {\n",
       "        vertical-align: top;\n",
       "    }\n",
       "\n",
       "    .dataframe thead th {\n",
       "        text-align: right;\n",
       "    }\n",
       "</style>\n",
       "<table border=\"1\" class=\"dataframe\">\n",
       "  <thead>\n",
       "    <tr style=\"text-align: right;\">\n",
       "      <th></th>\n",
       "      <th>model_name</th>\n",
       "      <th>datetime</th>\n",
       "      <th>epoch_count</th>\n",
       "      <th>optimizer</th>\n",
       "      <th>lr</th>\n",
       "      <th>gamma</th>\n",
       "      <th>step_size</th>\n",
       "      <th>loss_name</th>\n",
       "      <th>dataset_config</th>\n",
       "    </tr>\n",
       "  </thead>\n",
       "  <tbody>\n",
       "    <tr>\n",
       "      <th>0</th>\n",
       "      <td>test</td>\n",
       "      <td>2023-05-15 14:13:24.784617</td>\n",
       "      <td>1</td>\n",
       "      <td>adam</td>\n",
       "      <td>0.001</td>\n",
       "      <td>0.5</td>\n",
       "      <td>2</td>\n",
       "      <td>contr</td>\n",
       "      <td>a</td>\n",
       "    </tr>\n",
       "    <tr>\n",
       "      <th>0</th>\n",
       "      <td>test2</td>\n",
       "      <td>2023-05-15 14:13:24.784617</td>\n",
       "      <td>1</td>\n",
       "      <td>adam</td>\n",
       "      <td>0.001</td>\n",
       "      <td>0.5</td>\n",
       "      <td>2</td>\n",
       "      <td>contr</td>\n",
       "      <td>a</td>\n",
       "    </tr>\n",
       "  </tbody>\n",
       "</table>\n",
       "</div>"
      ],
      "text/plain": [
       "  model_name                    datetime  epoch_count optimizer     lr  gamma  \\\n",
       "0       test  2023-05-15 14:13:24.784617            1      adam  0.001    0.5   \n",
       "0      test2  2023-05-15 14:13:24.784617            1      adam  0.001    0.5   \n",
       "\n",
       "   step_size loss_name dataset_config  \n",
       "0          2     contr              a  \n",
       "0          2     contr              a  "
      ]
     },
     "execution_count": 8,
     "metadata": {},
     "output_type": "execute_result"
    }
   ],
   "source": [
    "df = df.append(res)\n",
    "df"
   ]
  },
  {
   "cell_type": "code",
   "execution_count": 9,
   "metadata": {},
   "outputs": [],
   "source": [
    "# df.to_csv(file_path, sep=',', index=False)"
   ]
  },
  {
   "cell_type": "code",
   "execution_count": 10,
   "metadata": {},
   "outputs": [],
   "source": [
    "# pd.read_csv(file_path)"
   ]
  },
  {
   "attachments": {},
   "cell_type": "markdown",
   "metadata": {},
   "source": [
    "## Сохранение конфигов"
   ]
  },
  {
   "cell_type": "code",
   "execution_count": 11,
   "metadata": {},
   "outputs": [
    {
     "data": {
      "text/html": [
       "<div>\n",
       "<style scoped>\n",
       "    .dataframe tbody tr th:only-of-type {\n",
       "        vertical-align: middle;\n",
       "    }\n",
       "\n",
       "    .dataframe tbody tr th {\n",
       "        vertical-align: top;\n",
       "    }\n",
       "\n",
       "    .dataframe thead th {\n",
       "        text-align: right;\n",
       "    }\n",
       "</style>\n",
       "<table border=\"1\" class=\"dataframe\">\n",
       "  <thead>\n",
       "    <tr style=\"text-align: right;\">\n",
       "      <th></th>\n",
       "      <th>dataset_config</th>\n",
       "      <th>dataset</th>\n",
       "      <th>dataset_use</th>\n",
       "      <th>train_proportion</th>\n",
       "      <th>val_proportion</th>\n",
       "      <th>test_proportion</th>\n",
       "      <th>batch_size</th>\n",
       "    </tr>\n",
       "  </thead>\n",
       "  <tbody>\n",
       "  </tbody>\n",
       "</table>\n",
       "</div>"
      ],
      "text/plain": [
       "Empty DataFrame\n",
       "Columns: [dataset_config, dataset, dataset_use, train_proportion, val_proportion, test_proportion, batch_size]\n",
       "Index: []"
      ]
     },
     "execution_count": 11,
     "metadata": {},
     "output_type": "execute_result"
    }
   ],
   "source": [
    "df_config = pd.DataFrame(columns=[\n",
    "    'dataset_config',\n",
    "    'dataset',\n",
    "    'dataset_use',\n",
    "    'train_proportion',\n",
    "    'val_proportion',\n",
    "    'test_proportion',\n",
    "    'batch_size',\n",
    "])\n",
    "df_config"
   ]
  },
  {
   "cell_type": "code",
   "execution_count": 12,
   "metadata": {},
   "outputs": [],
   "source": [
    "res = pd.DataFrame({\n",
    "    'dataset_config': 'mot1',\n",
    "    'dataset': 'mot',\n",
    "    'dataset_use': 0.02,\n",
    "    'train_proportion': 0.7,\n",
    "    'val_proportion': 0.15,\n",
    "    'test_proportion': 0.15,\n",
    "    'batch_size': 16\n",
    "}, index=[0])"
   ]
  },
  {
   "cell_type": "code",
   "execution_count": 13,
   "metadata": {},
   "outputs": [
    {
     "name": "stderr",
     "output_type": "stream",
     "text": [
      "/tmp/ipykernel_33766/76728779.py:1: FutureWarning: The frame.append method is deprecated and will be removed from pandas in a future version. Use pandas.concat instead.\n",
      "  df_config = df_config.append(res)\n"
     ]
    },
    {
     "data": {
      "text/html": [
       "<div>\n",
       "<style scoped>\n",
       "    .dataframe tbody tr th:only-of-type {\n",
       "        vertical-align: middle;\n",
       "    }\n",
       "\n",
       "    .dataframe tbody tr th {\n",
       "        vertical-align: top;\n",
       "    }\n",
       "\n",
       "    .dataframe thead th {\n",
       "        text-align: right;\n",
       "    }\n",
       "</style>\n",
       "<table border=\"1\" class=\"dataframe\">\n",
       "  <thead>\n",
       "    <tr style=\"text-align: right;\">\n",
       "      <th></th>\n",
       "      <th>dataset_config</th>\n",
       "      <th>dataset</th>\n",
       "      <th>dataset_use</th>\n",
       "      <th>train_proportion</th>\n",
       "      <th>val_proportion</th>\n",
       "      <th>test_proportion</th>\n",
       "      <th>batch_size</th>\n",
       "    </tr>\n",
       "  </thead>\n",
       "  <tbody>\n",
       "    <tr>\n",
       "      <th>0</th>\n",
       "      <td>mot1</td>\n",
       "      <td>mot</td>\n",
       "      <td>0.02</td>\n",
       "      <td>0.7</td>\n",
       "      <td>0.15</td>\n",
       "      <td>0.15</td>\n",
       "      <td>16</td>\n",
       "    </tr>\n",
       "  </tbody>\n",
       "</table>\n",
       "</div>"
      ],
      "text/plain": [
       "  dataset_config dataset  dataset_use  train_proportion  val_proportion  \\\n",
       "0           mot1     mot         0.02               0.7            0.15   \n",
       "\n",
       "   test_proportion batch_size  \n",
       "0             0.15         16  "
      ]
     },
     "execution_count": 13,
     "metadata": {},
     "output_type": "execute_result"
    }
   ],
   "source": [
    "df_config = df_config.append(res)\n",
    "df_config"
   ]
  },
  {
   "cell_type": "code",
   "execution_count": 14,
   "metadata": {},
   "outputs": [
    {
     "data": {
      "text/plain": [
       "(True, False)"
      ]
     },
     "execution_count": 14,
     "metadata": {},
     "output_type": "execute_result"
    }
   ],
   "source": [
    "'mot1' in df_config['dataset_config'].unique(), 'mot2' in df_config['dataset_config'].unique()"
   ]
  },
  {
   "cell_type": "code",
   "execution_count": 15,
   "metadata": {},
   "outputs": [],
   "source": [
    "conf = {\n",
    "    \"mot20_ext_v1\": {\n",
    "        \"dataset_config\": 'mot20_ext_v1',\n",
    "        \"dataset\": 'MOT20_ext',\n",
    "        \"dataset_use\": 0.002,\n",
    "        \"train_proportion\": 0.65,\n",
    "        \"val_proportion\": 0.15,\n",
    "        \"test_proportion\": 0.2,\n",
    "        \"batch_size\": 16\n",
    "    },\n",
    "    \"mot20_ext_v2\": {\n",
    "        \"dataset_config\": 'mot20_ext_v2',\n",
    "        \"dataset\": 'MOT20_ext',\n",
    "        \"dataset_use\": 0.002,\n",
    "        \"train_proportion\": 0.65,\n",
    "        \"val_proportion\": 0.15,\n",
    "        \"test_proportion\": 0.2,\n",
    "        \"batch_size\": 16,\n",
    "        'extra_values': {\n",
    "            'visibility_threshold': 0.7,\n",
    "            'frame_distance': 3,\n",
    "            'negative_proportion': 0.5\n",
    "        }\n",
    "    }\n",
    "}"
   ]
  },
  {
   "cell_type": "code",
   "execution_count": 16,
   "metadata": {},
   "outputs": [
    {
     "data": {
      "text/html": [
       "<div>\n",
       "<style scoped>\n",
       "    .dataframe tbody tr th:only-of-type {\n",
       "        vertical-align: middle;\n",
       "    }\n",
       "\n",
       "    .dataframe tbody tr th {\n",
       "        vertical-align: top;\n",
       "    }\n",
       "\n",
       "    .dataframe thead th {\n",
       "        text-align: right;\n",
       "    }\n",
       "</style>\n",
       "<table border=\"1\" class=\"dataframe\">\n",
       "  <thead>\n",
       "    <tr style=\"text-align: right;\">\n",
       "      <th></th>\n",
       "      <th>dataset_config</th>\n",
       "      <th>dataset</th>\n",
       "      <th>dataset_use</th>\n",
       "      <th>train_proportion</th>\n",
       "      <th>val_proportion</th>\n",
       "      <th>test_proportion</th>\n",
       "      <th>batch_size</th>\n",
       "    </tr>\n",
       "  </thead>\n",
       "  <tbody>\n",
       "    <tr>\n",
       "      <th>0</th>\n",
       "      <td>mot20_ext_v1</td>\n",
       "      <td>MOT20_ext</td>\n",
       "      <td>0.002</td>\n",
       "      <td>0.65</td>\n",
       "      <td>0.15</td>\n",
       "      <td>0.2</td>\n",
       "      <td>16</td>\n",
       "    </tr>\n",
       "  </tbody>\n",
       "</table>\n",
       "</div>"
      ],
      "text/plain": [
       "  dataset_config    dataset  dataset_use  train_proportion  val_proportion  \\\n",
       "0   mot20_ext_v1  MOT20_ext        0.002              0.65            0.15   \n",
       "\n",
       "   test_proportion  batch_size  \n",
       "0              0.2          16  "
      ]
     },
     "execution_count": 16,
     "metadata": {},
     "output_type": "execute_result"
    }
   ],
   "source": [
    "pd.DataFrame(conf['mot20_ext_v1'], index=[0])"
   ]
  },
  {
   "attachments": {},
   "cell_type": "markdown",
   "metadata": {},
   "source": [
    "## Проверка функций"
   ]
  },
  {
   "cell_type": "code",
   "execution_count": 17,
   "metadata": {},
   "outputs": [],
   "source": [
    "# save_train_results(\n",
    "#     'siamese1',\n",
    "#     datetime.now(),\n",
    "#     10, \n",
    "#     1e-3,\n",
    "#     'adam',\n",
    "#     'contrastive',\n",
    "#     'mot20_ext_v1',\n",
    "#     0.5,\n",
    "#     3\n",
    "# )"
   ]
  },
  {
   "cell_type": "code",
   "execution_count": 18,
   "metadata": {},
   "outputs": [],
   "source": [
    "# save_train_results(\n",
    "#     'siamese2',\n",
    "#     datetime.now(),\n",
    "#     10, \n",
    "#     1e-3,\n",
    "#     'adam',\n",
    "#     'contrastive',\n",
    "#     'mot20_ext_v1',\n",
    "#     0.5,\n",
    "#     3,\n",
    "#     conf['mot20_ext_v1']\n",
    "# )"
   ]
  },
  {
   "cell_type": "code",
   "execution_count": 19,
   "metadata": {},
   "outputs": [],
   "source": [
    "# save_train_results(\n",
    "#     'siamese2',\n",
    "#     datetime.now(),\n",
    "#     10, \n",
    "#     1e-3,\n",
    "#     'adam',\n",
    "#     'contrastive',\n",
    "#     'mot20_ext_v1',\n",
    "#     0.5,\n",
    "#     3,\n",
    "#     conf['mot20_ext_v1']\n",
    "# )"
   ]
  },
  {
   "cell_type": "code",
   "execution_count": 20,
   "metadata": {},
   "outputs": [],
   "source": [
    "# save_train_results(\n",
    "#     'siamese2',\n",
    "#     datetime.now(),\n",
    "#     10, \n",
    "#     1e-3,\n",
    "#     'adam',\n",
    "#     'contrastive',\n",
    "#     'mot20_ext_v1',\n",
    "#     0.5,\n",
    "#     3,\n",
    "#     conf['mot20_ext_v2']\n",
    "# )"
   ]
  },
  {
   "attachments": {},
   "cell_type": "markdown",
   "metadata": {},
   "source": [
    "### Экстра параметры"
   ]
  },
  {
   "cell_type": "code",
   "execution_count": 21,
   "metadata": {},
   "outputs": [
    {
     "name": "stdout",
     "output_type": "stream",
     "text": [
      "visibility_threshold 0.7\n",
      "frame_distance 3\n",
      "negative_proportion 0.5\n"
     ]
    }
   ],
   "source": [
    "extra = {\n",
    "    'visibility_threshold': 0.7,\n",
    "    'frame_distance': 3,\n",
    "    'negative_proportion': 0.5\n",
    "}\n",
    "\n",
    "for k, v in zip(extra, extra.values()):\n",
    "    print(k, v)"
   ]
  },
  {
   "cell_type": "code",
   "execution_count": 22,
   "metadata": {},
   "outputs": [
    {
     "data": {
      "text/plain": [
       "'visibility_threshold=0.7;frame_distance=3;negative_proportion=0.5'"
      ]
     },
     "execution_count": 22,
     "metadata": {},
     "output_type": "execute_result"
    }
   ],
   "source": [
    "';'.join([f'{k}={v}' for k, v in zip(extra, extra.values())])"
   ]
  },
  {
   "cell_type": "code",
   "execution_count": 23,
   "metadata": {},
   "outputs": [
    {
     "data": {
      "text/plain": [
       "{'dataset_config': 'mot20_ext_v2',\n",
       " 'dataset': 'MOT20_ext',\n",
       " 'dataset_use': 0.002,\n",
       " 'train_proportion': 0.65,\n",
       " 'val_proportion': 0.15,\n",
       " 'test_proportion': 0.2,\n",
       " 'batch_size': 16,\n",
       " 'extra_values': 'visibility_threshold=0.7;frame_distance=3;negative_proportion=0.5'}"
      ]
     },
     "execution_count": 23,
     "metadata": {},
     "output_type": "execute_result"
    }
   ],
   "source": [
    "c = conf['mot20_ext_v2']\n",
    "c['extra_values'] = ';'.join([f'{k}={v}' for k, v in zip(\n",
    "    c['extra_values'], c['extra_values'].values())])\n",
    "c"
   ]
  },
  {
   "cell_type": "code",
   "execution_count": 24,
   "metadata": {},
   "outputs": [],
   "source": [
    "# save_train_results(\n",
    "#     'siamese2',\n",
    "#     datetime.now(),\n",
    "#     10, \n",
    "#     1e-3,\n",
    "#     'adam',\n",
    "#     'contrastive',\n",
    "#     'mot20_ext_v1',\n",
    "#     0.5,\n",
    "#     3,\n",
    "#     conf['mot20_ext_v2']\n",
    "# )"
   ]
  },
  {
   "cell_type": "code",
   "execution_count": 25,
   "metadata": {},
   "outputs": [],
   "source": [
    "# pd.read_csv(join(RESULTS_PATH, 'configs.csv'))"
   ]
  },
  {
   "cell_type": "code",
   "execution_count": 26,
   "metadata": {},
   "outputs": [
    {
     "data": {
      "text/plain": [
       "'1.1;1.2;1.3'"
      ]
     },
     "execution_count": 26,
     "metadata": {},
     "output_type": "execute_result"
    }
   ],
   "source": [
    "a = [1.1, 1.2, 1.3]\n",
    "';'.join(map(str, a))"
   ]
  },
  {
   "attachments": {},
   "cell_type": "markdown",
   "metadata": {},
   "source": [
    "## Тестирование при обучении"
   ]
  },
  {
   "cell_type": "code",
   "execution_count": 27,
   "metadata": {},
   "outputs": [],
   "source": [
    "# настройка параметров датасета\n",
    "dataset_config = {\n",
    "    'dataset_config': 'mot20_ext-v1a',\n",
    "    'dataset': 'mot20_ext',\n",
    "    'dataset_use': 0.00002,\n",
    "    'val_proportion': 0.1,\n",
    "    'test_proportion': 0.2,\n",
    "    'batch_size': 1,\n",
    "    'extra_parameters': {\n",
    "        'visibility_threshold': 0.9,\n",
    "        'negative_proportion': 0.4\n",
    "    }\n",
    "}"
   ]
  },
  {
   "cell_type": "code",
   "execution_count": 28,
   "metadata": {},
   "outputs": [
    {
     "name": "stderr",
     "output_type": "stream",
     "text": [
      "/home/nick/reidentification/.conda/lib/python3.10/site-packages/torchvision/models/_utils.py:208: UserWarning: The parameter 'pretrained' is deprecated since 0.13 and will be removed in 0.15, please use 'weights' instead.\n",
      "  warnings.warn(\n",
      "/home/nick/reidentification/.conda/lib/python3.10/site-packages/torchvision/models/_utils.py:223: UserWarning: Arguments other than a weight enum or `None` for 'weights' are deprecated since 0.13 and will be removed in 0.15. The current behavior is equivalent to passing `weights=ResNet18_Weights.IMAGENET1K_V1`. You can also use `weights=ResNet18_Weights.DEFAULT` to get the most up-to-date weights.\n",
      "  warnings.warn(msg)\n"
     ]
    }
   ],
   "source": [
    "# создание трансформаций\n",
    "resize_transform = get_resize_transform((MOT20_EXT_FIRST_AXIS_MEAN, MOT20_EXT_SECOND_AXIS_MEAN)) \n",
    "norm_transform = get_norm_transform()\n",
    "transform = A.Compose([resize_transform, norm_transform])\n",
    "# загрузка даталоадеров\n",
    "train_loader, val_loader, test_loader = get_loaders(dataset_config, transform=transform)\n",
    "# настройка модели\n",
    "model_rn18_l4 = SiameseTransfered(\n",
    "    # выделение признаков - resnet18\n",
    "    torchvision.models.resnet18(pretrained=True),\n",
    "    # разморозка layer4 и выходного линейного\n",
    "    freeze_grad_fn=resnet_grad_l4_unlock,\n",
    "    # имя\n",
    "    name='siamese_resnet18_l4'\n",
    ")\n",
    "\n",
    "lr = 1e-3\n",
    "criterion = ContrastiveLoss()\n",
    "optimizer = Adam(model_rn18_l4.parameters(), lr)\n",
    "device = torch.device(\"cuda:0\" if torch.cuda.is_available() else \"cpu\")\n"
   ]
  },
  {
   "cell_type": "code",
   "execution_count": 29,
   "metadata": {},
   "outputs": [
    {
     "name": "stdout",
     "output_type": "stream",
     "text": [
      "Epoch 0/0:\n"
     ]
    },
    {
     "name": "stderr",
     "output_type": "stream",
     "text": [
      "100%|██████████| 6/6 [00:03<00:00,  1.81it/s]"
     ]
    },
    {
     "name": "stdout",
     "output_type": "stream",
     "text": [
      "train Loss: 14.5875 Acc: 0.0000\n"
     ]
    },
    {
     "name": "stderr",
     "output_type": "stream",
     "text": [
      "\n",
      "100%|██████████| 1/1 [00:00<00:00,  2.97it/s]"
     ]
    },
    {
     "name": "stdout",
     "output_type": "stream",
     "text": [
      "val Loss: 1219.5216 Acc: 0.0000\n",
      "Model saved at siamese_resnet18_l4.pth\n"
     ]
    },
    {
     "name": "stderr",
     "output_type": "stream",
     "text": [
      "\n",
      "/home/nick/reidentification/src/train/utils.py:111: FutureWarning: The frame.append method is deprecated and will be removed from pandas in a future version. Use pandas.concat instead.\n",
      "  df = df.append(pd.DataFrame({\n",
      "/home/nick/reidentification/src/train/utils.py:153: FutureWarning: The frame.append method is deprecated and will be removed from pandas in a future version. Use pandas.concat instead.\n",
      "  df_config = df_config.append(config_append)\n"
     ]
    }
   ],
   "source": [
    "model, results = train_siamese(\n",
    "    config=dataset_config,\n",
    "    criterion=criterion,\n",
    "    device=device,\n",
    "    epoch_count=1,\n",
    "    lr=lr,\n",
    "    model=model_rn18_l4,\n",
    "    optimizer=optimizer,\n",
    "    threshold=0.25,\n",
    "    train_loader=train_loader,\n",
    "    val_loader=val_loader,\n",
    ")"
   ]
  },
  {
   "cell_type": "code",
   "execution_count": 30,
   "metadata": {},
   "outputs": [
    {
     "data": {
      "text/plain": [
       "0.5"
      ]
     },
     "execution_count": 30,
     "metadata": {},
     "output_type": "execute_result"
    }
   ],
   "source": [
    "torch.eq(torch.tensor([1, 2]), torch.tensor([1, 1])).float().mean().item()"
   ]
  },
  {
   "attachments": {},
   "cell_type": "markdown",
   "metadata": {},
   "source": [
    "## Воспроизведение результатов"
   ]
  },
  {
   "cell_type": "code",
   "execution_count": 31,
   "metadata": {},
   "outputs": [
    {
     "data": {
      "text/html": [
       "<div>\n",
       "<style scoped>\n",
       "    .dataframe tbody tr th:only-of-type {\n",
       "        vertical-align: middle;\n",
       "    }\n",
       "\n",
       "    .dataframe tbody tr th {\n",
       "        vertical-align: top;\n",
       "    }\n",
       "\n",
       "    .dataframe thead th {\n",
       "        text-align: right;\n",
       "    }\n",
       "</style>\n",
       "<table border=\"1\" class=\"dataframe\">\n",
       "  <thead>\n",
       "    <tr style=\"text-align: right;\">\n",
       "      <th></th>\n",
       "      <th>model_name</th>\n",
       "      <th>datetime</th>\n",
       "      <th>epoch_count</th>\n",
       "      <th>optimizer</th>\n",
       "      <th>lr</th>\n",
       "      <th>gamma</th>\n",
       "      <th>step_size</th>\n",
       "      <th>loss_name</th>\n",
       "      <th>dataset_config</th>\n",
       "      <th>extra_parameters</th>\n",
       "      <th>val_losses</th>\n",
       "      <th>val_accuracies</th>\n",
       "      <th>test_accuracy</th>\n",
       "    </tr>\n",
       "  </thead>\n",
       "  <tbody>\n",
       "    <tr>\n",
       "      <th>0</th>\n",
       "      <td>siamese_resnet18_l4</td>\n",
       "      <td>2023-05-15 14:13:31.457448</td>\n",
       "      <td>1</td>\n",
       "      <td>Adam</td>\n",
       "      <td>0.001</td>\n",
       "      <td>NaN</td>\n",
       "      <td>NaN</td>\n",
       "      <td>ContrastiveLoss</td>\n",
       "      <td>mot20_ext-v1a</td>\n",
       "      <td>visibility_threshold=0.9;negative_proportion=0.4</td>\n",
       "      <td>1219.521606</td>\n",
       "      <td>0.0</td>\n",
       "      <td>NaN</td>\n",
       "    </tr>\n",
       "  </tbody>\n",
       "</table>\n",
       "</div>"
      ],
      "text/plain": [
       "            model_name                    datetime  epoch_count optimizer  \\\n",
       "0  siamese_resnet18_l4  2023-05-15 14:13:31.457448            1      Adam   \n",
       "\n",
       "      lr  gamma  step_size        loss_name dataset_config  \\\n",
       "0  0.001    NaN        NaN  ContrastiveLoss  mot20_ext-v1a   \n",
       "\n",
       "                                   extra_parameters   val_losses  \\\n",
       "0  visibility_threshold=0.9;negative_proportion=0.4  1219.521606   \n",
       "\n",
       "   val_accuracies  test_accuracy  \n",
       "0             0.0            NaN  "
      ]
     },
     "execution_count": 31,
     "metadata": {},
     "output_type": "execute_result"
    }
   ],
   "source": [
    "pd.read_csv(file_path)"
   ]
  },
  {
   "cell_type": "code",
   "execution_count": 32,
   "metadata": {},
   "outputs": [
    {
     "data": {
      "text/html": [
       "<div>\n",
       "<style scoped>\n",
       "    .dataframe tbody tr th:only-of-type {\n",
       "        vertical-align: middle;\n",
       "    }\n",
       "\n",
       "    .dataframe tbody tr th {\n",
       "        vertical-align: top;\n",
       "    }\n",
       "\n",
       "    .dataframe thead th {\n",
       "        text-align: right;\n",
       "    }\n",
       "</style>\n",
       "<table border=\"1\" class=\"dataframe\">\n",
       "  <thead>\n",
       "    <tr style=\"text-align: right;\">\n",
       "      <th></th>\n",
       "      <th>dataset_config</th>\n",
       "      <th>dataset</th>\n",
       "      <th>dataset_use</th>\n",
       "      <th>train_proportion</th>\n",
       "      <th>val_proportion</th>\n",
       "      <th>test_proportion</th>\n",
       "      <th>batch_size</th>\n",
       "      <th>extra_parameters</th>\n",
       "    </tr>\n",
       "  </thead>\n",
       "  <tbody>\n",
       "    <tr>\n",
       "      <th>0</th>\n",
       "      <td>mot20_ext-v1a</td>\n",
       "      <td>mot20_ext</td>\n",
       "      <td>0.00002</td>\n",
       "      <td>NaN</td>\n",
       "      <td>0.1</td>\n",
       "      <td>0.2</td>\n",
       "      <td>1</td>\n",
       "      <td>visibility_threshold=0.9;negative_proportion=0.4</td>\n",
       "    </tr>\n",
       "  </tbody>\n",
       "</table>\n",
       "</div>"
      ],
      "text/plain": [
       "  dataset_config    dataset  dataset_use  train_proportion  val_proportion  \\\n",
       "0  mot20_ext-v1a  mot20_ext      0.00002               NaN             0.1   \n",
       "\n",
       "   test_proportion  batch_size  \\\n",
       "0              0.2           1   \n",
       "\n",
       "                                   extra_parameters  \n",
       "0  visibility_threshold=0.9;negative_proportion=0.4  "
      ]
     },
     "execution_count": 32,
     "metadata": {},
     "output_type": "execute_result"
    }
   ],
   "source": [
    "pd.read_csv(config_path)"
   ]
  }
 ],
 "metadata": {
  "kernelspec": {
   "display_name": "Python 3",
   "language": "python",
   "name": "python3"
  },
  "language_info": {
   "codemirror_mode": {
    "name": "ipython",
    "version": 3
   },
   "file_extension": ".py",
   "mimetype": "text/x-python",
   "name": "python",
   "nbconvert_exporter": "python",
   "pygments_lexer": "ipython3",
   "version": "3.10.11"
  },
  "orig_nbformat": 4
 },
 "nbformat": 4,
 "nbformat_minor": 2
}
