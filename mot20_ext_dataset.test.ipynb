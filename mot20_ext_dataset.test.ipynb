{
 "cells": [
  {
   "attachments": {},
   "cell_type": "markdown",
   "metadata": {},
   "source": [
    "## Тестирование датасета MOT20_ext"
   ]
  },
  {
   "cell_type": "code",
   "execution_count": 5,
   "metadata": {},
   "outputs": [],
   "source": [
    "import functools\n",
    "\n",
    "import cv2\n",
    "import torch\n",
    "import matplotlib as plt\n",
    "import numpy as np\n",
    "import pandas as pd\n",
    "from sklearn.model_selection import train_test_split\n",
    "from torch import Generator\n",
    "from torch.utils.data import ConcatDataset, DataLoader, Subset, random_split\n",
    "from tqdm import tqdm\n",
    "\n",
    "from src.data import MOT20ExtDataset\n",
    "from src.transforms import get_norm_transform, get_resize_transform\n",
    "from src.data.preparing.mot import get_dataframe\n",
    "from src.config import DATA_PATH\n",
    "from os.path import join"
   ]
  },
  {
   "cell_type": "code",
   "execution_count": 1,
   "metadata": {},
   "outputs": [
    {
     "ename": "NameError",
     "evalue": "name 'MOT20ExtDataset' is not defined",
     "output_type": "error",
     "traceback": [
      "\u001b[0;31m---------------------------------------------------------------------------\u001b[0m",
      "\u001b[0;31mNameError\u001b[0m                                 Traceback (most recent call last)",
      "Cell \u001b[0;32mIn[1], line 1\u001b[0m\n\u001b[0;32m----> 1\u001b[0m dataset \u001b[39m=\u001b[39m MOT20ExtDataset(\u001b[39m'\u001b[39m\u001b[39mdata/MOT20_ext/train/MOT20-01/\u001b[39m\u001b[39m'\u001b[39m)\n",
      "\u001b[0;31mNameError\u001b[0m: name 'MOT20ExtDataset' is not defined"
     ]
    }
   ],
   "source": [
    "dataset = MOT20ExtDataset('data/MOT20_ext/train/MOT20-01/')"
   ]
  },
  {
   "attachments": {},
   "cell_type": "markdown",
   "metadata": {},
   "source": [
    "### Полное тестирование "
   ]
  },
  {
   "cell_type": "code",
   "execution_count": 3,
   "metadata": {},
   "outputs": [
    {
     "data": {
      "text/plain": [
       "4768"
      ]
     },
     "execution_count": 3,
     "metadata": {},
     "output_type": "execute_result"
    }
   ],
   "source": [
    "len(dataset)"
   ]
  },
  {
   "cell_type": "code",
   "execution_count": 4,
   "metadata": {},
   "outputs": [],
   "source": [
    "img1, img2, label = dataset[4000]"
   ]
  },
  {
   "cell_type": "code",
   "execution_count": 6,
   "metadata": {},
   "outputs": [
    {
     "data": {
      "text/plain": [
       "0"
      ]
     },
     "execution_count": 6,
     "metadata": {},
     "output_type": "execute_result"
    }
   ],
   "source": [
    "label"
   ]
  },
  {
   "cell_type": "code",
   "execution_count": 6,
   "metadata": {},
   "outputs": [],
   "source": [
    "def display_images(img_tensor, title=''):\n",
    "    image = img_tensor.permute(1, 2, 0).numpy()\n",
    "    plt.imshow(image.clip(0, 1))\n",
    "    plt.title(title)\n",
    "    plt.show()\n",
    "    plt.pause(0.001)"
   ]
  },
  {
   "cell_type": "code",
   "execution_count": 7,
   "metadata": {},
   "outputs": [
    {
     "data": {
      "text/plain": [
       "1.0"
      ]
     },
     "execution_count": 7,
     "metadata": {},
     "output_type": "execute_result"
    }
   ],
   "source": [
    "TEST_PROPROTION = 0.2\n",
    "VAL_PROPORTION = 0.1\n",
    "TRAIN_PROPORTION = 1 - TEST_PROPROTION - VAL_PROPORTION\n",
    "sum([TEST_PROPROTION, VAL_PROPORTION, TRAIN_PROPORTION])"
   ]
  },
  {
   "cell_type": "code",
   "execution_count": 8,
   "metadata": {},
   "outputs": [],
   "source": [
    "train_set, val_set, test_set = random_split(dataset, [TRAIN_PROPORTION, VAL_PROPORTION, TEST_PROPROTION], generator=Generator().manual_seed(0))"
   ]
  },
  {
   "cell_type": "code",
   "execution_count": 9,
   "metadata": {},
   "outputs": [
    {
     "data": {
      "text/plain": [
       "(1669, 239, 476)"
      ]
     },
     "execution_count": 9,
     "metadata": {},
     "output_type": "execute_result"
    }
   ],
   "source": [
    "len(train_set), len(val_set), len(test_set)"
   ]
  },
  {
   "cell_type": "code",
   "execution_count": null,
   "metadata": {},
   "outputs": [],
   "source": []
  },
  {
   "cell_type": "code",
   "execution_count": 11,
   "metadata": {},
   "outputs": [],
   "source": [
    "# display_images(img1)"
   ]
  },
  {
   "attachments": {},
   "cell_type": "markdown",
   "metadata": {},
   "source": [
    "### Фильтрация"
   ]
  },
  {
   "cell_type": "code",
   "execution_count": 12,
   "metadata": {},
   "outputs": [
    {
     "data": {
      "text/html": [
       "<div>\n",
       "<style scoped>\n",
       "    .dataframe tbody tr th:only-of-type {\n",
       "        vertical-align: middle;\n",
       "    }\n",
       "\n",
       "    .dataframe tbody tr th {\n",
       "        vertical-align: top;\n",
       "    }\n",
       "\n",
       "    .dataframe thead th {\n",
       "        text-align: right;\n",
       "    }\n",
       "</style>\n",
       "<table border=\"1\" class=\"dataframe\">\n",
       "  <thead>\n",
       "    <tr style=\"text-align: right;\">\n",
       "      <th></th>\n",
       "      <th>frame</th>\n",
       "      <th>id</th>\n",
       "      <th>bb_left</th>\n",
       "      <th>bb_top</th>\n",
       "      <th>bb_width</th>\n",
       "      <th>bb_height</th>\n",
       "      <th>is_consider</th>\n",
       "      <th>class</th>\n",
       "      <th>visibility</th>\n",
       "    </tr>\n",
       "  </thead>\n",
       "  <tbody>\n",
       "    <tr>\n",
       "      <th>391</th>\n",
       "      <td>54</td>\n",
       "      <td>2</td>\n",
       "      <td>455</td>\n",
       "      <td>808</td>\n",
       "      <td>113</td>\n",
       "      <td>271</td>\n",
       "      <td>1</td>\n",
       "      <td>1</td>\n",
       "      <td>1.0</td>\n",
       "    </tr>\n",
       "    <tr>\n",
       "      <th>392</th>\n",
       "      <td>55</td>\n",
       "      <td>2</td>\n",
       "      <td>457</td>\n",
       "      <td>808</td>\n",
       "      <td>113</td>\n",
       "      <td>272</td>\n",
       "      <td>1</td>\n",
       "      <td>1</td>\n",
       "      <td>1.0</td>\n",
       "    </tr>\n",
       "    <tr>\n",
       "      <th>393</th>\n",
       "      <td>56</td>\n",
       "      <td>2</td>\n",
       "      <td>459</td>\n",
       "      <td>806</td>\n",
       "      <td>113</td>\n",
       "      <td>274</td>\n",
       "      <td>1</td>\n",
       "      <td>1</td>\n",
       "      <td>1.0</td>\n",
       "    </tr>\n",
       "    <tr>\n",
       "      <th>394</th>\n",
       "      <td>57</td>\n",
       "      <td>2</td>\n",
       "      <td>461</td>\n",
       "      <td>804</td>\n",
       "      <td>113</td>\n",
       "      <td>276</td>\n",
       "      <td>1</td>\n",
       "      <td>1</td>\n",
       "      <td>1.0</td>\n",
       "    </tr>\n",
       "    <tr>\n",
       "      <th>395</th>\n",
       "      <td>58</td>\n",
       "      <td>2</td>\n",
       "      <td>463</td>\n",
       "      <td>802</td>\n",
       "      <td>114</td>\n",
       "      <td>278</td>\n",
       "      <td>1</td>\n",
       "      <td>1</td>\n",
       "      <td>1.0</td>\n",
       "    </tr>\n",
       "    <tr>\n",
       "      <th>...</th>\n",
       "      <td>...</td>\n",
       "      <td>...</td>\n",
       "      <td>...</td>\n",
       "      <td>...</td>\n",
       "      <td>...</td>\n",
       "      <td>...</td>\n",
       "      <td>...</td>\n",
       "      <td>...</td>\n",
       "      <td>...</td>\n",
       "    </tr>\n",
       "    <tr>\n",
       "      <th>18529</th>\n",
       "      <td>425</td>\n",
       "      <td>61</td>\n",
       "      <td>969</td>\n",
       "      <td>517</td>\n",
       "      <td>61</td>\n",
       "      <td>139</td>\n",
       "      <td>1</td>\n",
       "      <td>1</td>\n",
       "      <td>1.0</td>\n",
       "    </tr>\n",
       "    <tr>\n",
       "      <th>18530</th>\n",
       "      <td>426</td>\n",
       "      <td>61</td>\n",
       "      <td>970</td>\n",
       "      <td>518</td>\n",
       "      <td>61</td>\n",
       "      <td>139</td>\n",
       "      <td>1</td>\n",
       "      <td>1</td>\n",
       "      <td>1.0</td>\n",
       "    </tr>\n",
       "    <tr>\n",
       "      <th>18531</th>\n",
       "      <td>427</td>\n",
       "      <td>61</td>\n",
       "      <td>972</td>\n",
       "      <td>519</td>\n",
       "      <td>61</td>\n",
       "      <td>139</td>\n",
       "      <td>1</td>\n",
       "      <td>1</td>\n",
       "      <td>1.0</td>\n",
       "    </tr>\n",
       "    <tr>\n",
       "      <th>18532</th>\n",
       "      <td>428</td>\n",
       "      <td>61</td>\n",
       "      <td>973</td>\n",
       "      <td>520</td>\n",
       "      <td>61</td>\n",
       "      <td>139</td>\n",
       "      <td>1</td>\n",
       "      <td>1</td>\n",
       "      <td>1.0</td>\n",
       "    </tr>\n",
       "    <tr>\n",
       "      <th>18533</th>\n",
       "      <td>429</td>\n",
       "      <td>61</td>\n",
       "      <td>975</td>\n",
       "      <td>522</td>\n",
       "      <td>61</td>\n",
       "      <td>139</td>\n",
       "      <td>1</td>\n",
       "      <td>1</td>\n",
       "      <td>1.0</td>\n",
       "    </tr>\n",
       "  </tbody>\n",
       "</table>\n",
       "<p>2486 rows × 9 columns</p>\n",
       "</div>"
      ],
      "text/plain": [
       "       frame  id  bb_left  bb_top  ...  bb_height  is_consider  class  visibility\n",
       "391       54   2      455     808  ...        271            1      1         1.0\n",
       "392       55   2      457     808  ...        272            1      1         1.0\n",
       "393       56   2      459     806  ...        274            1      1         1.0\n",
       "394       57   2      461     804  ...        276            1      1         1.0\n",
       "395       58   2      463     802  ...        278            1      1         1.0\n",
       "...      ...  ..      ...     ...  ...        ...          ...    ...         ...\n",
       "18529    425  61      969     517  ...        139            1      1         1.0\n",
       "18530    426  61      970     518  ...        139            1      1         1.0\n",
       "18531    427  61      972     519  ...        139            1      1         1.0\n",
       "18532    428  61      973     520  ...        139            1      1         1.0\n",
       "18533    429  61      975     522  ...        139            1      1         1.0\n",
       "\n",
       "[2486 rows x 9 columns]"
      ]
     },
     "execution_count": 12,
     "metadata": {},
     "output_type": "execute_result"
    }
   ],
   "source": [
    "df = dataset.ground_truth\n",
    "df"
   ]
  },
  {
   "cell_type": "code",
   "execution_count": 13,
   "metadata": {},
   "outputs": [
    {
     "data": {
      "text/plain": [
       "2384"
      ]
     },
     "execution_count": 13,
     "metadata": {},
     "output_type": "execute_result"
    }
   ],
   "source": [
    "len(dataset)\n",
    "len(dataset)\n",
    "len(dataset)"
   ]
  },
  {
   "cell_type": "code",
   "execution_count": 14,
   "metadata": {},
   "outputs": [
    {
     "data": {
      "text/html": [
       "<div>\n",
       "<style scoped>\n",
       "    .dataframe tbody tr th:only-of-type {\n",
       "        vertical-align: middle;\n",
       "    }\n",
       "\n",
       "    .dataframe tbody tr th {\n",
       "        vertical-align: top;\n",
       "    }\n",
       "\n",
       "    .dataframe thead th {\n",
       "        text-align: right;\n",
       "    }\n",
       "</style>\n",
       "<table border=\"1\" class=\"dataframe\">\n",
       "  <thead>\n",
       "    <tr style=\"text-align: right;\">\n",
       "      <th></th>\n",
       "      <th>frame</th>\n",
       "      <th>id</th>\n",
       "      <th>bb_left</th>\n",
       "      <th>bb_top</th>\n",
       "      <th>bb_width</th>\n",
       "      <th>bb_height</th>\n",
       "      <th>is_consider</th>\n",
       "      <th>class</th>\n",
       "      <th>visibility</th>\n",
       "    </tr>\n",
       "  </thead>\n",
       "  <tbody>\n",
       "    <tr>\n",
       "      <th>391</th>\n",
       "      <td>54</td>\n",
       "      <td>2</td>\n",
       "      <td>455</td>\n",
       "      <td>808</td>\n",
       "      <td>113</td>\n",
       "      <td>271</td>\n",
       "      <td>1</td>\n",
       "      <td>1</td>\n",
       "      <td>1.0</td>\n",
       "    </tr>\n",
       "    <tr>\n",
       "      <th>392</th>\n",
       "      <td>55</td>\n",
       "      <td>2</td>\n",
       "      <td>457</td>\n",
       "      <td>808</td>\n",
       "      <td>113</td>\n",
       "      <td>272</td>\n",
       "      <td>1</td>\n",
       "      <td>1</td>\n",
       "      <td>1.0</td>\n",
       "    </tr>\n",
       "    <tr>\n",
       "      <th>393</th>\n",
       "      <td>56</td>\n",
       "      <td>2</td>\n",
       "      <td>459</td>\n",
       "      <td>806</td>\n",
       "      <td>113</td>\n",
       "      <td>274</td>\n",
       "      <td>1</td>\n",
       "      <td>1</td>\n",
       "      <td>1.0</td>\n",
       "    </tr>\n",
       "    <tr>\n",
       "      <th>394</th>\n",
       "      <td>57</td>\n",
       "      <td>2</td>\n",
       "      <td>461</td>\n",
       "      <td>804</td>\n",
       "      <td>113</td>\n",
       "      <td>276</td>\n",
       "      <td>1</td>\n",
       "      <td>1</td>\n",
       "      <td>1.0</td>\n",
       "    </tr>\n",
       "    <tr>\n",
       "      <th>395</th>\n",
       "      <td>58</td>\n",
       "      <td>2</td>\n",
       "      <td>463</td>\n",
       "      <td>802</td>\n",
       "      <td>114</td>\n",
       "      <td>278</td>\n",
       "      <td>1</td>\n",
       "      <td>1</td>\n",
       "      <td>1.0</td>\n",
       "    </tr>\n",
       "    <tr>\n",
       "      <th>...</th>\n",
       "      <td>...</td>\n",
       "      <td>...</td>\n",
       "      <td>...</td>\n",
       "      <td>...</td>\n",
       "      <td>...</td>\n",
       "      <td>...</td>\n",
       "      <td>...</td>\n",
       "      <td>...</td>\n",
       "      <td>...</td>\n",
       "    </tr>\n",
       "    <tr>\n",
       "      <th>18529</th>\n",
       "      <td>425</td>\n",
       "      <td>61</td>\n",
       "      <td>969</td>\n",
       "      <td>517</td>\n",
       "      <td>61</td>\n",
       "      <td>139</td>\n",
       "      <td>1</td>\n",
       "      <td>1</td>\n",
       "      <td>1.0</td>\n",
       "    </tr>\n",
       "    <tr>\n",
       "      <th>18530</th>\n",
       "      <td>426</td>\n",
       "      <td>61</td>\n",
       "      <td>970</td>\n",
       "      <td>518</td>\n",
       "      <td>61</td>\n",
       "      <td>139</td>\n",
       "      <td>1</td>\n",
       "      <td>1</td>\n",
       "      <td>1.0</td>\n",
       "    </tr>\n",
       "    <tr>\n",
       "      <th>18531</th>\n",
       "      <td>427</td>\n",
       "      <td>61</td>\n",
       "      <td>972</td>\n",
       "      <td>519</td>\n",
       "      <td>61</td>\n",
       "      <td>139</td>\n",
       "      <td>1</td>\n",
       "      <td>1</td>\n",
       "      <td>1.0</td>\n",
       "    </tr>\n",
       "    <tr>\n",
       "      <th>18532</th>\n",
       "      <td>428</td>\n",
       "      <td>61</td>\n",
       "      <td>973</td>\n",
       "      <td>520</td>\n",
       "      <td>61</td>\n",
       "      <td>139</td>\n",
       "      <td>1</td>\n",
       "      <td>1</td>\n",
       "      <td>1.0</td>\n",
       "    </tr>\n",
       "    <tr>\n",
       "      <th>18533</th>\n",
       "      <td>429</td>\n",
       "      <td>61</td>\n",
       "      <td>975</td>\n",
       "      <td>522</td>\n",
       "      <td>61</td>\n",
       "      <td>139</td>\n",
       "      <td>1</td>\n",
       "      <td>1</td>\n",
       "      <td>1.0</td>\n",
       "    </tr>\n",
       "  </tbody>\n",
       "</table>\n",
       "<p>2486 rows × 9 columns</p>\n",
       "</div>"
      ],
      "text/plain": [
       "       frame  id  bb_left  bb_top  ...  bb_height  is_consider  class  visibility\n",
       "391       54   2      455     808  ...        271            1      1         1.0\n",
       "392       55   2      457     808  ...        272            1      1         1.0\n",
       "393       56   2      459     806  ...        274            1      1         1.0\n",
       "394       57   2      461     804  ...        276            1      1         1.0\n",
       "395       58   2      463     802  ...        278            1      1         1.0\n",
       "...      ...  ..      ...     ...  ...        ...          ...    ...         ...\n",
       "18529    425  61      969     517  ...        139            1      1         1.0\n",
       "18530    426  61      970     518  ...        139            1      1         1.0\n",
       "18531    427  61      972     519  ...        139            1      1         1.0\n",
       "18532    428  61      973     520  ...        139            1      1         1.0\n",
       "18533    429  61      975     522  ...        139            1      1         1.0\n",
       "\n",
       "[2486 rows x 9 columns]"
      ]
     },
     "execution_count": 14,
     "metadata": {},
     "output_type": "execute_result"
    }
   ],
   "source": [
    "df = df[df['is_consider'] == 1]\n",
    "df"
   ]
  },
  {
   "cell_type": "code",
   "execution_count": 15,
   "metadata": {},
   "outputs": [],
   "source": [
    "test_visibility = 0.95"
   ]
  },
  {
   "cell_type": "code",
   "execution_count": 16,
   "metadata": {},
   "outputs": [
    {
     "data": {
      "text/html": [
       "<div>\n",
       "<style scoped>\n",
       "    .dataframe tbody tr th:only-of-type {\n",
       "        vertical-align: middle;\n",
       "    }\n",
       "\n",
       "    .dataframe tbody tr th {\n",
       "        vertical-align: top;\n",
       "    }\n",
       "\n",
       "    .dataframe thead th {\n",
       "        text-align: right;\n",
       "    }\n",
       "</style>\n",
       "<table border=\"1\" class=\"dataframe\">\n",
       "  <thead>\n",
       "    <tr style=\"text-align: right;\">\n",
       "      <th></th>\n",
       "      <th>frame</th>\n",
       "      <th>id</th>\n",
       "      <th>bb_left</th>\n",
       "      <th>bb_top</th>\n",
       "      <th>bb_width</th>\n",
       "      <th>bb_height</th>\n",
       "      <th>is_consider</th>\n",
       "      <th>class</th>\n",
       "      <th>visibility</th>\n",
       "    </tr>\n",
       "  </thead>\n",
       "  <tbody>\n",
       "    <tr>\n",
       "      <th>391</th>\n",
       "      <td>54</td>\n",
       "      <td>2</td>\n",
       "      <td>455</td>\n",
       "      <td>808</td>\n",
       "      <td>113</td>\n",
       "      <td>271</td>\n",
       "      <td>1</td>\n",
       "      <td>1</td>\n",
       "      <td>1.0</td>\n",
       "    </tr>\n",
       "    <tr>\n",
       "      <th>392</th>\n",
       "      <td>55</td>\n",
       "      <td>2</td>\n",
       "      <td>457</td>\n",
       "      <td>808</td>\n",
       "      <td>113</td>\n",
       "      <td>272</td>\n",
       "      <td>1</td>\n",
       "      <td>1</td>\n",
       "      <td>1.0</td>\n",
       "    </tr>\n",
       "    <tr>\n",
       "      <th>393</th>\n",
       "      <td>56</td>\n",
       "      <td>2</td>\n",
       "      <td>459</td>\n",
       "      <td>806</td>\n",
       "      <td>113</td>\n",
       "      <td>274</td>\n",
       "      <td>1</td>\n",
       "      <td>1</td>\n",
       "      <td>1.0</td>\n",
       "    </tr>\n",
       "    <tr>\n",
       "      <th>394</th>\n",
       "      <td>57</td>\n",
       "      <td>2</td>\n",
       "      <td>461</td>\n",
       "      <td>804</td>\n",
       "      <td>113</td>\n",
       "      <td>276</td>\n",
       "      <td>1</td>\n",
       "      <td>1</td>\n",
       "      <td>1.0</td>\n",
       "    </tr>\n",
       "    <tr>\n",
       "      <th>395</th>\n",
       "      <td>58</td>\n",
       "      <td>2</td>\n",
       "      <td>463</td>\n",
       "      <td>802</td>\n",
       "      <td>114</td>\n",
       "      <td>278</td>\n",
       "      <td>1</td>\n",
       "      <td>1</td>\n",
       "      <td>1.0</td>\n",
       "    </tr>\n",
       "    <tr>\n",
       "      <th>...</th>\n",
       "      <td>...</td>\n",
       "      <td>...</td>\n",
       "      <td>...</td>\n",
       "      <td>...</td>\n",
       "      <td>...</td>\n",
       "      <td>...</td>\n",
       "      <td>...</td>\n",
       "      <td>...</td>\n",
       "      <td>...</td>\n",
       "    </tr>\n",
       "    <tr>\n",
       "      <th>18529</th>\n",
       "      <td>425</td>\n",
       "      <td>61</td>\n",
       "      <td>969</td>\n",
       "      <td>517</td>\n",
       "      <td>61</td>\n",
       "      <td>139</td>\n",
       "      <td>1</td>\n",
       "      <td>1</td>\n",
       "      <td>1.0</td>\n",
       "    </tr>\n",
       "    <tr>\n",
       "      <th>18530</th>\n",
       "      <td>426</td>\n",
       "      <td>61</td>\n",
       "      <td>970</td>\n",
       "      <td>518</td>\n",
       "      <td>61</td>\n",
       "      <td>139</td>\n",
       "      <td>1</td>\n",
       "      <td>1</td>\n",
       "      <td>1.0</td>\n",
       "    </tr>\n",
       "    <tr>\n",
       "      <th>18531</th>\n",
       "      <td>427</td>\n",
       "      <td>61</td>\n",
       "      <td>972</td>\n",
       "      <td>519</td>\n",
       "      <td>61</td>\n",
       "      <td>139</td>\n",
       "      <td>1</td>\n",
       "      <td>1</td>\n",
       "      <td>1.0</td>\n",
       "    </tr>\n",
       "    <tr>\n",
       "      <th>18532</th>\n",
       "      <td>428</td>\n",
       "      <td>61</td>\n",
       "      <td>973</td>\n",
       "      <td>520</td>\n",
       "      <td>61</td>\n",
       "      <td>139</td>\n",
       "      <td>1</td>\n",
       "      <td>1</td>\n",
       "      <td>1.0</td>\n",
       "    </tr>\n",
       "    <tr>\n",
       "      <th>18533</th>\n",
       "      <td>429</td>\n",
       "      <td>61</td>\n",
       "      <td>975</td>\n",
       "      <td>522</td>\n",
       "      <td>61</td>\n",
       "      <td>139</td>\n",
       "      <td>1</td>\n",
       "      <td>1</td>\n",
       "      <td>1.0</td>\n",
       "    </tr>\n",
       "  </tbody>\n",
       "</table>\n",
       "<p>2486 rows × 9 columns</p>\n",
       "</div>"
      ],
      "text/plain": [
       "       frame  id  bb_left  bb_top  ...  bb_height  is_consider  class  visibility\n",
       "391       54   2      455     808  ...        271            1      1         1.0\n",
       "392       55   2      457     808  ...        272            1      1         1.0\n",
       "393       56   2      459     806  ...        274            1      1         1.0\n",
       "394       57   2      461     804  ...        276            1      1         1.0\n",
       "395       58   2      463     802  ...        278            1      1         1.0\n",
       "...      ...  ..      ...     ...  ...        ...          ...    ...         ...\n",
       "18529    425  61      969     517  ...        139            1      1         1.0\n",
       "18530    426  61      970     518  ...        139            1      1         1.0\n",
       "18531    427  61      972     519  ...        139            1      1         1.0\n",
       "18532    428  61      973     520  ...        139            1      1         1.0\n",
       "18533    429  61      975     522  ...        139            1      1         1.0\n",
       "\n",
       "[2486 rows x 9 columns]"
      ]
     },
     "execution_count": 16,
     "metadata": {},
     "output_type": "execute_result"
    }
   ],
   "source": [
    "df = df[df['visibility'] >= test_visibility]\n",
    "df"
   ]
  },
  {
   "attachments": {},
   "cell_type": "markdown",
   "metadata": {},
   "source": [
    "### Расчет длины"
   ]
  },
  {
   "cell_type": "code",
   "execution_count": 17,
   "metadata": {},
   "outputs": [
    {
     "data": {
      "text/plain": [
       "True"
      ]
     },
     "execution_count": 17,
     "metadata": {},
     "output_type": "execute_result"
    }
   ],
   "source": [
    "test_len = 1\n",
    "type(test_len) == int"
   ]
  },
  {
   "cell_type": "code",
   "execution_count": 18,
   "metadata": {},
   "outputs": [
    {
     "name": "stdout",
     "output_type": "stream",
     "text": [
      "[21 22 23 24 25 26]\n"
     ]
    }
   ],
   "source": [
    "objects = df[df['id'] == 4]\n",
    "print(objects['frame'].values)"
   ]
  },
  {
   "cell_type": "code",
   "execution_count": 19,
   "metadata": {},
   "outputs": [],
   "source": [
    "def aggregate(x, y):\n",
    "    if (not type(x) == list):\n",
    "        if (y - x == 1):\n",
    "            return [[x, y]]\n",
    "        else:\n",
    "            return [[x], [y]]\n",
    "    else:\n",
    "        last = x[-1][-1]\n",
    "        if (y - last > 1):\n",
    "            x.append([y])\n",
    "        else:\n",
    "            x[-1].append(y)\n",
    "    return x"
   ]
  },
  {
   "cell_type": "code",
   "execution_count": 20,
   "metadata": {},
   "outputs": [],
   "source": [
    "def split_to_continuous_segments(array):\n",
    "    \"\"\"Возвращает список непрерывных отрезков чисел\"\"\"\n",
    "    if (len(array) == 0):\n",
    "        return [[]]\n",
    "    elif (len(array) == 1):\n",
    "        return [array]\n",
    "    else:\n",
    "        return functools.reduce(aggregate, sorted(array))"
   ]
  },
  {
   "cell_type": "code",
   "execution_count": 21,
   "metadata": {},
   "outputs": [
    {
     "data": {
      "text/plain": [
       "[[1, 2], [4, 5, 6], [23]]"
      ]
     },
     "execution_count": 21,
     "metadata": {},
     "output_type": "execute_result"
    }
   ],
   "source": [
    "split_to_continuous_segments([2, 23, 4, 6, 5, 1])"
   ]
  },
  {
   "cell_type": "code",
   "execution_count": 22,
   "metadata": {},
   "outputs": [],
   "source": [
    "def get_possible_tuples_count_segment(distance: int, segment: list[int]) -> int:\n",
    "    return len(segment) - distance - 1"
   ]
  },
  {
   "cell_type": "code",
   "execution_count": 23,
   "metadata": {},
   "outputs": [],
   "source": [
    "def get_neighbours_tuples_count(distance: int, segments: list[list[int]]):\n",
    "    sum = 0\n",
    "    prev = None\n",
    "    for s in segments:\n",
    "        if (prev == None):\n",
    "            prev = s\n",
    "            continue\n",
    "        if (s[0] - prev[-1] - 1 == distance):\n",
    "            sum += 1\n",
    "        prev = s\n",
    "\n",
    "    return sum"
   ]
  },
  {
   "cell_type": "code",
   "execution_count": 24,
   "metadata": {},
   "outputs": [],
   "source": [
    "def get_possible_tuples_count(distance: int, segments: list[list[int]]) -> int:\n",
    "    sum = 0\n",
    "    for s in segments:\n",
    "        sum += max(0, get_possible_tuples_count_segment(distance, s))\n",
    "\n",
    "    sum += get_neighbours_tuples_count(distance, segments)\n",
    "    return sum"
   ]
  },
  {
   "attachments": {},
   "cell_type": "markdown",
   "metadata": {},
   "source": [
    "### Тестирование"
   ]
  },
  {
   "cell_type": "code",
   "execution_count": 25,
   "metadata": {},
   "outputs": [],
   "source": [
    "def f(d, s):\n",
    "    return get_possible_tuples_count_segment(d, s)\n",
    "\n",
    "def F(d, ss):\n",
    "    return get_possible_tuples_count(d, ss)"
   ]
  },
  {
   "cell_type": "code",
   "execution_count": 26,
   "metadata": {},
   "outputs": [],
   "source": [
    "ss = [[1, 2, 3]]\n",
    "\n",
    "assert(F(0, ss) == 2)\n",
    "assert(F(1, ss) == 1)\n",
    "assert(F(2, ss) == 0)"
   ]
  },
  {
   "cell_type": "code",
   "execution_count": 27,
   "metadata": {},
   "outputs": [],
   "source": [
    "ss = [[1, 2, 3], [5, 6]]\n",
    "\n",
    "assert(F(0, ss) == 3)\n",
    "assert(F(1, ss) == 2)"
   ]
  },
  {
   "cell_type": "code",
   "execution_count": 28,
   "metadata": {},
   "outputs": [],
   "source": [
    "ss = [[1, 2, 3], [5, 6, 7]]\n",
    "\n",
    "assert(F(0, ss) == 4)\n",
    "assert(F(1, ss) == 3)"
   ]
  },
  {
   "cell_type": "code",
   "execution_count": 29,
   "metadata": {},
   "outputs": [],
   "source": [
    "ss = [[1], [5, 6, 7, 8], [10, 11, 12]]\n",
    "\n",
    "assert (F(0, ss) == 5)\n",
    "assert(F(1, ss) == 4)"
   ]
  },
  {
   "cell_type": "code",
   "execution_count": 30,
   "metadata": {},
   "outputs": [],
   "source": [
    "ss = [[2], [5]]\n",
    "\n",
    "assert (F(0, ss) == 0)\n",
    "assert (F(1, ss) == 0)\n",
    "assert (F(2, ss) == 1)\n",
    "assert (F(3, ss) == 0)"
   ]
  },
  {
   "attachments": {},
   "cell_type": "markdown",
   "metadata": {},
   "source": [
    "### Индексация"
   ]
  },
  {
   "cell_type": "code",
   "execution_count": 31,
   "metadata": {},
   "outputs": [
    {
     "data": {
      "text/plain": [
       "{1: 3}"
      ]
     },
     "execution_count": 31,
     "metadata": {},
     "output_type": "execute_result"
    }
   ],
   "source": [
    "d = {1: 3}\n",
    "d"
   ]
  },
  {
   "cell_type": "code",
   "execution_count": 32,
   "metadata": {},
   "outputs": [],
   "source": [
    "l = [21, 43]\n",
    "list2 = [1, 2, 3]"
   ]
  },
  {
   "cell_type": "code",
   "execution_count": 33,
   "metadata": {},
   "outputs": [
    {
     "data": {
      "text/plain": [
       "[21, 43, 1, 2, 3]"
      ]
     },
     "execution_count": 33,
     "metadata": {},
     "output_type": "execute_result"
    }
   ],
   "source": [
    "l + list2"
   ]
  },
  {
   "cell_type": "code",
   "execution_count": 34,
   "metadata": {},
   "outputs": [],
   "source": [
    "from src.data.utils import get_possible_tuples"
   ]
  },
  {
   "cell_type": "code",
   "execution_count": 35,
   "metadata": {},
   "outputs": [],
   "source": [
    "ss = [[1, 2, 3, 4, 5], [9, 10, 11, 12, 13], [23, 24, 25]]"
   ]
  },
  {
   "cell_type": "code",
   "execution_count": 36,
   "metadata": {},
   "outputs": [
    {
     "data": {
      "text/plain": [
       "[(1, 2),\n",
       " (2, 3),\n",
       " (3, 4),\n",
       " (4, 5),\n",
       " (9, 10),\n",
       " (10, 11),\n",
       " (11, 12),\n",
       " (12, 13),\n",
       " (23, 24),\n",
       " (24, 25)]"
      ]
     },
     "execution_count": 36,
     "metadata": {},
     "output_type": "execute_result"
    }
   ],
   "source": [
    "get_possible_tuples(0, ss)"
   ]
  },
  {
   "cell_type": "code",
   "execution_count": 37,
   "metadata": {},
   "outputs": [
    {
     "data": {
      "text/plain": [
       "[(1, 3), (2, 4), (3, 5), (9, 11), (10, 12), (11, 13), (23, 25)]"
      ]
     },
     "execution_count": 37,
     "metadata": {},
     "output_type": "execute_result"
    }
   ],
   "source": [
    "get_possible_tuples(1, ss)"
   ]
  },
  {
   "cell_type": "code",
   "execution_count": 38,
   "metadata": {},
   "outputs": [
    {
     "data": {
      "text/plain": [
       "[(1, 4), (2, 5), (9, 12), (10, 13)]"
      ]
     },
     "execution_count": 38,
     "metadata": {},
     "output_type": "execute_result"
    }
   ],
   "source": [
    "get_possible_tuples(2, ss)"
   ]
  },
  {
   "cell_type": "code",
   "execution_count": 39,
   "metadata": {},
   "outputs": [
    {
     "data": {
      "text/plain": [
       "[(1, 5), (5, 9), (9, 13)]"
      ]
     },
     "execution_count": 39,
     "metadata": {},
     "output_type": "execute_result"
    }
   ],
   "source": [
    "get_possible_tuples(3, ss)"
   ]
  },
  {
   "cell_type": "code",
   "execution_count": 40,
   "metadata": {},
   "outputs": [
    {
     "data": {
      "text/plain": [
       "[(13, 23)]"
      ]
     },
     "execution_count": 40,
     "metadata": {},
     "output_type": "execute_result"
    }
   ],
   "source": [
    "get_possible_tuples(9, ss)"
   ]
  },
  {
   "cell_type": "code",
   "execution_count": 41,
   "metadata": {},
   "outputs": [
    {
     "name": "stdout",
     "output_type": "stream",
     "text": [
      "32\n",
      "3\n"
     ]
    }
   ],
   "source": [
    "for k, v in {1: 32, 3: 3}.items():\n",
    "    print(v)"
   ]
  },
  {
   "cell_type": "code",
   "execution_count": 42,
   "metadata": {},
   "outputs": [
    {
     "data": {
      "text/plain": [
       "(1, 1, 2)"
      ]
     },
     "execution_count": 42,
     "metadata": {},
     "output_type": "execute_result"
    }
   ],
   "source": [
    "(1, *(1, 2))"
   ]
  },
  {
   "attachments": {},
   "cell_type": "markdown",
   "metadata": {},
   "source": [
    "## Расчет параметров датасета"
   ]
  },
  {
   "attachments": {},
   "cell_type": "markdown",
   "metadata": {},
   "source": [
    "### Средние размеры изображения"
   ]
  },
  {
   "cell_type": "code",
   "execution_count": 44,
   "metadata": {},
   "outputs": [],
   "source": [
    "dataset01 = MOT20ExtDataset('data/MOT20_ext/train/MOT20-01/')\n",
    "dataset02 = MOT20ExtDataset('data/MOT20_ext/train/MOT20-02/')\n",
    "dataset03 = MOT20ExtDataset('data/MOT20_ext/train/MOT20-03/')\n",
    "dataset05 = MOT20ExtDataset('data/MOT20_ext/train/MOT20-05/')\n",
    "dataset = ConcatDataset([dataset01, dataset02, dataset03, dataset05])"
   ]
  },
  {
   "cell_type": "code",
   "execution_count": 45,
   "metadata": {},
   "outputs": [
    {
     "data": {
      "text/plain": [
       "135721"
      ]
     },
     "execution_count": 45,
     "metadata": {},
     "output_type": "execute_result"
    }
   ],
   "source": [
    "len(dataset)"
   ]
  },
  {
   "attachments": {},
   "cell_type": "markdown",
   "metadata": {},
   "source": [
    "#### Обработка данных, долгая операция"
   ]
  },
  {
   "cell_type": "code",
   "execution_count": 59,
   "metadata": {},
   "outputs": [
    {
     "name": "stderr",
     "output_type": "stream",
     "text": [
      "100%|██████████| 135721/135721 [03:48<00:00, 592.85it/s]\n"
     ]
    }
   ],
   "source": [
    "# xs = [(x[0].shape[0] + x[1].shape[0]) / 2 for x in tqdm(dataset)]"
   ]
  },
  {
   "cell_type": "code",
   "execution_count": 60,
   "metadata": {},
   "outputs": [
    {
     "name": "stderr",
     "output_type": "stream",
     "text": [
      "100%|██████████| 135721/135721 [03:26<00:00, 656.41it/s]\n"
     ]
    }
   ],
   "source": [
    "# ys = [(x[0].shape[1] + x[1].shape[1]) / 2 for x in tqdm(dataset)]"
   ]
  },
  {
   "cell_type": "code",
   "execution_count": 61,
   "metadata": {},
   "outputs": [
    {
     "data": {
      "text/plain": [
       "(135721, 135721)"
      ]
     },
     "execution_count": 61,
     "metadata": {},
     "output_type": "execute_result"
    }
   ],
   "source": [
    "len(xs), len(ys)"
   ]
  },
  {
   "cell_type": "code",
   "execution_count": 71,
   "metadata": {},
   "outputs": [],
   "source": [
    "xxs = torch.tensor(xs)\n",
    "yys = torch.tensor(ys)"
   ]
  },
  {
   "cell_type": "code",
   "execution_count": 72,
   "metadata": {},
   "outputs": [
    {
     "data": {
      "text/plain": [
       "(tensor(139.0535), tensor(61.7174))"
      ]
     },
     "execution_count": 72,
     "metadata": {},
     "output_type": "execute_result"
    }
   ],
   "source": [
    "xxs.mean(), yys.mean()"
   ]
  },
  {
   "attachments": {},
   "cell_type": "markdown",
   "metadata": {},
   "source": [
    "### Разделение на тест"
   ]
  },
  {
   "cell_type": "code",
   "execution_count": 34,
   "metadata": {},
   "outputs": [],
   "source": [
    "from os import listdir\n",
    "\n",
    "current_path_ext = join(DATA_PATH, 'MOT20_ext', 'train', 'MOT20-03')\n",
    "new_path_ext = join(DATA_PATH, 'MOT20_ext', 'test', 'MOT20-03')\n",
    "det = get_dataframe(current_path_ext, 'det')\n",
    "gt = get_dataframe(current_path_ext, 'gt')\n",
    "t = ['340', '477', '663', '314', '294', '468', '527', '601', '133', '645', '250', '33', '700', '97', '348', '223', '214', '65', '193', '265', '417', '225', '603', '573', '436', '355', '584', '608', '41', '440', '18', '55', '339', '443', '57', '667', '407', '95', '61', '661', '283', '560', '511', '673', '614', '450', '83', '25', '325', '222', '318', '311', '353', '291', '172', '89', '288', '447', '290', '484', '284', '321', '178', '11', '192', '237', '144', '677', '586', '195', '626', '46', '660', '224', '152', '524', '638', '590', '191', '548', '414', '730', '375', '249', '332', '431', '592',\n",
    "              '280', '492', '398', '221', '424', '253', '604', '51', '435', '66', '200', '241', '452', '631', '212', '362', '615', '618', '438', '148', '342', '68', '469', '170', '594', '609', '319', '423', '190', '629', '84', '49', '323', '29', '213', '315', '24', '575', '42', '495', '689', '304', '588', '699', '169', '517', '87', '415', '286', '487', '322', '3', '28', '344', '154', '343', '405', '163', '428', '351', '529', '330', '357', '572', '36', '359', '705', '260', '166', '657', '142', '374', '14', '525', 'gt', '658', '328', '628', '268', '276', '570', '683', '153', '479', '422', '617', '558', '516', '483', '111']\n",
    "t = set(t) - set(['gt', 'det'])\n",
    "to_extract = list(map(int, t))\n"
   ]
  },
  {
   "cell_type": "code",
   "execution_count": 35,
   "metadata": {},
   "outputs": [
    {
     "data": {
      "text/plain": [
       "True"
      ]
     },
     "execution_count": 35,
     "metadata": {},
     "output_type": "execute_result"
    }
   ],
   "source": [
    "# len(to_extract)\n",
    "# len(to_extract) / len(listdir(current_path_ext))\n",
    "340 in to_extract"
   ]
  },
  {
   "cell_type": "code",
   "execution_count": 39,
   "metadata": {},
   "outputs": [],
   "source": [
    "mask_test = gt['id'].apply(lambda id: id in to_extract)\n",
    "mask_train = gt['id'].apply(lambda id: id not in to_extract)"
   ]
  },
  {
   "cell_type": "code",
   "execution_count": 40,
   "metadata": {},
   "outputs": [
    {
     "data": {
      "text/html": [
       "<div>\n",
       "<style scoped>\n",
       "    .dataframe tbody tr th:only-of-type {\n",
       "        vertical-align: middle;\n",
       "    }\n",
       "\n",
       "    .dataframe tbody tr th {\n",
       "        vertical-align: top;\n",
       "    }\n",
       "\n",
       "    .dataframe thead th {\n",
       "        text-align: right;\n",
       "    }\n",
       "</style>\n",
       "<table border=\"1\" class=\"dataframe\">\n",
       "  <thead>\n",
       "    <tr style=\"text-align: right;\">\n",
       "      <th></th>\n",
       "      <th>frame</th>\n",
       "      <th>id</th>\n",
       "      <th>bb_left</th>\n",
       "      <th>bb_top</th>\n",
       "      <th>bb_width</th>\n",
       "      <th>bb_height</th>\n",
       "      <th>is_consider</th>\n",
       "      <th>class</th>\n",
       "      <th>visibility</th>\n",
       "    </tr>\n",
       "  </thead>\n",
       "  <tbody>\n",
       "    <tr>\n",
       "      <th>0</th>\n",
       "      <td>695</td>\n",
       "      <td>1</td>\n",
       "      <td>1127</td>\n",
       "      <td>817</td>\n",
       "      <td>45</td>\n",
       "      <td>62</td>\n",
       "      <td>1</td>\n",
       "      <td>1</td>\n",
       "      <td>1.00000</td>\n",
       "    </tr>\n",
       "    <tr>\n",
       "      <th>1</th>\n",
       "      <td>696</td>\n",
       "      <td>1</td>\n",
       "      <td>1124</td>\n",
       "      <td>815</td>\n",
       "      <td>47</td>\n",
       "      <td>64</td>\n",
       "      <td>1</td>\n",
       "      <td>1</td>\n",
       "      <td>1.00000</td>\n",
       "    </tr>\n",
       "    <tr>\n",
       "      <th>2</th>\n",
       "      <td>697</td>\n",
       "      <td>1</td>\n",
       "      <td>1122</td>\n",
       "      <td>813</td>\n",
       "      <td>48</td>\n",
       "      <td>66</td>\n",
       "      <td>1</td>\n",
       "      <td>1</td>\n",
       "      <td>1.00000</td>\n",
       "    </tr>\n",
       "    <tr>\n",
       "      <th>3</th>\n",
       "      <td>698</td>\n",
       "      <td>1</td>\n",
       "      <td>1120</td>\n",
       "      <td>811</td>\n",
       "      <td>49</td>\n",
       "      <td>68</td>\n",
       "      <td>1</td>\n",
       "      <td>1</td>\n",
       "      <td>1.00000</td>\n",
       "    </tr>\n",
       "    <tr>\n",
       "      <th>4</th>\n",
       "      <td>699</td>\n",
       "      <td>1</td>\n",
       "      <td>1118</td>\n",
       "      <td>809</td>\n",
       "      <td>50</td>\n",
       "      <td>70</td>\n",
       "      <td>1</td>\n",
       "      <td>1</td>\n",
       "      <td>1.00000</td>\n",
       "    </tr>\n",
       "    <tr>\n",
       "      <th>...</th>\n",
       "      <td>...</td>\n",
       "      <td>...</td>\n",
       "      <td>...</td>\n",
       "      <td>...</td>\n",
       "      <td>...</td>\n",
       "      <td>...</td>\n",
       "      <td>...</td>\n",
       "      <td>...</td>\n",
       "      <td>...</td>\n",
       "    </tr>\n",
       "    <tr>\n",
       "      <th>356723</th>\n",
       "      <td>2153</td>\n",
       "      <td>735</td>\n",
       "      <td>267</td>\n",
       "      <td>1</td>\n",
       "      <td>42</td>\n",
       "      <td>16</td>\n",
       "      <td>0</td>\n",
       "      <td>7</td>\n",
       "      <td>0.79070</td>\n",
       "    </tr>\n",
       "    <tr>\n",
       "      <th>356724</th>\n",
       "      <td>2154</td>\n",
       "      <td>735</td>\n",
       "      <td>268</td>\n",
       "      <td>1</td>\n",
       "      <td>41</td>\n",
       "      <td>15</td>\n",
       "      <td>0</td>\n",
       "      <td>7</td>\n",
       "      <td>0.78571</td>\n",
       "    </tr>\n",
       "    <tr>\n",
       "      <th>356725</th>\n",
       "      <td>2155</td>\n",
       "      <td>735</td>\n",
       "      <td>268</td>\n",
       "      <td>1</td>\n",
       "      <td>41</td>\n",
       "      <td>13</td>\n",
       "      <td>0</td>\n",
       "      <td>7</td>\n",
       "      <td>0.78571</td>\n",
       "    </tr>\n",
       "    <tr>\n",
       "      <th>356726</th>\n",
       "      <td>2156</td>\n",
       "      <td>735</td>\n",
       "      <td>268</td>\n",
       "      <td>1</td>\n",
       "      <td>41</td>\n",
       "      <td>12</td>\n",
       "      <td>0</td>\n",
       "      <td>7</td>\n",
       "      <td>0.78571</td>\n",
       "    </tr>\n",
       "    <tr>\n",
       "      <th>356727</th>\n",
       "      <td>2157</td>\n",
       "      <td>735</td>\n",
       "      <td>268</td>\n",
       "      <td>1</td>\n",
       "      <td>41</td>\n",
       "      <td>10</td>\n",
       "      <td>0</td>\n",
       "      <td>7</td>\n",
       "      <td>0.78571</td>\n",
       "    </tr>\n",
       "  </tbody>\n",
       "</table>\n",
       "<p>277862 rows × 9 columns</p>\n",
       "</div>"
      ],
      "text/plain": [
       "        frame   id  bb_left  bb_top  bb_width  bb_height  is_consider  class  \\\n",
       "0         695    1     1127     817        45         62            1      1   \n",
       "1         696    1     1124     815        47         64            1      1   \n",
       "2         697    1     1122     813        48         66            1      1   \n",
       "3         698    1     1120     811        49         68            1      1   \n",
       "4         699    1     1118     809        50         70            1      1   \n",
       "...       ...  ...      ...     ...       ...        ...          ...    ...   \n",
       "356723   2153  735      267       1        42         16            0      7   \n",
       "356724   2154  735      268       1        41         15            0      7   \n",
       "356725   2155  735      268       1        41         13            0      7   \n",
       "356726   2156  735      268       1        41         12            0      7   \n",
       "356727   2157  735      268       1        41         10            0      7   \n",
       "\n",
       "        visibility  \n",
       "0          1.00000  \n",
       "1          1.00000  \n",
       "2          1.00000  \n",
       "3          1.00000  \n",
       "4          1.00000  \n",
       "...            ...  \n",
       "356723     0.79070  \n",
       "356724     0.78571  \n",
       "356725     0.78571  \n",
       "356726     0.78571  \n",
       "356727     0.78571  \n",
       "\n",
       "[277862 rows x 9 columns]"
      ]
     },
     "execution_count": 40,
     "metadata": {},
     "output_type": "execute_result"
    }
   ],
   "source": [
    "train_gt = gt[mask_train]\n",
    "train_gt\n"
   ]
  },
  {
   "cell_type": "code",
   "execution_count": 43,
   "metadata": {},
   "outputs": [
    {
     "data": {
      "text/html": [
       "<div>\n",
       "<style scoped>\n",
       "    .dataframe tbody tr th:only-of-type {\n",
       "        vertical-align: middle;\n",
       "    }\n",
       "\n",
       "    .dataframe tbody tr th {\n",
       "        vertical-align: top;\n",
       "    }\n",
       "\n",
       "    .dataframe thead th {\n",
       "        text-align: right;\n",
       "    }\n",
       "</style>\n",
       "<table border=\"1\" class=\"dataframe\">\n",
       "  <thead>\n",
       "    <tr style=\"text-align: right;\">\n",
       "      <th></th>\n",
       "      <th>frame</th>\n",
       "      <th>id</th>\n",
       "      <th>bb_left</th>\n",
       "      <th>bb_top</th>\n",
       "      <th>bb_width</th>\n",
       "      <th>bb_height</th>\n",
       "      <th>is_consider</th>\n",
       "      <th>class</th>\n",
       "      <th>visibility</th>\n",
       "    </tr>\n",
       "  </thead>\n",
       "  <tbody>\n",
       "    <tr>\n",
       "      <th>729</th>\n",
       "      <td>617</td>\n",
       "      <td>3</td>\n",
       "      <td>1</td>\n",
       "      <td>853</td>\n",
       "      <td>8</td>\n",
       "      <td>28</td>\n",
       "      <td>1</td>\n",
       "      <td>1</td>\n",
       "      <td>0.965520</td>\n",
       "    </tr>\n",
       "    <tr>\n",
       "      <th>730</th>\n",
       "      <td>618</td>\n",
       "      <td>3</td>\n",
       "      <td>1</td>\n",
       "      <td>852</td>\n",
       "      <td>10</td>\n",
       "      <td>29</td>\n",
       "      <td>1</td>\n",
       "      <td>1</td>\n",
       "      <td>0.966670</td>\n",
       "    </tr>\n",
       "    <tr>\n",
       "      <th>731</th>\n",
       "      <td>619</td>\n",
       "      <td>3</td>\n",
       "      <td>1</td>\n",
       "      <td>852</td>\n",
       "      <td>12</td>\n",
       "      <td>29</td>\n",
       "      <td>1</td>\n",
       "      <td>1</td>\n",
       "      <td>0.966670</td>\n",
       "    </tr>\n",
       "    <tr>\n",
       "      <th>732</th>\n",
       "      <td>620</td>\n",
       "      <td>3</td>\n",
       "      <td>1</td>\n",
       "      <td>851</td>\n",
       "      <td>14</td>\n",
       "      <td>30</td>\n",
       "      <td>1</td>\n",
       "      <td>1</td>\n",
       "      <td>0.967740</td>\n",
       "    </tr>\n",
       "    <tr>\n",
       "      <th>733</th>\n",
       "      <td>621</td>\n",
       "      <td>3</td>\n",
       "      <td>1</td>\n",
       "      <td>851</td>\n",
       "      <td>16</td>\n",
       "      <td>30</td>\n",
       "      <td>1</td>\n",
       "      <td>1</td>\n",
       "      <td>0.967740</td>\n",
       "    </tr>\n",
       "    <tr>\n",
       "      <th>...</th>\n",
       "      <td>...</td>\n",
       "      <td>...</td>\n",
       "      <td>...</td>\n",
       "      <td>...</td>\n",
       "      <td>...</td>\n",
       "      <td>...</td>\n",
       "      <td>...</td>\n",
       "      <td>...</td>\n",
       "      <td>...</td>\n",
       "    </tr>\n",
       "    <tr>\n",
       "      <th>355402</th>\n",
       "      <td>1966</td>\n",
       "      <td>730</td>\n",
       "      <td>574</td>\n",
       "      <td>1</td>\n",
       "      <td>46</td>\n",
       "      <td>32</td>\n",
       "      <td>1</td>\n",
       "      <td>1</td>\n",
       "      <td>0.000000</td>\n",
       "    </tr>\n",
       "    <tr>\n",
       "      <th>355403</th>\n",
       "      <td>1967</td>\n",
       "      <td>730</td>\n",
       "      <td>574</td>\n",
       "      <td>1</td>\n",
       "      <td>46</td>\n",
       "      <td>32</td>\n",
       "      <td>1</td>\n",
       "      <td>1</td>\n",
       "      <td>0.000000</td>\n",
       "    </tr>\n",
       "    <tr>\n",
       "      <th>355404</th>\n",
       "      <td>1968</td>\n",
       "      <td>730</td>\n",
       "      <td>574</td>\n",
       "      <td>1</td>\n",
       "      <td>46</td>\n",
       "      <td>33</td>\n",
       "      <td>1</td>\n",
       "      <td>1</td>\n",
       "      <td>0.016896</td>\n",
       "    </tr>\n",
       "    <tr>\n",
       "      <th>355405</th>\n",
       "      <td>1969</td>\n",
       "      <td>730</td>\n",
       "      <td>574</td>\n",
       "      <td>1</td>\n",
       "      <td>46</td>\n",
       "      <td>34</td>\n",
       "      <td>1</td>\n",
       "      <td>1</td>\n",
       "      <td>0.028571</td>\n",
       "    </tr>\n",
       "    <tr>\n",
       "      <th>355406</th>\n",
       "      <td>1970</td>\n",
       "      <td>730</td>\n",
       "      <td>574</td>\n",
       "      <td>1</td>\n",
       "      <td>46</td>\n",
       "      <td>35</td>\n",
       "      <td>1</td>\n",
       "      <td>1</td>\n",
       "      <td>0.033097</td>\n",
       "    </tr>\n",
       "  </tbody>\n",
       "</table>\n",
       "<p>78866 rows × 9 columns</p>\n",
       "</div>"
      ],
      "text/plain": [
       "        frame   id  bb_left  bb_top  bb_width  bb_height  is_consider  class  \\\n",
       "729       617    3        1     853         8         28            1      1   \n",
       "730       618    3        1     852        10         29            1      1   \n",
       "731       619    3        1     852        12         29            1      1   \n",
       "732       620    3        1     851        14         30            1      1   \n",
       "733       621    3        1     851        16         30            1      1   \n",
       "...       ...  ...      ...     ...       ...        ...          ...    ...   \n",
       "355402   1966  730      574       1        46         32            1      1   \n",
       "355403   1967  730      574       1        46         32            1      1   \n",
       "355404   1968  730      574       1        46         33            1      1   \n",
       "355405   1969  730      574       1        46         34            1      1   \n",
       "355406   1970  730      574       1        46         35            1      1   \n",
       "\n",
       "        visibility  \n",
       "729       0.965520  \n",
       "730       0.966670  \n",
       "731       0.966670  \n",
       "732       0.967740  \n",
       "733       0.967740  \n",
       "...            ...  \n",
       "355402    0.000000  \n",
       "355403    0.000000  \n",
       "355404    0.016896  \n",
       "355405    0.028571  \n",
       "355406    0.033097  \n",
       "\n",
       "[78866 rows x 9 columns]"
      ]
     },
     "execution_count": 43,
     "metadata": {},
     "output_type": "execute_result"
    }
   ],
   "source": [
    "test_det = gt[mask_test]\n",
    "test_det"
   ]
  }
 ],
 "metadata": {
  "kernelspec": {
   "display_name": "Python 3",
   "language": "python",
   "name": "python3"
  },
  "language_info": {
   "codemirror_mode": {
    "name": "ipython",
    "version": 3
   },
   "file_extension": ".py",
   "mimetype": "text/x-python",
   "name": "python",
   "nbconvert_exporter": "python",
   "pygments_lexer": "ipython3",
   "version": "3.10.11"
  },
  "orig_nbformat": 4
 },
 "nbformat": 4,
 "nbformat_minor": 2
}
