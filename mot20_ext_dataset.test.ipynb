{
 "cells": [
  {
   "attachments": {},
   "cell_type": "markdown",
   "metadata": {},
   "source": [
    "## Тестирование датасета MOT20_ext"
   ]
  },
  {
   "cell_type": "code",
   "execution_count": 11,
   "metadata": {},
   "outputs": [],
   "source": [
    "from src.data import MOT20ExtDataset\n",
    "import numpy as np\n",
    "import functools"
   ]
  },
  {
   "cell_type": "code",
   "execution_count": 15,
   "metadata": {},
   "outputs": [],
   "source": [
    "dataset = MOT20ExtDataset('data/MOT20_ext/train/MOT20-01/')"
   ]
  },
  {
   "attachments": {},
   "cell_type": "markdown",
   "metadata": {},
   "source": [
    "### Полное тестирование "
   ]
  },
  {
   "cell_type": "code",
   "execution_count": 17,
   "metadata": {},
   "outputs": [
    {
     "data": {
      "text/plain": [
       "2301"
      ]
     },
     "execution_count": 17,
     "metadata": {},
     "output_type": "execute_result"
    }
   ],
   "source": [
    "len(dataset)"
   ]
  },
  {
   "attachments": {},
   "cell_type": "markdown",
   "metadata": {},
   "source": [
    "### Фильтрация"
   ]
  },
  {
   "cell_type": "code",
   "execution_count": 4,
   "metadata": {},
   "outputs": [
    {
     "data": {
      "text/html": [
       "<div>\n",
       "<style scoped>\n",
       "    .dataframe tbody tr th:only-of-type {\n",
       "        vertical-align: middle;\n",
       "    }\n",
       "\n",
       "    .dataframe tbody tr th {\n",
       "        vertical-align: top;\n",
       "    }\n",
       "\n",
       "    .dataframe thead th {\n",
       "        text-align: right;\n",
       "    }\n",
       "</style>\n",
       "<table border=\"1\" class=\"dataframe\">\n",
       "  <thead>\n",
       "    <tr style=\"text-align: right;\">\n",
       "      <th></th>\n",
       "      <th>frame</th>\n",
       "      <th>id</th>\n",
       "      <th>bb_left</th>\n",
       "      <th>bb_top</th>\n",
       "      <th>bb_width</th>\n",
       "      <th>bb_height</th>\n",
       "      <th>is_consider</th>\n",
       "      <th>class</th>\n",
       "      <th>visibility</th>\n",
       "    </tr>\n",
       "  </thead>\n",
       "  <tbody>\n",
       "    <tr>\n",
       "      <th>391</th>\n",
       "      <td>54</td>\n",
       "      <td>2</td>\n",
       "      <td>455</td>\n",
       "      <td>808</td>\n",
       "      <td>113</td>\n",
       "      <td>271</td>\n",
       "      <td>1</td>\n",
       "      <td>1</td>\n",
       "      <td>1.0</td>\n",
       "    </tr>\n",
       "    <tr>\n",
       "      <th>392</th>\n",
       "      <td>55</td>\n",
       "      <td>2</td>\n",
       "      <td>457</td>\n",
       "      <td>808</td>\n",
       "      <td>113</td>\n",
       "      <td>272</td>\n",
       "      <td>1</td>\n",
       "      <td>1</td>\n",
       "      <td>1.0</td>\n",
       "    </tr>\n",
       "    <tr>\n",
       "      <th>393</th>\n",
       "      <td>56</td>\n",
       "      <td>2</td>\n",
       "      <td>459</td>\n",
       "      <td>806</td>\n",
       "      <td>113</td>\n",
       "      <td>274</td>\n",
       "      <td>1</td>\n",
       "      <td>1</td>\n",
       "      <td>1.0</td>\n",
       "    </tr>\n",
       "    <tr>\n",
       "      <th>394</th>\n",
       "      <td>57</td>\n",
       "      <td>2</td>\n",
       "      <td>461</td>\n",
       "      <td>804</td>\n",
       "      <td>113</td>\n",
       "      <td>276</td>\n",
       "      <td>1</td>\n",
       "      <td>1</td>\n",
       "      <td>1.0</td>\n",
       "    </tr>\n",
       "    <tr>\n",
       "      <th>395</th>\n",
       "      <td>58</td>\n",
       "      <td>2</td>\n",
       "      <td>463</td>\n",
       "      <td>802</td>\n",
       "      <td>114</td>\n",
       "      <td>278</td>\n",
       "      <td>1</td>\n",
       "      <td>1</td>\n",
       "      <td>1.0</td>\n",
       "    </tr>\n",
       "    <tr>\n",
       "      <th>...</th>\n",
       "      <td>...</td>\n",
       "      <td>...</td>\n",
       "      <td>...</td>\n",
       "      <td>...</td>\n",
       "      <td>...</td>\n",
       "      <td>...</td>\n",
       "      <td>...</td>\n",
       "      <td>...</td>\n",
       "      <td>...</td>\n",
       "    </tr>\n",
       "    <tr>\n",
       "      <th>18529</th>\n",
       "      <td>425</td>\n",
       "      <td>61</td>\n",
       "      <td>969</td>\n",
       "      <td>517</td>\n",
       "      <td>61</td>\n",
       "      <td>139</td>\n",
       "      <td>1</td>\n",
       "      <td>1</td>\n",
       "      <td>1.0</td>\n",
       "    </tr>\n",
       "    <tr>\n",
       "      <th>18530</th>\n",
       "      <td>426</td>\n",
       "      <td>61</td>\n",
       "      <td>970</td>\n",
       "      <td>518</td>\n",
       "      <td>61</td>\n",
       "      <td>139</td>\n",
       "      <td>1</td>\n",
       "      <td>1</td>\n",
       "      <td>1.0</td>\n",
       "    </tr>\n",
       "    <tr>\n",
       "      <th>18531</th>\n",
       "      <td>427</td>\n",
       "      <td>61</td>\n",
       "      <td>972</td>\n",
       "      <td>519</td>\n",
       "      <td>61</td>\n",
       "      <td>139</td>\n",
       "      <td>1</td>\n",
       "      <td>1</td>\n",
       "      <td>1.0</td>\n",
       "    </tr>\n",
       "    <tr>\n",
       "      <th>18532</th>\n",
       "      <td>428</td>\n",
       "      <td>61</td>\n",
       "      <td>973</td>\n",
       "      <td>520</td>\n",
       "      <td>61</td>\n",
       "      <td>139</td>\n",
       "      <td>1</td>\n",
       "      <td>1</td>\n",
       "      <td>1.0</td>\n",
       "    </tr>\n",
       "    <tr>\n",
       "      <th>18533</th>\n",
       "      <td>429</td>\n",
       "      <td>61</td>\n",
       "      <td>975</td>\n",
       "      <td>522</td>\n",
       "      <td>61</td>\n",
       "      <td>139</td>\n",
       "      <td>1</td>\n",
       "      <td>1</td>\n",
       "      <td>1.0</td>\n",
       "    </tr>\n",
       "  </tbody>\n",
       "</table>\n",
       "<p>2486 rows × 9 columns</p>\n",
       "</div>"
      ],
      "text/plain": [
       "       frame  id  bb_left  bb_top  bb_width  bb_height  is_consider  class  \\\n",
       "391       54   2      455     808       113        271            1      1   \n",
       "392       55   2      457     808       113        272            1      1   \n",
       "393       56   2      459     806       113        274            1      1   \n",
       "394       57   2      461     804       113        276            1      1   \n",
       "395       58   2      463     802       114        278            1      1   \n",
       "...      ...  ..      ...     ...       ...        ...          ...    ...   \n",
       "18529    425  61      969     517        61        139            1      1   \n",
       "18530    426  61      970     518        61        139            1      1   \n",
       "18531    427  61      972     519        61        139            1      1   \n",
       "18532    428  61      973     520        61        139            1      1   \n",
       "18533    429  61      975     522        61        139            1      1   \n",
       "\n",
       "       visibility  \n",
       "391           1.0  \n",
       "392           1.0  \n",
       "393           1.0  \n",
       "394           1.0  \n",
       "395           1.0  \n",
       "...           ...  \n",
       "18529         1.0  \n",
       "18530         1.0  \n",
       "18531         1.0  \n",
       "18532         1.0  \n",
       "18533         1.0  \n",
       "\n",
       "[2486 rows x 9 columns]"
      ]
     },
     "execution_count": 4,
     "metadata": {},
     "output_type": "execute_result"
    }
   ],
   "source": [
    "df = dataset.ground_truth\n",
    "df"
   ]
  },
  {
   "cell_type": "code",
   "execution_count": 5,
   "metadata": {},
   "outputs": [
    {
     "data": {
      "text/plain": [
       "2301"
      ]
     },
     "execution_count": 5,
     "metadata": {},
     "output_type": "execute_result"
    }
   ],
   "source": [
    "len(dataset)\n",
    "len(dataset)\n",
    "len(dataset)"
   ]
  },
  {
   "cell_type": "code",
   "execution_count": 6,
   "metadata": {},
   "outputs": [
    {
     "data": {
      "text/html": [
       "<div>\n",
       "<style scoped>\n",
       "    .dataframe tbody tr th:only-of-type {\n",
       "        vertical-align: middle;\n",
       "    }\n",
       "\n",
       "    .dataframe tbody tr th {\n",
       "        vertical-align: top;\n",
       "    }\n",
       "\n",
       "    .dataframe thead th {\n",
       "        text-align: right;\n",
       "    }\n",
       "</style>\n",
       "<table border=\"1\" class=\"dataframe\">\n",
       "  <thead>\n",
       "    <tr style=\"text-align: right;\">\n",
       "      <th></th>\n",
       "      <th>frame</th>\n",
       "      <th>id</th>\n",
       "      <th>bb_left</th>\n",
       "      <th>bb_top</th>\n",
       "      <th>bb_width</th>\n",
       "      <th>bb_height</th>\n",
       "      <th>is_consider</th>\n",
       "      <th>class</th>\n",
       "      <th>visibility</th>\n",
       "    </tr>\n",
       "  </thead>\n",
       "  <tbody>\n",
       "    <tr>\n",
       "      <th>391</th>\n",
       "      <td>54</td>\n",
       "      <td>2</td>\n",
       "      <td>455</td>\n",
       "      <td>808</td>\n",
       "      <td>113</td>\n",
       "      <td>271</td>\n",
       "      <td>1</td>\n",
       "      <td>1</td>\n",
       "      <td>1.0</td>\n",
       "    </tr>\n",
       "    <tr>\n",
       "      <th>392</th>\n",
       "      <td>55</td>\n",
       "      <td>2</td>\n",
       "      <td>457</td>\n",
       "      <td>808</td>\n",
       "      <td>113</td>\n",
       "      <td>272</td>\n",
       "      <td>1</td>\n",
       "      <td>1</td>\n",
       "      <td>1.0</td>\n",
       "    </tr>\n",
       "    <tr>\n",
       "      <th>393</th>\n",
       "      <td>56</td>\n",
       "      <td>2</td>\n",
       "      <td>459</td>\n",
       "      <td>806</td>\n",
       "      <td>113</td>\n",
       "      <td>274</td>\n",
       "      <td>1</td>\n",
       "      <td>1</td>\n",
       "      <td>1.0</td>\n",
       "    </tr>\n",
       "    <tr>\n",
       "      <th>394</th>\n",
       "      <td>57</td>\n",
       "      <td>2</td>\n",
       "      <td>461</td>\n",
       "      <td>804</td>\n",
       "      <td>113</td>\n",
       "      <td>276</td>\n",
       "      <td>1</td>\n",
       "      <td>1</td>\n",
       "      <td>1.0</td>\n",
       "    </tr>\n",
       "    <tr>\n",
       "      <th>395</th>\n",
       "      <td>58</td>\n",
       "      <td>2</td>\n",
       "      <td>463</td>\n",
       "      <td>802</td>\n",
       "      <td>114</td>\n",
       "      <td>278</td>\n",
       "      <td>1</td>\n",
       "      <td>1</td>\n",
       "      <td>1.0</td>\n",
       "    </tr>\n",
       "    <tr>\n",
       "      <th>...</th>\n",
       "      <td>...</td>\n",
       "      <td>...</td>\n",
       "      <td>...</td>\n",
       "      <td>...</td>\n",
       "      <td>...</td>\n",
       "      <td>...</td>\n",
       "      <td>...</td>\n",
       "      <td>...</td>\n",
       "      <td>...</td>\n",
       "    </tr>\n",
       "    <tr>\n",
       "      <th>18529</th>\n",
       "      <td>425</td>\n",
       "      <td>61</td>\n",
       "      <td>969</td>\n",
       "      <td>517</td>\n",
       "      <td>61</td>\n",
       "      <td>139</td>\n",
       "      <td>1</td>\n",
       "      <td>1</td>\n",
       "      <td>1.0</td>\n",
       "    </tr>\n",
       "    <tr>\n",
       "      <th>18530</th>\n",
       "      <td>426</td>\n",
       "      <td>61</td>\n",
       "      <td>970</td>\n",
       "      <td>518</td>\n",
       "      <td>61</td>\n",
       "      <td>139</td>\n",
       "      <td>1</td>\n",
       "      <td>1</td>\n",
       "      <td>1.0</td>\n",
       "    </tr>\n",
       "    <tr>\n",
       "      <th>18531</th>\n",
       "      <td>427</td>\n",
       "      <td>61</td>\n",
       "      <td>972</td>\n",
       "      <td>519</td>\n",
       "      <td>61</td>\n",
       "      <td>139</td>\n",
       "      <td>1</td>\n",
       "      <td>1</td>\n",
       "      <td>1.0</td>\n",
       "    </tr>\n",
       "    <tr>\n",
       "      <th>18532</th>\n",
       "      <td>428</td>\n",
       "      <td>61</td>\n",
       "      <td>973</td>\n",
       "      <td>520</td>\n",
       "      <td>61</td>\n",
       "      <td>139</td>\n",
       "      <td>1</td>\n",
       "      <td>1</td>\n",
       "      <td>1.0</td>\n",
       "    </tr>\n",
       "    <tr>\n",
       "      <th>18533</th>\n",
       "      <td>429</td>\n",
       "      <td>61</td>\n",
       "      <td>975</td>\n",
       "      <td>522</td>\n",
       "      <td>61</td>\n",
       "      <td>139</td>\n",
       "      <td>1</td>\n",
       "      <td>1</td>\n",
       "      <td>1.0</td>\n",
       "    </tr>\n",
       "  </tbody>\n",
       "</table>\n",
       "<p>2486 rows × 9 columns</p>\n",
       "</div>"
      ],
      "text/plain": [
       "       frame  id  bb_left  bb_top  bb_width  bb_height  is_consider  class  \\\n",
       "391       54   2      455     808       113        271            1      1   \n",
       "392       55   2      457     808       113        272            1      1   \n",
       "393       56   2      459     806       113        274            1      1   \n",
       "394       57   2      461     804       113        276            1      1   \n",
       "395       58   2      463     802       114        278            1      1   \n",
       "...      ...  ..      ...     ...       ...        ...          ...    ...   \n",
       "18529    425  61      969     517        61        139            1      1   \n",
       "18530    426  61      970     518        61        139            1      1   \n",
       "18531    427  61      972     519        61        139            1      1   \n",
       "18532    428  61      973     520        61        139            1      1   \n",
       "18533    429  61      975     522        61        139            1      1   \n",
       "\n",
       "       visibility  \n",
       "391           1.0  \n",
       "392           1.0  \n",
       "393           1.0  \n",
       "394           1.0  \n",
       "395           1.0  \n",
       "...           ...  \n",
       "18529         1.0  \n",
       "18530         1.0  \n",
       "18531         1.0  \n",
       "18532         1.0  \n",
       "18533         1.0  \n",
       "\n",
       "[2486 rows x 9 columns]"
      ]
     },
     "execution_count": 6,
     "metadata": {},
     "output_type": "execute_result"
    }
   ],
   "source": [
    "df = df[df['is_consider'] == 1]\n",
    "df"
   ]
  },
  {
   "cell_type": "code",
   "execution_count": 7,
   "metadata": {},
   "outputs": [],
   "source": [
    "test_visibility = 0.95"
   ]
  },
  {
   "cell_type": "code",
   "execution_count": 8,
   "metadata": {},
   "outputs": [
    {
     "data": {
      "text/html": [
       "<div>\n",
       "<style scoped>\n",
       "    .dataframe tbody tr th:only-of-type {\n",
       "        vertical-align: middle;\n",
       "    }\n",
       "\n",
       "    .dataframe tbody tr th {\n",
       "        vertical-align: top;\n",
       "    }\n",
       "\n",
       "    .dataframe thead th {\n",
       "        text-align: right;\n",
       "    }\n",
       "</style>\n",
       "<table border=\"1\" class=\"dataframe\">\n",
       "  <thead>\n",
       "    <tr style=\"text-align: right;\">\n",
       "      <th></th>\n",
       "      <th>frame</th>\n",
       "      <th>id</th>\n",
       "      <th>bb_left</th>\n",
       "      <th>bb_top</th>\n",
       "      <th>bb_width</th>\n",
       "      <th>bb_height</th>\n",
       "      <th>is_consider</th>\n",
       "      <th>class</th>\n",
       "      <th>visibility</th>\n",
       "    </tr>\n",
       "  </thead>\n",
       "  <tbody>\n",
       "    <tr>\n",
       "      <th>391</th>\n",
       "      <td>54</td>\n",
       "      <td>2</td>\n",
       "      <td>455</td>\n",
       "      <td>808</td>\n",
       "      <td>113</td>\n",
       "      <td>271</td>\n",
       "      <td>1</td>\n",
       "      <td>1</td>\n",
       "      <td>1.0</td>\n",
       "    </tr>\n",
       "    <tr>\n",
       "      <th>392</th>\n",
       "      <td>55</td>\n",
       "      <td>2</td>\n",
       "      <td>457</td>\n",
       "      <td>808</td>\n",
       "      <td>113</td>\n",
       "      <td>272</td>\n",
       "      <td>1</td>\n",
       "      <td>1</td>\n",
       "      <td>1.0</td>\n",
       "    </tr>\n",
       "    <tr>\n",
       "      <th>393</th>\n",
       "      <td>56</td>\n",
       "      <td>2</td>\n",
       "      <td>459</td>\n",
       "      <td>806</td>\n",
       "      <td>113</td>\n",
       "      <td>274</td>\n",
       "      <td>1</td>\n",
       "      <td>1</td>\n",
       "      <td>1.0</td>\n",
       "    </tr>\n",
       "    <tr>\n",
       "      <th>394</th>\n",
       "      <td>57</td>\n",
       "      <td>2</td>\n",
       "      <td>461</td>\n",
       "      <td>804</td>\n",
       "      <td>113</td>\n",
       "      <td>276</td>\n",
       "      <td>1</td>\n",
       "      <td>1</td>\n",
       "      <td>1.0</td>\n",
       "    </tr>\n",
       "    <tr>\n",
       "      <th>395</th>\n",
       "      <td>58</td>\n",
       "      <td>2</td>\n",
       "      <td>463</td>\n",
       "      <td>802</td>\n",
       "      <td>114</td>\n",
       "      <td>278</td>\n",
       "      <td>1</td>\n",
       "      <td>1</td>\n",
       "      <td>1.0</td>\n",
       "    </tr>\n",
       "    <tr>\n",
       "      <th>...</th>\n",
       "      <td>...</td>\n",
       "      <td>...</td>\n",
       "      <td>...</td>\n",
       "      <td>...</td>\n",
       "      <td>...</td>\n",
       "      <td>...</td>\n",
       "      <td>...</td>\n",
       "      <td>...</td>\n",
       "      <td>...</td>\n",
       "    </tr>\n",
       "    <tr>\n",
       "      <th>18529</th>\n",
       "      <td>425</td>\n",
       "      <td>61</td>\n",
       "      <td>969</td>\n",
       "      <td>517</td>\n",
       "      <td>61</td>\n",
       "      <td>139</td>\n",
       "      <td>1</td>\n",
       "      <td>1</td>\n",
       "      <td>1.0</td>\n",
       "    </tr>\n",
       "    <tr>\n",
       "      <th>18530</th>\n",
       "      <td>426</td>\n",
       "      <td>61</td>\n",
       "      <td>970</td>\n",
       "      <td>518</td>\n",
       "      <td>61</td>\n",
       "      <td>139</td>\n",
       "      <td>1</td>\n",
       "      <td>1</td>\n",
       "      <td>1.0</td>\n",
       "    </tr>\n",
       "    <tr>\n",
       "      <th>18531</th>\n",
       "      <td>427</td>\n",
       "      <td>61</td>\n",
       "      <td>972</td>\n",
       "      <td>519</td>\n",
       "      <td>61</td>\n",
       "      <td>139</td>\n",
       "      <td>1</td>\n",
       "      <td>1</td>\n",
       "      <td>1.0</td>\n",
       "    </tr>\n",
       "    <tr>\n",
       "      <th>18532</th>\n",
       "      <td>428</td>\n",
       "      <td>61</td>\n",
       "      <td>973</td>\n",
       "      <td>520</td>\n",
       "      <td>61</td>\n",
       "      <td>139</td>\n",
       "      <td>1</td>\n",
       "      <td>1</td>\n",
       "      <td>1.0</td>\n",
       "    </tr>\n",
       "    <tr>\n",
       "      <th>18533</th>\n",
       "      <td>429</td>\n",
       "      <td>61</td>\n",
       "      <td>975</td>\n",
       "      <td>522</td>\n",
       "      <td>61</td>\n",
       "      <td>139</td>\n",
       "      <td>1</td>\n",
       "      <td>1</td>\n",
       "      <td>1.0</td>\n",
       "    </tr>\n",
       "  </tbody>\n",
       "</table>\n",
       "<p>2486 rows × 9 columns</p>\n",
       "</div>"
      ],
      "text/plain": [
       "       frame  id  bb_left  bb_top  bb_width  bb_height  is_consider  class  \\\n",
       "391       54   2      455     808       113        271            1      1   \n",
       "392       55   2      457     808       113        272            1      1   \n",
       "393       56   2      459     806       113        274            1      1   \n",
       "394       57   2      461     804       113        276            1      1   \n",
       "395       58   2      463     802       114        278            1      1   \n",
       "...      ...  ..      ...     ...       ...        ...          ...    ...   \n",
       "18529    425  61      969     517        61        139            1      1   \n",
       "18530    426  61      970     518        61        139            1      1   \n",
       "18531    427  61      972     519        61        139            1      1   \n",
       "18532    428  61      973     520        61        139            1      1   \n",
       "18533    429  61      975     522        61        139            1      1   \n",
       "\n",
       "       visibility  \n",
       "391           1.0  \n",
       "392           1.0  \n",
       "393           1.0  \n",
       "394           1.0  \n",
       "395           1.0  \n",
       "...           ...  \n",
       "18529         1.0  \n",
       "18530         1.0  \n",
       "18531         1.0  \n",
       "18532         1.0  \n",
       "18533         1.0  \n",
       "\n",
       "[2486 rows x 9 columns]"
      ]
     },
     "execution_count": 8,
     "metadata": {},
     "output_type": "execute_result"
    }
   ],
   "source": [
    "df = df[df['visibility'] >= test_visibility]\n",
    "df"
   ]
  },
  {
   "attachments": {},
   "cell_type": "markdown",
   "metadata": {},
   "source": [
    "### Расчет длины"
   ]
  },
  {
   "cell_type": "code",
   "execution_count": 9,
   "metadata": {},
   "outputs": [
    {
     "data": {
      "text/plain": [
       "True"
      ]
     },
     "execution_count": 9,
     "metadata": {},
     "output_type": "execute_result"
    }
   ],
   "source": [
    "test_len = 1\n",
    "type(test_len) == int"
   ]
  },
  {
   "cell_type": "code",
   "execution_count": 10,
   "metadata": {},
   "outputs": [
    {
     "name": "stdout",
     "output_type": "stream",
     "text": [
      "[21 22 23 24 25 26]\n"
     ]
    }
   ],
   "source": [
    "objects = df[df['id'] == 4]\n",
    "print(objects['frame'].values)"
   ]
  },
  {
   "cell_type": "code",
   "execution_count": 11,
   "metadata": {},
   "outputs": [],
   "source": [
    "def aggregate(x, y):\n",
    "    if (not type(x) == list):\n",
    "        if (y - x == 1):\n",
    "            return [[x, y]]\n",
    "        else:\n",
    "            return [[x], [y]]\n",
    "    else:\n",
    "        last = x[-1][-1]\n",
    "        if (y - last > 1):\n",
    "            x.append([y])\n",
    "        else:\n",
    "            x[-1].append(y)\n",
    "    return x"
   ]
  },
  {
   "cell_type": "code",
   "execution_count": 12,
   "metadata": {},
   "outputs": [],
   "source": [
    "def split_to_continuous_segments(array):\n",
    "    \"\"\"Возвращает список непрерывных отрезков чисел\"\"\"\n",
    "    if (len(array) == 0):\n",
    "        return [[]]\n",
    "    elif (len(array) == 1):\n",
    "        return [array]\n",
    "    else:\n",
    "        return functools.reduce(aggregate, sorted(array))"
   ]
  },
  {
   "cell_type": "code",
   "execution_count": 13,
   "metadata": {},
   "outputs": [
    {
     "data": {
      "text/plain": [
       "[[1, 2], [4, 5, 6], [23]]"
      ]
     },
     "execution_count": 13,
     "metadata": {},
     "output_type": "execute_result"
    }
   ],
   "source": [
    "split_to_continuous_segments([2, 23, 4, 6, 5, 1])"
   ]
  },
  {
   "cell_type": "code",
   "execution_count": 14,
   "metadata": {},
   "outputs": [],
   "source": [
    "def get_possible_tuples_count_segment(distance: int, segment: list[int]) -> int:\n",
    "    return len(segment) - distance - 1"
   ]
  },
  {
   "cell_type": "code",
   "execution_count": 15,
   "metadata": {},
   "outputs": [],
   "source": [
    "def get_neighbours_tuples_count(distance: int, segments: list[list[int]]):\n",
    "    sum = 0\n",
    "    prev = None\n",
    "    for s in segments:\n",
    "        if (prev == None):\n",
    "            prev = s\n",
    "            continue\n",
    "        if (s[0] - prev[-1] - 1 == distance):\n",
    "            sum += 1\n",
    "        prev = s\n",
    "\n",
    "    return sum"
   ]
  },
  {
   "cell_type": "code",
   "execution_count": 16,
   "metadata": {},
   "outputs": [],
   "source": [
    "def get_possible_tuples_count(distance: int, segments: list[list[int]]) -> int:\n",
    "    sum = 0\n",
    "    for s in segments:\n",
    "        sum += max(0, get_possible_tuples_count_segment(distance, s))\n",
    "\n",
    "    sum += get_neighbours_tuples_count(distance, segments)\n",
    "    return sum"
   ]
  },
  {
   "attachments": {},
   "cell_type": "markdown",
   "metadata": {},
   "source": [
    "### Тестирование"
   ]
  },
  {
   "cell_type": "code",
   "execution_count": 17,
   "metadata": {},
   "outputs": [],
   "source": [
    "def f(d, s):\n",
    "    return get_possible_tuples_count_segment(d, s)\n",
    "\n",
    "def F(d, ss):\n",
    "    return get_possible_tuples_count(d, ss)"
   ]
  },
  {
   "cell_type": "code",
   "execution_count": 18,
   "metadata": {},
   "outputs": [],
   "source": [
    "ss = [[1, 2, 3]]\n",
    "\n",
    "assert(F(0, ss) == 2)\n",
    "assert(F(1, ss) == 1)\n",
    "assert(F(2, ss) == 0)"
   ]
  },
  {
   "cell_type": "code",
   "execution_count": 19,
   "metadata": {},
   "outputs": [],
   "source": [
    "ss = [[1, 2, 3], [5, 6]]\n",
    "\n",
    "assert(F(0, ss) == 3)\n",
    "assert(F(1, ss) == 2)"
   ]
  },
  {
   "cell_type": "code",
   "execution_count": 20,
   "metadata": {},
   "outputs": [],
   "source": [
    "ss = [[1, 2, 3], [5, 6, 7]]\n",
    "\n",
    "assert(F(0, ss) == 4)\n",
    "assert(F(1, ss) == 3)"
   ]
  },
  {
   "cell_type": "code",
   "execution_count": 21,
   "metadata": {},
   "outputs": [],
   "source": [
    "ss = [[1], [5, 6, 7, 8], [10, 11, 12]]\n",
    "\n",
    "assert (F(0, ss) == 5)\n",
    "assert(F(1, ss) == 4)"
   ]
  },
  {
   "cell_type": "code",
   "execution_count": 22,
   "metadata": {},
   "outputs": [],
   "source": [
    "ss = [[2], [5]]\n",
    "\n",
    "assert (F(0, ss) == 0)\n",
    "assert (F(1, ss) == 0)\n",
    "assert (F(2, ss) == 1)\n",
    "assert (F(3, ss) == 0)"
   ]
  },
  {
   "attachments": {},
   "cell_type": "markdown",
   "metadata": {},
   "source": [
    "### Индексация"
   ]
  },
  {
   "cell_type": "code",
   "execution_count": 23,
   "metadata": {},
   "outputs": [
    {
     "data": {
      "text/plain": [
       "{1: 3}"
      ]
     },
     "execution_count": 23,
     "metadata": {},
     "output_type": "execute_result"
    }
   ],
   "source": [
    "d = {1: 3}\n",
    "d"
   ]
  },
  {
   "cell_type": "code",
   "execution_count": 24,
   "metadata": {},
   "outputs": [],
   "source": [
    "l = [21, 43]\n",
    "list2 = [1, 2, 3]"
   ]
  },
  {
   "cell_type": "code",
   "execution_count": 25,
   "metadata": {},
   "outputs": [
    {
     "data": {
      "text/plain": [
       "[21, 43, 1, 2, 3]"
      ]
     },
     "execution_count": 25,
     "metadata": {},
     "output_type": "execute_result"
    }
   ],
   "source": [
    "l + list2"
   ]
  },
  {
   "cell_type": "code",
   "execution_count": 2,
   "metadata": {},
   "outputs": [
    {
     "name": "stderr",
     "output_type": "stream",
     "text": [
      "/home/nick/reidentification/.conda/lib/python3.10/site-packages/tqdm/auto.py:21: TqdmWarning: IProgress not found. Please update jupyter and ipywidgets. See https://ipywidgets.readthedocs.io/en/stable/user_install.html\n",
      "  from .autonotebook import tqdm as notebook_tqdm\n"
     ]
    }
   ],
   "source": [
    "from src.data.utils import get_possible_tuples"
   ]
  },
  {
   "cell_type": "code",
   "execution_count": 3,
   "metadata": {},
   "outputs": [],
   "source": [
    "ss = [[1, 2, 3, 4, 5], [9, 10, 11, 12, 13], [23, 24, 25]]"
   ]
  },
  {
   "cell_type": "code",
   "execution_count": 4,
   "metadata": {},
   "outputs": [
    {
     "data": {
      "text/plain": [
       "[(1, 2),\n",
       " (2, 3),\n",
       " (3, 4),\n",
       " (4, 5),\n",
       " (9, 10),\n",
       " (10, 11),\n",
       " (11, 12),\n",
       " (12, 13),\n",
       " (23, 24),\n",
       " (24, 25)]"
      ]
     },
     "execution_count": 4,
     "metadata": {},
     "output_type": "execute_result"
    }
   ],
   "source": [
    "get_possible_tuples(0, ss)"
   ]
  },
  {
   "cell_type": "code",
   "execution_count": 5,
   "metadata": {},
   "outputs": [
    {
     "data": {
      "text/plain": [
       "[(1, 3), (2, 4), (3, 5), (9, 11), (10, 12), (11, 13), (23, 25)]"
      ]
     },
     "execution_count": 5,
     "metadata": {},
     "output_type": "execute_result"
    }
   ],
   "source": [
    "get_possible_tuples(1, ss)"
   ]
  },
  {
   "cell_type": "code",
   "execution_count": 6,
   "metadata": {},
   "outputs": [
    {
     "data": {
      "text/plain": [
       "[(1, 4), (2, 5), (9, 12), (10, 13)]"
      ]
     },
     "execution_count": 6,
     "metadata": {},
     "output_type": "execute_result"
    }
   ],
   "source": [
    "get_possible_tuples(2, ss)"
   ]
  },
  {
   "cell_type": "code",
   "execution_count": 8,
   "metadata": {},
   "outputs": [
    {
     "data": {
      "text/plain": [
       "[(1, 5), (5, 9), (9, 13)]"
      ]
     },
     "execution_count": 8,
     "metadata": {},
     "output_type": "execute_result"
    }
   ],
   "source": [
    "get_possible_tuples(3, ss)"
   ]
  },
  {
   "cell_type": "code",
   "execution_count": 9,
   "metadata": {},
   "outputs": [
    {
     "data": {
      "text/plain": [
       "[(13, 23)]"
      ]
     },
     "execution_count": 9,
     "metadata": {},
     "output_type": "execute_result"
    }
   ],
   "source": [
    "get_possible_tuples(9, ss)"
   ]
  },
  {
   "cell_type": "code",
   "execution_count": 22,
   "metadata": {},
   "outputs": [
    {
     "name": "stdout",
     "output_type": "stream",
     "text": [
      "32\n",
      "3\n"
     ]
    }
   ],
   "source": [
    "for k, v in {1: 32, 3: 3}.items():\n",
    "    print(v)"
   ]
  }
 ],
 "metadata": {
  "kernelspec": {
   "display_name": "Python 3",
   "language": "python",
   "name": "python3"
  },
  "language_info": {
   "codemirror_mode": {
    "name": "ipython",
    "version": 3
   },
   "file_extension": ".py",
   "mimetype": "text/x-python",
   "name": "python",
   "nbconvert_exporter": "python",
   "pygments_lexer": "ipython3",
   "version": "3.10.11"
  },
  "orig_nbformat": 4
 },
 "nbformat": 4,
 "nbformat_minor": 2
}
