{
 "cells": [
  {
   "attachments": {},
   "cell_type": "markdown",
   "metadata": {},
   "source": [
    "# Тестирование логгирования\n",
    "_Воспроизведение экспериментов_"
   ]
  },
  {
   "cell_type": "code",
   "execution_count": 1,
   "metadata": {},
   "outputs": [],
   "source": [
    "from datetime import datetime\n",
    "from os.path import exists, join\n",
    "\n",
    "import albumentations as A\n",
    "import numpy as np\n",
    "import pandas as pd\n",
    "import torch\n",
    "import torchvision\n",
    "from torch.nn import CrossEntropyLoss\n",
    "from torch.optim import SGD, Adam\n",
    "from torch.optim.lr_scheduler import StepLR\n",
    "from torch.utils.data import DataLoader\n",
    "\n",
    "from src.config import (MOT20_EXT_FIRST_AXIS_MEAN, MOT20_EXT_SECOND_AXIS_MEAN,\n",
    "                        RESULTS_PATH)\n",
    "from src.models.reidentification import SiameseBasicCNN, SiameseTransfered\n",
    "from src.models.utils import resnet_grad_l4_unlock\n",
    "from src.train import get_loaders, train_siamese\n",
    "from src.train.loss import ContrastiveLoss\n",
    "from src.train.utils import save_train_results, get_distance_accuracy\n",
    "from src.transforms import get_norm_transform, get_resize_transform\n",
    "from tqdm import tqdm"
   ]
  },
  {
   "attachments": {},
   "cell_type": "markdown",
   "metadata": {},
   "source": [
    "## Создание и обработка csv"
   ]
  },
  {
   "cell_type": "code",
   "execution_count": 3,
   "metadata": {},
   "outputs": [
    {
     "data": {
      "text/plain": [
       "model_name                object\n",
       "datetime          datetime64[ns]\n",
       "epoch_count                int32\n",
       "optimizer                 object\n",
       "lr                       float64\n",
       "gamma                    float64\n",
       "step_size                  int32\n",
       "loss_name                 object\n",
       "dataset_config            object\n",
       "dtype: object"
      ]
     },
     "execution_count": 3,
     "metadata": {},
     "output_type": "execute_result"
    }
   ],
   "source": [
    "df = pd.DataFrame(columns=[\n",
    "    'model_name',\n",
    "    'datetime',\n",
    "    'epoch_count',\n",
    "    'optimizer',\n",
    "    'lr',\n",
    "    'gamma',\n",
    "    'step_size',\n",
    "    'loss_name',\n",
    "    'dataset_config'\n",
    "])\n",
    "\n",
    "dt = str(datetime.now())\n",
    "\n",
    "df.loc[len(df)] = [\n",
    "    'test',\n",
    "    dt,\n",
    "    1,\n",
    "    'adam',\n",
    "    1e-3,\n",
    "    0.5,\n",
    "    2,\n",
    "    'contr',\n",
    "    'a'\n",
    "]\n",
    "\n",
    "df = df.astype({\n",
    "    'model_name': 'object',\n",
    "    'datetime': 'datetime64',\n",
    "    'epoch_count': 'i4',\n",
    "    'optimizer': 'object',\n",
    "    'lr': 'float64',\n",
    "    'gamma': 'float64',\n",
    "    'step_size': 'i4',\n",
    "    'loss_name': 'object',\n",
    "    'dataset_config': 'object'\n",
    "})\n",
    "\n",
    "# df.astype({\n",
    "#     'model_name': 'int32'\n",
    "# })\n",
    "\n",
    "df.dtypes"
   ]
  },
  {
   "cell_type": "code",
   "execution_count": null,
   "metadata": {},
   "outputs": [],
   "source": []
  },
  {
   "cell_type": "code",
   "execution_count": 2,
   "metadata": {},
   "outputs": [],
   "source": [
    "file_path = join(RESULTS_PATH, 'experiments.csv')\n",
    "config_path = join(RESULTS_PATH, 'configs.csv')\n",
    "\n",
    "# # experiments.csv\n",
    "# # pd.read_csv()\n",
    "# df.to_csv(file_path, sep=',', index=False)"
   ]
  },
  {
   "cell_type": "code",
   "execution_count": 5,
   "metadata": {},
   "outputs": [],
   "source": [
    "# pd.read_csv(file_path)"
   ]
  },
  {
   "cell_type": "code",
   "execution_count": 6,
   "metadata": {},
   "outputs": [],
   "source": [
    "# if (not exists(file_path)):\n",
    "#     # TODO: указать типы\n",
    "#     pd.DataFrame(columns=[\n",
    "#         'model_name',\n",
    "#         'datetime',\n",
    "#         'epoch_count',\n",
    "#         'optimizer',\n",
    "#         'lr',\n",
    "#         'gamma',\n",
    "#         'step_size',\n",
    "#         'loss_name',\n",
    "#         'dataset_config'\n",
    "#     ]).to_csv(file_path, sep=',', index=False)"
   ]
  },
  {
   "cell_type": "code",
   "execution_count": 7,
   "metadata": {},
   "outputs": [],
   "source": [
    "# df = pd.read_csv(file_path)"
   ]
  },
  {
   "cell_type": "code",
   "execution_count": 8,
   "metadata": {},
   "outputs": [
    {
     "data": {
      "text/html": [
       "<div>\n",
       "<style scoped>\n",
       "    .dataframe tbody tr th:only-of-type {\n",
       "        vertical-align: middle;\n",
       "    }\n",
       "\n",
       "    .dataframe tbody tr th {\n",
       "        vertical-align: top;\n",
       "    }\n",
       "\n",
       "    .dataframe thead th {\n",
       "        text-align: right;\n",
       "    }\n",
       "</style>\n",
       "<table border=\"1\" class=\"dataframe\">\n",
       "  <thead>\n",
       "    <tr style=\"text-align: right;\">\n",
       "      <th></th>\n",
       "      <th>model_name</th>\n",
       "      <th>datetime</th>\n",
       "      <th>epoch_count</th>\n",
       "      <th>optimizer</th>\n",
       "      <th>lr</th>\n",
       "      <th>gamma</th>\n",
       "      <th>step_size</th>\n",
       "      <th>loss_name</th>\n",
       "      <th>dataset_config</th>\n",
       "    </tr>\n",
       "  </thead>\n",
       "  <tbody>\n",
       "    <tr>\n",
       "      <th>0</th>\n",
       "      <td>test2</td>\n",
       "      <td>2023-05-15 23:49:07.326662</td>\n",
       "      <td>1</td>\n",
       "      <td>adam</td>\n",
       "      <td>0.001</td>\n",
       "      <td>0.5</td>\n",
       "      <td>2</td>\n",
       "      <td>contr</td>\n",
       "      <td>a</td>\n",
       "    </tr>\n",
       "  </tbody>\n",
       "</table>\n",
       "</div>"
      ],
      "text/plain": [
       "  model_name                    datetime  epoch_count optimizer     lr  gamma  \\\n",
       "0      test2  2023-05-15 23:49:07.326662            1      adam  0.001    0.5   \n",
       "\n",
       "   step_size loss_name dataset_config  \n",
       "0          2     contr              a  "
      ]
     },
     "execution_count": 8,
     "metadata": {},
     "output_type": "execute_result"
    }
   ],
   "source": [
    "res = pd.DataFrame({\n",
    "    'model_name': 'test2',\n",
    "    'datetime': dt,\n",
    "    'epoch_count': 1,\n",
    "    'optimizer': 'adam',\n",
    "    'lr': 1e-3,\n",
    "    'gamma': 0.5,\n",
    "    'step_size': 2,\n",
    "    'loss_name': 'contr',\n",
    "    'dataset_config': 'a'\n",
    "}, index=[0])\n",
    "res"
   ]
  },
  {
   "cell_type": "code",
   "execution_count": 9,
   "metadata": {},
   "outputs": [
    {
     "name": "stderr",
     "output_type": "stream",
     "text": [
      "/tmp/ipykernel_35355/3392409908.py:1: FutureWarning: The frame.append method is deprecated and will be removed from pandas in a future version. Use pandas.concat instead.\n",
      "  df = df.append(res)\n"
     ]
    },
    {
     "data": {
      "text/html": [
       "<div>\n",
       "<style scoped>\n",
       "    .dataframe tbody tr th:only-of-type {\n",
       "        vertical-align: middle;\n",
       "    }\n",
       "\n",
       "    .dataframe tbody tr th {\n",
       "        vertical-align: top;\n",
       "    }\n",
       "\n",
       "    .dataframe thead th {\n",
       "        text-align: right;\n",
       "    }\n",
       "</style>\n",
       "<table border=\"1\" class=\"dataframe\">\n",
       "  <thead>\n",
       "    <tr style=\"text-align: right;\">\n",
       "      <th></th>\n",
       "      <th>model_name</th>\n",
       "      <th>datetime</th>\n",
       "      <th>epoch_count</th>\n",
       "      <th>optimizer</th>\n",
       "      <th>lr</th>\n",
       "      <th>gamma</th>\n",
       "      <th>step_size</th>\n",
       "      <th>loss_name</th>\n",
       "      <th>dataset_config</th>\n",
       "    </tr>\n",
       "  </thead>\n",
       "  <tbody>\n",
       "    <tr>\n",
       "      <th>0</th>\n",
       "      <td>test</td>\n",
       "      <td>2023-05-15 23:49:07.326662</td>\n",
       "      <td>1</td>\n",
       "      <td>adam</td>\n",
       "      <td>0.001</td>\n",
       "      <td>0.5</td>\n",
       "      <td>2</td>\n",
       "      <td>contr</td>\n",
       "      <td>a</td>\n",
       "    </tr>\n",
       "    <tr>\n",
       "      <th>0</th>\n",
       "      <td>test2</td>\n",
       "      <td>2023-05-15 23:49:07.326662</td>\n",
       "      <td>1</td>\n",
       "      <td>adam</td>\n",
       "      <td>0.001</td>\n",
       "      <td>0.5</td>\n",
       "      <td>2</td>\n",
       "      <td>contr</td>\n",
       "      <td>a</td>\n",
       "    </tr>\n",
       "  </tbody>\n",
       "</table>\n",
       "</div>"
      ],
      "text/plain": [
       "  model_name                    datetime  epoch_count optimizer     lr  gamma  \\\n",
       "0       test  2023-05-15 23:49:07.326662            1      adam  0.001    0.5   \n",
       "0      test2  2023-05-15 23:49:07.326662            1      adam  0.001    0.5   \n",
       "\n",
       "   step_size loss_name dataset_config  \n",
       "0          2     contr              a  \n",
       "0          2     contr              a  "
      ]
     },
     "execution_count": 9,
     "metadata": {},
     "output_type": "execute_result"
    }
   ],
   "source": [
    "df = df.append(res)\n",
    "df"
   ]
  },
  {
   "cell_type": "code",
   "execution_count": 10,
   "metadata": {},
   "outputs": [],
   "source": [
    "# df.to_csv(file_path, sep=',', index=False)"
   ]
  },
  {
   "cell_type": "code",
   "execution_count": 11,
   "metadata": {},
   "outputs": [],
   "source": [
    "# pd.read_csv(file_path)"
   ]
  },
  {
   "attachments": {},
   "cell_type": "markdown",
   "metadata": {},
   "source": [
    "## Сохранение конфигов"
   ]
  },
  {
   "cell_type": "code",
   "execution_count": 12,
   "metadata": {},
   "outputs": [
    {
     "data": {
      "text/html": [
       "<div>\n",
       "<style scoped>\n",
       "    .dataframe tbody tr th:only-of-type {\n",
       "        vertical-align: middle;\n",
       "    }\n",
       "\n",
       "    .dataframe tbody tr th {\n",
       "        vertical-align: top;\n",
       "    }\n",
       "\n",
       "    .dataframe thead th {\n",
       "        text-align: right;\n",
       "    }\n",
       "</style>\n",
       "<table border=\"1\" class=\"dataframe\">\n",
       "  <thead>\n",
       "    <tr style=\"text-align: right;\">\n",
       "      <th></th>\n",
       "      <th>dataset_config</th>\n",
       "      <th>dataset</th>\n",
       "      <th>dataset_use</th>\n",
       "      <th>train_proportion</th>\n",
       "      <th>val_proportion</th>\n",
       "      <th>test_proportion</th>\n",
       "      <th>batch_size</th>\n",
       "    </tr>\n",
       "  </thead>\n",
       "  <tbody>\n",
       "  </tbody>\n",
       "</table>\n",
       "</div>"
      ],
      "text/plain": [
       "Empty DataFrame\n",
       "Columns: [dataset_config, dataset, dataset_use, train_proportion, val_proportion, test_proportion, batch_size]\n",
       "Index: []"
      ]
     },
     "execution_count": 12,
     "metadata": {},
     "output_type": "execute_result"
    }
   ],
   "source": [
    "df_config = pd.DataFrame(columns=[\n",
    "    'dataset_config',\n",
    "    'dataset',\n",
    "    'dataset_use',\n",
    "    'train_proportion',\n",
    "    'val_proportion',\n",
    "    'test_proportion',\n",
    "    'batch_size',\n",
    "])\n",
    "df_config"
   ]
  },
  {
   "cell_type": "code",
   "execution_count": 13,
   "metadata": {},
   "outputs": [],
   "source": [
    "res = pd.DataFrame({\n",
    "    'dataset_config': 'mot1',\n",
    "    'dataset': 'mot',\n",
    "    'dataset_use': 0.02,\n",
    "    'train_proportion': 0.7,\n",
    "    'val_proportion': 0.15,\n",
    "    'test_proportion': 0.15,\n",
    "    'batch_size': 16\n",
    "}, index=[0])"
   ]
  },
  {
   "cell_type": "code",
   "execution_count": 14,
   "metadata": {},
   "outputs": [
    {
     "name": "stderr",
     "output_type": "stream",
     "text": [
      "/tmp/ipykernel_35355/76728779.py:1: FutureWarning: The frame.append method is deprecated and will be removed from pandas in a future version. Use pandas.concat instead.\n",
      "  df_config = df_config.append(res)\n"
     ]
    },
    {
     "data": {
      "text/html": [
       "<div>\n",
       "<style scoped>\n",
       "    .dataframe tbody tr th:only-of-type {\n",
       "        vertical-align: middle;\n",
       "    }\n",
       "\n",
       "    .dataframe tbody tr th {\n",
       "        vertical-align: top;\n",
       "    }\n",
       "\n",
       "    .dataframe thead th {\n",
       "        text-align: right;\n",
       "    }\n",
       "</style>\n",
       "<table border=\"1\" class=\"dataframe\">\n",
       "  <thead>\n",
       "    <tr style=\"text-align: right;\">\n",
       "      <th></th>\n",
       "      <th>dataset_config</th>\n",
       "      <th>dataset</th>\n",
       "      <th>dataset_use</th>\n",
       "      <th>train_proportion</th>\n",
       "      <th>val_proportion</th>\n",
       "      <th>test_proportion</th>\n",
       "      <th>batch_size</th>\n",
       "    </tr>\n",
       "  </thead>\n",
       "  <tbody>\n",
       "    <tr>\n",
       "      <th>0</th>\n",
       "      <td>mot1</td>\n",
       "      <td>mot</td>\n",
       "      <td>0.02</td>\n",
       "      <td>0.7</td>\n",
       "      <td>0.15</td>\n",
       "      <td>0.15</td>\n",
       "      <td>16</td>\n",
       "    </tr>\n",
       "  </tbody>\n",
       "</table>\n",
       "</div>"
      ],
      "text/plain": [
       "  dataset_config dataset  dataset_use  train_proportion  val_proportion  \\\n",
       "0           mot1     mot         0.02               0.7            0.15   \n",
       "\n",
       "   test_proportion batch_size  \n",
       "0             0.15         16  "
      ]
     },
     "execution_count": 14,
     "metadata": {},
     "output_type": "execute_result"
    }
   ],
   "source": [
    "df_config = df_config.append(res)\n",
    "df_config"
   ]
  },
  {
   "cell_type": "code",
   "execution_count": 15,
   "metadata": {},
   "outputs": [
    {
     "data": {
      "text/plain": [
       "(True, False)"
      ]
     },
     "execution_count": 15,
     "metadata": {},
     "output_type": "execute_result"
    }
   ],
   "source": [
    "'mot1' in df_config['dataset_config'].unique(), 'mot2' in df_config['dataset_config'].unique()"
   ]
  },
  {
   "cell_type": "code",
   "execution_count": 16,
   "metadata": {},
   "outputs": [],
   "source": [
    "conf = {\n",
    "    \"mot20_ext_v1\": {\n",
    "        \"dataset_config\": 'mot20_ext_v1',\n",
    "        \"dataset\": 'MOT20_ext',\n",
    "        \"dataset_use\": 0.002,\n",
    "        \"train_proportion\": 0.65,\n",
    "        \"val_proportion\": 0.15,\n",
    "        \"test_proportion\": 0.2,\n",
    "        \"batch_size\": 16\n",
    "    },\n",
    "    \"mot20_ext_v2\": {\n",
    "        \"dataset_config\": 'mot20_ext_v2',\n",
    "        \"dataset\": 'MOT20_ext',\n",
    "        \"dataset_use\": 0.002,\n",
    "        \"train_proportion\": 0.65,\n",
    "        \"val_proportion\": 0.15,\n",
    "        \"test_proportion\": 0.2,\n",
    "        \"batch_size\": 16,\n",
    "        'extra_values': {\n",
    "            'visibility_threshold': 0.7,\n",
    "            'frame_distance': 3,\n",
    "            'negative_proportion': 0.5\n",
    "        }\n",
    "    }\n",
    "}"
   ]
  },
  {
   "cell_type": "code",
   "execution_count": 17,
   "metadata": {},
   "outputs": [
    {
     "data": {
      "text/html": [
       "<div>\n",
       "<style scoped>\n",
       "    .dataframe tbody tr th:only-of-type {\n",
       "        vertical-align: middle;\n",
       "    }\n",
       "\n",
       "    .dataframe tbody tr th {\n",
       "        vertical-align: top;\n",
       "    }\n",
       "\n",
       "    .dataframe thead th {\n",
       "        text-align: right;\n",
       "    }\n",
       "</style>\n",
       "<table border=\"1\" class=\"dataframe\">\n",
       "  <thead>\n",
       "    <tr style=\"text-align: right;\">\n",
       "      <th></th>\n",
       "      <th>dataset_config</th>\n",
       "      <th>dataset</th>\n",
       "      <th>dataset_use</th>\n",
       "      <th>train_proportion</th>\n",
       "      <th>val_proportion</th>\n",
       "      <th>test_proportion</th>\n",
       "      <th>batch_size</th>\n",
       "    </tr>\n",
       "  </thead>\n",
       "  <tbody>\n",
       "    <tr>\n",
       "      <th>0</th>\n",
       "      <td>mot20_ext_v1</td>\n",
       "      <td>MOT20_ext</td>\n",
       "      <td>0.002</td>\n",
       "      <td>0.65</td>\n",
       "      <td>0.15</td>\n",
       "      <td>0.2</td>\n",
       "      <td>16</td>\n",
       "    </tr>\n",
       "  </tbody>\n",
       "</table>\n",
       "</div>"
      ],
      "text/plain": [
       "  dataset_config    dataset  dataset_use  train_proportion  val_proportion  \\\n",
       "0   mot20_ext_v1  MOT20_ext        0.002              0.65            0.15   \n",
       "\n",
       "   test_proportion  batch_size  \n",
       "0              0.2          16  "
      ]
     },
     "execution_count": 17,
     "metadata": {},
     "output_type": "execute_result"
    }
   ],
   "source": [
    "pd.DataFrame(conf['mot20_ext_v1'], index=[0])"
   ]
  },
  {
   "attachments": {},
   "cell_type": "markdown",
   "metadata": {},
   "source": [
    "## Проверка функций"
   ]
  },
  {
   "cell_type": "code",
   "execution_count": 18,
   "metadata": {},
   "outputs": [],
   "source": [
    "# save_train_results(\n",
    "#     'siamese1',\n",
    "#     datetime.now(),\n",
    "#     10, \n",
    "#     1e-3,\n",
    "#     'adam',\n",
    "#     'contrastive',\n",
    "#     'mot20_ext_v1',\n",
    "#     0.5,\n",
    "#     3\n",
    "# )"
   ]
  },
  {
   "cell_type": "code",
   "execution_count": 19,
   "metadata": {},
   "outputs": [],
   "source": [
    "# save_train_results(\n",
    "#     'siamese2',\n",
    "#     datetime.now(),\n",
    "#     10, \n",
    "#     1e-3,\n",
    "#     'adam',\n",
    "#     'contrastive',\n",
    "#     'mot20_ext_v1',\n",
    "#     0.5,\n",
    "#     3,\n",
    "#     conf['mot20_ext_v1']\n",
    "# )"
   ]
  },
  {
   "cell_type": "code",
   "execution_count": 20,
   "metadata": {},
   "outputs": [],
   "source": [
    "# save_train_results(\n",
    "#     'siamese2',\n",
    "#     datetime.now(),\n",
    "#     10, \n",
    "#     1e-3,\n",
    "#     'adam',\n",
    "#     'contrastive',\n",
    "#     'mot20_ext_v1',\n",
    "#     0.5,\n",
    "#     3,\n",
    "#     conf['mot20_ext_v1']\n",
    "# )"
   ]
  },
  {
   "cell_type": "code",
   "execution_count": 21,
   "metadata": {},
   "outputs": [],
   "source": [
    "# save_train_results(\n",
    "#     'siamese2',\n",
    "#     datetime.now(),\n",
    "#     10, \n",
    "#     1e-3,\n",
    "#     'adam',\n",
    "#     'contrastive',\n",
    "#     'mot20_ext_v1',\n",
    "#     0.5,\n",
    "#     3,\n",
    "#     conf['mot20_ext_v2']\n",
    "# )"
   ]
  },
  {
   "attachments": {},
   "cell_type": "markdown",
   "metadata": {},
   "source": [
    "### Экстра параметры"
   ]
  },
  {
   "cell_type": "code",
   "execution_count": 22,
   "metadata": {},
   "outputs": [
    {
     "name": "stdout",
     "output_type": "stream",
     "text": [
      "visibility_threshold 0.7\n",
      "frame_distance 3\n",
      "negative_proportion 0.5\n"
     ]
    }
   ],
   "source": [
    "extra = {\n",
    "    'visibility_threshold': 0.7,\n",
    "    'frame_distance': 3,\n",
    "    'negative_proportion': 0.5\n",
    "}\n",
    "\n",
    "for k, v in zip(extra, extra.values()):\n",
    "    print(k, v)"
   ]
  },
  {
   "cell_type": "code",
   "execution_count": 23,
   "metadata": {},
   "outputs": [
    {
     "data": {
      "text/plain": [
       "'visibility_threshold=0.7;frame_distance=3;negative_proportion=0.5'"
      ]
     },
     "execution_count": 23,
     "metadata": {},
     "output_type": "execute_result"
    }
   ],
   "source": [
    "';'.join([f'{k}={v}' for k, v in zip(extra, extra.values())])"
   ]
  },
  {
   "cell_type": "code",
   "execution_count": 24,
   "metadata": {},
   "outputs": [
    {
     "data": {
      "text/plain": [
       "{'dataset_config': 'mot20_ext_v2',\n",
       " 'dataset': 'MOT20_ext',\n",
       " 'dataset_use': 0.002,\n",
       " 'train_proportion': 0.65,\n",
       " 'val_proportion': 0.15,\n",
       " 'test_proportion': 0.2,\n",
       " 'batch_size': 16,\n",
       " 'extra_values': 'visibility_threshold=0.7;frame_distance=3;negative_proportion=0.5'}"
      ]
     },
     "execution_count": 24,
     "metadata": {},
     "output_type": "execute_result"
    }
   ],
   "source": [
    "c = conf['mot20_ext_v2']\n",
    "c['extra_values'] = ';'.join([f'{k}={v}' for k, v in zip(\n",
    "    c['extra_values'], c['extra_values'].values())])\n",
    "c"
   ]
  },
  {
   "cell_type": "code",
   "execution_count": 25,
   "metadata": {},
   "outputs": [],
   "source": [
    "# save_train_results(\n",
    "#     'siamese2',\n",
    "#     datetime.now(),\n",
    "#     10, \n",
    "#     1e-3,\n",
    "#     'adam',\n",
    "#     'contrastive',\n",
    "#     'mot20_ext_v1',\n",
    "#     0.5,\n",
    "#     3,\n",
    "#     conf['mot20_ext_v2']\n",
    "# )"
   ]
  },
  {
   "cell_type": "code",
   "execution_count": 26,
   "metadata": {},
   "outputs": [],
   "source": [
    "# pd.read_csv(join(RESULTS_PATH, 'configs.csv'))"
   ]
  },
  {
   "cell_type": "code",
   "execution_count": 27,
   "metadata": {},
   "outputs": [
    {
     "data": {
      "text/plain": [
       "'1.1;1.2;1.3'"
      ]
     },
     "execution_count": 27,
     "metadata": {},
     "output_type": "execute_result"
    }
   ],
   "source": [
    "a = [1.1, 1.2, 1.3]\n",
    "';'.join(map(str, a))"
   ]
  },
  {
   "attachments": {},
   "cell_type": "markdown",
   "metadata": {},
   "source": [
    "## Тестирование при обучении"
   ]
  },
  {
   "cell_type": "code",
   "execution_count": 28,
   "metadata": {},
   "outputs": [],
   "source": [
    "# настройка параметров датасета\n",
    "dataset_config = {\n",
    "    'dataset_config': 'mot20_ext-v1a',\n",
    "    'dataset': 'mot20_ext',\n",
    "    'dataset_use': 0.002,\n",
    "    'val_proportion': 0.1,\n",
    "    'test_proportion': 0.2,\n",
    "    'batch_size': 16,\n",
    "    'extra_parameters': {\n",
    "        'visibility_threshold': 0.9,\n",
    "        'negative_proportion': 0.4\n",
    "    }\n",
    "}"
   ]
  },
  {
   "cell_type": "code",
   "execution_count": 29,
   "metadata": {},
   "outputs": [
    {
     "name": "stderr",
     "output_type": "stream",
     "text": [
      "/home/nick/reidentification/.conda/lib/python3.10/site-packages/torchvision/models/_utils.py:208: UserWarning: The parameter 'pretrained' is deprecated since 0.13 and will be removed in 0.15, please use 'weights' instead.\n",
      "  warnings.warn(\n",
      "/home/nick/reidentification/.conda/lib/python3.10/site-packages/torchvision/models/_utils.py:223: UserWarning: Arguments other than a weight enum or `None` for 'weights' are deprecated since 0.13 and will be removed in 0.15. The current behavior is equivalent to passing `weights=ResNet18_Weights.IMAGENET1K_V1`. You can also use `weights=ResNet18_Weights.DEFAULT` to get the most up-to-date weights.\n",
      "  warnings.warn(msg)\n"
     ]
    }
   ],
   "source": [
    "# создание трансформаций\n",
    "resize_transform = get_resize_transform((MOT20_EXT_FIRST_AXIS_MEAN, MOT20_EXT_SECOND_AXIS_MEAN)) \n",
    "norm_transform = get_norm_transform()\n",
    "transform = A.Compose([resize_transform, norm_transform])\n",
    "# загрузка даталоадеров\n",
    "train_loader, val_loader, test_loader = get_loaders(dataset_config, transform=transform)\n",
    "# настройка модели\n",
    "model_rn18_l4 = SiameseTransfered(\n",
    "    # выделение признаков - resnet18\n",
    "    torchvision.models.resnet18(pretrained=True),\n",
    "    # разморозка layer4 и выходного линейного\n",
    "    freeze_grad_fn=resnet_grad_l4_unlock,\n",
    "    # имя\n",
    "    name='siamese_resnet18_l4'\n",
    ")\n",
    "\n",
    "lr = 1e-3\n",
    "criterion = ContrastiveLoss()\n",
    "optimizer = Adam(model_rn18_l4.parameters(), lr)\n",
    "device = torch.device(\"cuda:0\" if torch.cuda.is_available() else \"cpu\")\n"
   ]
  },
  {
   "cell_type": "code",
   "execution_count": 30,
   "metadata": {},
   "outputs": [
    {
     "name": "stdout",
     "output_type": "stream",
     "text": [
      "Epoch 0/0:\n"
     ]
    },
    {
     "name": "stderr",
     "output_type": "stream",
     "text": [
      "100%|██████████| 33/33 [01:13<00:00,  2.21s/it]"
     ]
    },
    {
     "name": "stdout",
     "output_type": "stream",
     "text": [
      "train Loss: 630.9809 Acc: 0.8580\n"
     ]
    },
    {
     "name": "stderr",
     "output_type": "stream",
     "text": [
      "\n",
      "100%|██████████| 4/4 [00:02<00:00,  1.87it/s]"
     ]
    },
    {
     "name": "stdout",
     "output_type": "stream",
     "text": [
      "val Loss: 26.3586 Acc: 0.9375\n",
      "Model saved at siamese_resnet18_l4.pth\n"
     ]
    },
    {
     "name": "stderr",
     "output_type": "stream",
     "text": [
      "\n",
      "/home/nick/reidentification/src/train/utils.py:111: FutureWarning: The frame.append method is deprecated and will be removed from pandas in a future version. Use pandas.concat instead.\n",
      "  df = df.append(pd.DataFrame({\n"
     ]
    }
   ],
   "source": [
    "model, results = train_siamese(\n",
    "    config=dataset_config,\n",
    "    criterion=criterion,\n",
    "    device=device,\n",
    "    epoch_count=1,\n",
    "    lr=lr,\n",
    "    model=model_rn18_l4,\n",
    "    optimizer=optimizer,\n",
    "    threshold=0.25,\n",
    "    train_loader=train_loader,\n",
    "    val_loader=val_loader,\n",
    ")"
   ]
  },
  {
   "cell_type": "code",
   "execution_count": 31,
   "metadata": {},
   "outputs": [
    {
     "data": {
      "text/plain": [
       "0.5"
      ]
     },
     "execution_count": 31,
     "metadata": {},
     "output_type": "execute_result"
    }
   ],
   "source": [
    "torch.eq(torch.tensor([1, 2]), torch.tensor([1, 1])).float().mean().item()"
   ]
  },
  {
   "attachments": {},
   "cell_type": "markdown",
   "metadata": {},
   "source": [
    "## Воспроизведение результатов"
   ]
  },
  {
   "cell_type": "code",
   "execution_count": 5,
   "metadata": {},
   "outputs": [
    {
     "data": {
      "text/html": [
       "<div>\n",
       "<style scoped>\n",
       "    .dataframe tbody tr th:only-of-type {\n",
       "        vertical-align: middle;\n",
       "    }\n",
       "\n",
       "    .dataframe tbody tr th {\n",
       "        vertical-align: top;\n",
       "    }\n",
       "\n",
       "    .dataframe thead th {\n",
       "        text-align: right;\n",
       "    }\n",
       "</style>\n",
       "<table border=\"1\" class=\"dataframe\">\n",
       "  <thead>\n",
       "    <tr style=\"text-align: right;\">\n",
       "      <th></th>\n",
       "      <th>model_name</th>\n",
       "      <th>datetime</th>\n",
       "      <th>epoch_count</th>\n",
       "      <th>optimizer</th>\n",
       "      <th>lr</th>\n",
       "      <th>gamma</th>\n",
       "      <th>step_size</th>\n",
       "      <th>loss_name</th>\n",
       "      <th>dataset_config</th>\n",
       "      <th>extra_parameters</th>\n",
       "      <th>val_losses</th>\n",
       "      <th>val_accuracies</th>\n",
       "      <th>test_accuracy</th>\n",
       "    </tr>\n",
       "  </thead>\n",
       "  <tbody>\n",
       "    <tr>\n",
       "      <th>0</th>\n",
       "      <td>siamese_resnet18_l4</td>\n",
       "      <td>2023-05-15 14:16:41.458515</td>\n",
       "      <td>1</td>\n",
       "      <td>Adam</td>\n",
       "      <td>0.001</td>\n",
       "      <td>NaN</td>\n",
       "      <td>NaN</td>\n",
       "      <td>ContrastiveLoss</td>\n",
       "      <td>mot20_ext-v1a</td>\n",
       "      <td>threshold=0.25</td>\n",
       "      <td>4087.438477</td>\n",
       "      <td>0.0000</td>\n",
       "      <td>NaN</td>\n",
       "    </tr>\n",
       "    <tr>\n",
       "      <th>1</th>\n",
       "      <td>siamese_resnet18_l4</td>\n",
       "      <td>2023-05-15 14:18:55.297936</td>\n",
       "      <td>1</td>\n",
       "      <td>Adam</td>\n",
       "      <td>0.001</td>\n",
       "      <td>NaN</td>\n",
       "      <td>NaN</td>\n",
       "      <td>ContrastiveLoss</td>\n",
       "      <td>mot20_ext-v1a</td>\n",
       "      <td>threshold=0.25</td>\n",
       "      <td>4045.716309</td>\n",
       "      <td>0.0000</td>\n",
       "      <td>NaN</td>\n",
       "    </tr>\n",
       "    <tr>\n",
       "      <th>2</th>\n",
       "      <td>siamese_resnet18_l4</td>\n",
       "      <td>2023-05-15 14:19:18.337717</td>\n",
       "      <td>1</td>\n",
       "      <td>Adam</td>\n",
       "      <td>0.001</td>\n",
       "      <td>NaN</td>\n",
       "      <td>NaN</td>\n",
       "      <td>ContrastiveLoss</td>\n",
       "      <td>mot20_ext-v1a</td>\n",
       "      <td>threshold=0.25</td>\n",
       "      <td>0.000000</td>\n",
       "      <td>0.0000</td>\n",
       "      <td>NaN</td>\n",
       "    </tr>\n",
       "    <tr>\n",
       "      <th>3</th>\n",
       "      <td>siamese_resnet18_l4</td>\n",
       "      <td>2023-05-15 23:50:26.011689</td>\n",
       "      <td>1</td>\n",
       "      <td>Adam</td>\n",
       "      <td>0.001</td>\n",
       "      <td>NaN</td>\n",
       "      <td>NaN</td>\n",
       "      <td>ContrastiveLoss</td>\n",
       "      <td>mot20_ext-v1a</td>\n",
       "      <td>threshold=0.25</td>\n",
       "      <td>26.358607</td>\n",
       "      <td>0.9375</td>\n",
       "      <td>NaN</td>\n",
       "    </tr>\n",
       "  </tbody>\n",
       "</table>\n",
       "</div>"
      ],
      "text/plain": [
       "            model_name                    datetime  epoch_count optimizer   \n",
       "0  siamese_resnet18_l4  2023-05-15 14:16:41.458515            1      Adam  \\\n",
       "1  siamese_resnet18_l4  2023-05-15 14:18:55.297936            1      Adam   \n",
       "2  siamese_resnet18_l4  2023-05-15 14:19:18.337717            1      Adam   \n",
       "3  siamese_resnet18_l4  2023-05-15 23:50:26.011689            1      Adam   \n",
       "\n",
       "      lr  gamma  step_size        loss_name dataset_config extra_parameters   \n",
       "0  0.001    NaN        NaN  ContrastiveLoss  mot20_ext-v1a   threshold=0.25  \\\n",
       "1  0.001    NaN        NaN  ContrastiveLoss  mot20_ext-v1a   threshold=0.25   \n",
       "2  0.001    NaN        NaN  ContrastiveLoss  mot20_ext-v1a   threshold=0.25   \n",
       "3  0.001    NaN        NaN  ContrastiveLoss  mot20_ext-v1a   threshold=0.25   \n",
       "\n",
       "    val_losses  val_accuracies  test_accuracy  \n",
       "0  4087.438477          0.0000            NaN  \n",
       "1  4045.716309          0.0000            NaN  \n",
       "2     0.000000          0.0000            NaN  \n",
       "3    26.358607          0.9375            NaN  "
      ]
     },
     "execution_count": 5,
     "metadata": {},
     "output_type": "execute_result"
    }
   ],
   "source": [
    "exp_df = pd.read_csv(file_path)\n",
    "exp_df"
   ]
  },
  {
   "cell_type": "code",
   "execution_count": 41,
   "metadata": {},
   "outputs": [],
   "source": [
    "conf_df = pd.read_csv(config_path)"
   ]
  },
  {
   "attachments": {},
   "cell_type": "markdown",
   "metadata": {},
   "source": [
    "Что нам нужно?\n",
    "- доставать лучшие модели и отправлять их на тест\n",
    "  - написать автоматический тест\n",
    "  - лучшие модели вычислять в рамках датасета, на котором обучались (dataset). один датасет - одна задача\n",
    "  - смотрим на лучшие модели, смотрим на лучшие конфиги"
   ]
  },
  {
   "cell_type": "code",
   "execution_count": 38,
   "metadata": {},
   "outputs": [],
   "source": [
    "def test_siamese(model: torch.nn.Module, test_loader: DataLoader, threshold: float) -> tuple[float, np.ndarray]:\n",
    "    \"\"\"Вычисляет score для тестового набора\"\"\"\n",
    "    test_predictions = []\n",
    "    acc = 0\n",
    "    for x1, x2, y in tqdm(test_loader):\n",
    "        distance = model(x1, x2)\n",
    "        test_predictions = np.concatenate(distance)\n",
    "        acc += get_distance_accuracy(distance.clone(), y, threshold)\n",
    "    \n",
    "    return acc / len(test_loader), test_predictions"
   ]
  },
  {
   "cell_type": "code",
   "execution_count": 44,
   "metadata": {},
   "outputs": [
    {
     "name": "stdout",
     "output_type": "stream",
     "text": [
      "            model_name                    datetime  epoch_count optimizer  \\\n",
      "0  siamese_resnet18_l4  2023-05-15 14:16:41.458515            1      Adam   \n",
      "1  siamese_resnet18_l4  2023-05-15 14:18:55.297936            1      Adam   \n",
      "2  siamese_resnet18_l4  2023-05-15 14:19:18.337717            1      Adam   \n",
      "3  siamese_resnet18_l4  2023-05-15 23:50:26.011689            1      Adam   \n",
      "\n",
      "      lr  gamma  step_size        loss_name dataset_config extra_parameters  \\\n",
      "0  0.001    NaN        NaN  ContrastiveLoss  mot20_ext-v1a   threshold=0.25   \n",
      "1  0.001    NaN        NaN  ContrastiveLoss  mot20_ext-v1a   threshold=0.25   \n",
      "2  0.001    NaN        NaN  ContrastiveLoss  mot20_ext-v1a   threshold=0.25   \n",
      "3  0.001    NaN        NaN  ContrastiveLoss  mot20_ext-v1a   threshold=0.25   \n",
      "\n",
      "    val_losses  val_accuracies  test_accuracy  \n",
      "0  4087.438477          0.0000            NaN  \n",
      "1  4045.716309          0.0000            NaN  \n",
      "2     0.000000          0.0000            NaN  \n",
      "3    26.358607          0.9375            NaN  \n"
     ]
    }
   ],
   "source": [
    "for dataset in exp_df['dataset_config'].unique():\n",
    "    df = exp_df[exp_df['dataset_config'] == dataset]\n",
    "    "
   ]
  },
  {
   "cell_type": "code",
   "execution_count": 23,
   "metadata": {},
   "outputs": [
    {
     "data": {
      "text/html": [
       "<div>\n",
       "<style scoped>\n",
       "    .dataframe tbody tr th:only-of-type {\n",
       "        vertical-align: middle;\n",
       "    }\n",
       "\n",
       "    .dataframe tbody tr th {\n",
       "        vertical-align: top;\n",
       "    }\n",
       "\n",
       "    .dataframe thead th {\n",
       "        text-align: right;\n",
       "    }\n",
       "</style>\n",
       "<table border=\"1\" class=\"dataframe\">\n",
       "  <thead>\n",
       "    <tr style=\"text-align: right;\">\n",
       "      <th></th>\n",
       "      <th>Unnamed: 0</th>\n",
       "      <th>model_name</th>\n",
       "      <th>datetime</th>\n",
       "      <th>epoch_count</th>\n",
       "      <th>optimizer</th>\n",
       "      <th>lr</th>\n",
       "      <th>gamma</th>\n",
       "      <th>step_size</th>\n",
       "      <th>loss_name</th>\n",
       "      <th>val_losses</th>\n",
       "      <th>val_accuracies</th>\n",
       "      <th>best_val_acc</th>\n",
       "      <th>best_val_loss</th>\n",
       "      <th>test_accuracy</th>\n",
       "      <th>dataset_config</th>\n",
       "      <th>extra_parameters</th>\n",
       "      <th>train_losses</th>\n",
       "      <th>train_accuracies</th>\n",
       "    </tr>\n",
       "  </thead>\n",
       "  <tbody>\n",
       "    <tr>\n",
       "      <th>0</th>\n",
       "      <td>0</td>\n",
       "      <td>siamese_resnet18_linear</td>\n",
       "      <td>2023-05-16 21:04:15.317697</td>\n",
       "      <td>2</td>\n",
       "      <td>Adam</td>\n",
       "      <td>0.001</td>\n",
       "      <td>NaN</td>\n",
       "      <td>NaN</td>\n",
       "      <td>ContrastiveLoss</td>\n",
       "      <td>63.47208150227865;14.547251065572103</td>\n",
       "      <td>0.9791666666666666;0.9583333333333334</td>\n",
       "      <td>0.979167</td>\n",
       "      <td>14.547251</td>\n",
       "      <td>NaN</td>\n",
       "      <td>mot20_ext-v1a</td>\n",
       "      <td>threshold=0.25</td>\n",
       "      <td>NaN</td>\n",
       "      <td>NaN</td>\n",
       "    </tr>\n",
       "    <tr>\n",
       "      <th>1</th>\n",
       "      <td>1</td>\n",
       "      <td>siamese_resnet18_linear</td>\n",
       "      <td>2023-05-16 21:06:29.426601</td>\n",
       "      <td>2</td>\n",
       "      <td>Adam</td>\n",
       "      <td>0.001</td>\n",
       "      <td>NaN</td>\n",
       "      <td>NaN</td>\n",
       "      <td>ContrastiveLoss</td>\n",
       "      <td>10.053370475769043;8.094988663991293</td>\n",
       "      <td>0.9583333333333334;0.9791666666666666</td>\n",
       "      <td>0.979167</td>\n",
       "      <td>8.094989</td>\n",
       "      <td>NaN</td>\n",
       "      <td>mot20_ext-v1a</td>\n",
       "      <td>threshold=0.25</td>\n",
       "      <td>NaN</td>\n",
       "      <td>NaN</td>\n",
       "    </tr>\n",
       "    <tr>\n",
       "      <th>2</th>\n",
       "      <td>2</td>\n",
       "      <td>siamese_resnet18_linear</td>\n",
       "      <td>2023-05-16 21:06:46.626192</td>\n",
       "      <td>2</td>\n",
       "      <td>Adam</td>\n",
       "      <td>0.001</td>\n",
       "      <td>NaN</td>\n",
       "      <td>NaN</td>\n",
       "      <td>ContrastiveLoss</td>\n",
       "      <td>6.908087730407715;5.925547281901042</td>\n",
       "      <td>0.9583333333333334;1.0</td>\n",
       "      <td>1.000000</td>\n",
       "      <td>5.925547</td>\n",
       "      <td>NaN</td>\n",
       "      <td>mot20_ext-v1a</td>\n",
       "      <td>threshold=0.25</td>\n",
       "      <td>NaN</td>\n",
       "      <td>NaN</td>\n",
       "    </tr>\n",
       "    <tr>\n",
       "      <th>3</th>\n",
       "      <td>3</td>\n",
       "      <td>basic_cnn</td>\n",
       "      <td>2023-05-16 21:12:15.115694</td>\n",
       "      <td>6</td>\n",
       "      <td>Adam</td>\n",
       "      <td>0.001</td>\n",
       "      <td>NaN</td>\n",
       "      <td>NaN</td>\n",
       "      <td>ContrastiveLoss</td>\n",
       "      <td>1.7107092142105103;1.6221161603927612;1.626214...</td>\n",
       "      <td>0.8375;0.9;0.925;0.95;0.7875;0.925</td>\n",
       "      <td>0.950000</td>\n",
       "      <td>1.585436</td>\n",
       "      <td>NaN</td>\n",
       "      <td>mot20_ext-v1b</td>\n",
       "      <td>threshold=0.25</td>\n",
       "      <td>NaN</td>\n",
       "      <td>NaN</td>\n",
       "    </tr>\n",
       "    <tr>\n",
       "      <th>4</th>\n",
       "      <td>4</td>\n",
       "      <td>basic_cnn</td>\n",
       "      <td>2023-05-16 21:13:44.219291</td>\n",
       "      <td>6</td>\n",
       "      <td>Adam</td>\n",
       "      <td>0.010</td>\n",
       "      <td>0.1</td>\n",
       "      <td>2.0</td>\n",
       "      <td>ContrastiveLoss</td>\n",
       "      <td>1.6568951606750488;1.6641317844390868;1.532974...</td>\n",
       "      <td>0.85;0.85;0.9125;0.9125;0.95;0.9</td>\n",
       "      <td>0.950000</td>\n",
       "      <td>1.532974</td>\n",
       "      <td>NaN</td>\n",
       "      <td>mot20_ext-v1b</td>\n",
       "      <td>threshold=0.25</td>\n",
       "      <td>NaN</td>\n",
       "      <td>NaN</td>\n",
       "    </tr>\n",
       "    <tr>\n",
       "      <th>5</th>\n",
       "      <td>5</td>\n",
       "      <td>basic_cnn</td>\n",
       "      <td>2023-05-16 21:17:44.904547</td>\n",
       "      <td>6</td>\n",
       "      <td>Adam</td>\n",
       "      <td>0.010</td>\n",
       "      <td>0.1</td>\n",
       "      <td>2.0</td>\n",
       "      <td>ContrastiveLoss</td>\n",
       "      <td>1.5339941811561584;1.5315347909927368;1.524272...</td>\n",
       "      <td>0.9025;0.92;0.89;0.92;0.9125;0.925</td>\n",
       "      <td>0.925000</td>\n",
       "      <td>1.483988</td>\n",
       "      <td>NaN</td>\n",
       "      <td>mot20_ext-v1c</td>\n",
       "      <td>threshold=0.25</td>\n",
       "      <td>NaN</td>\n",
       "      <td>NaN</td>\n",
       "    </tr>\n",
       "    <tr>\n",
       "      <th>6</th>\n",
       "      <td>6</td>\n",
       "      <td>basic_cnn</td>\n",
       "      <td>2023-05-16 21:27:46.559418</td>\n",
       "      <td>6</td>\n",
       "      <td>Adam</td>\n",
       "      <td>0.010</td>\n",
       "      <td>0.1</td>\n",
       "      <td>2.0</td>\n",
       "      <td>ContrastiveLoss</td>\n",
       "      <td>1.4901376700401305;1.534993691444397;1.4714239...</td>\n",
       "      <td>0.9075;0.915;0.91;0.9225;0.9075;0.91</td>\n",
       "      <td>0.922500</td>\n",
       "      <td>1.443070</td>\n",
       "      <td>NaN</td>\n",
       "      <td>mot20_ext-v1c</td>\n",
       "      <td>threshold=0.25</td>\n",
       "      <td>NaN</td>\n",
       "      <td>NaN</td>\n",
       "    </tr>\n",
       "    <tr>\n",
       "      <th>7</th>\n",
       "      <td>7</td>\n",
       "      <td>basic_cnn</td>\n",
       "      <td>2023-05-17 15:03:13.436258</td>\n",
       "      <td>6</td>\n",
       "      <td>Adam</td>\n",
       "      <td>0.010</td>\n",
       "      <td>0.1</td>\n",
       "      <td>2.0</td>\n",
       "      <td>ContrastiveLoss m=1.5</td>\n",
       "      <td>0.9714098906517029;0.8796071553230286;0.881902...</td>\n",
       "      <td>0.8275;0.9425;0.925;0.9175;0.9025;0.8925</td>\n",
       "      <td>0.942500</td>\n",
       "      <td>0.866354</td>\n",
       "      <td>NaN</td>\n",
       "      <td>mot20_ext-v1c</td>\n",
       "      <td>threshold=0.25</td>\n",
       "      <td>NaN</td>\n",
       "      <td>NaN</td>\n",
       "    </tr>\n",
       "    <tr>\n",
       "      <th>8</th>\n",
       "      <td>8</td>\n",
       "      <td>basic_cnn</td>\n",
       "      <td>2023-05-17 15:06:01.520415</td>\n",
       "      <td>6</td>\n",
       "      <td>Adam</td>\n",
       "      <td>0.010</td>\n",
       "      <td>0.1</td>\n",
       "      <td>2.0</td>\n",
       "      <td>ContrastiveLoss m=1.25</td>\n",
       "      <td>0.6222390758991242;0.6281688070297241;0.619623...</td>\n",
       "      <td>0.8825;0.9075;0.89;0.9175;0.91;0.895</td>\n",
       "      <td>0.917500</td>\n",
       "      <td>0.600483</td>\n",
       "      <td>NaN</td>\n",
       "      <td>mot20_ext-v1c</td>\n",
       "      <td>threshold=0.25</td>\n",
       "      <td>NaN</td>\n",
       "      <td>NaN</td>\n",
       "    </tr>\n",
       "    <tr>\n",
       "      <th>9</th>\n",
       "      <td>9</td>\n",
       "      <td>basic_cnn</td>\n",
       "      <td>2023-05-17 15:07:59.939462</td>\n",
       "      <td>6</td>\n",
       "      <td>Adam</td>\n",
       "      <td>0.010</td>\n",
       "      <td>0.1</td>\n",
       "      <td>2.0</td>\n",
       "      <td>ContrastiveLoss m=1.15</td>\n",
       "      <td>0.5868227648735046;0.5092317128181457;0.513857...</td>\n",
       "      <td>0.8225;0.9075;0.915;0.9175;0.9025;0.9025</td>\n",
       "      <td>0.917500</td>\n",
       "      <td>0.506840</td>\n",
       "      <td>NaN</td>\n",
       "      <td>mot20_ext-v1c</td>\n",
       "      <td>threshold=0.25</td>\n",
       "      <td>NaN</td>\n",
       "      <td>NaN</td>\n",
       "    </tr>\n",
       "  </tbody>\n",
       "</table>\n",
       "</div>"
      ],
      "text/plain": [
       "   Unnamed: 0               model_name                    datetime   \n",
       "0           0  siamese_resnet18_linear  2023-05-16 21:04:15.317697  \\\n",
       "1           1  siamese_resnet18_linear  2023-05-16 21:06:29.426601   \n",
       "2           2  siamese_resnet18_linear  2023-05-16 21:06:46.626192   \n",
       "3           3                basic_cnn  2023-05-16 21:12:15.115694   \n",
       "4           4                basic_cnn  2023-05-16 21:13:44.219291   \n",
       "5           5                basic_cnn  2023-05-16 21:17:44.904547   \n",
       "6           6                basic_cnn  2023-05-16 21:27:46.559418   \n",
       "7           7                basic_cnn  2023-05-17 15:03:13.436258   \n",
       "8           8                basic_cnn  2023-05-17 15:06:01.520415   \n",
       "9           9                basic_cnn  2023-05-17 15:07:59.939462   \n",
       "\n",
       "   epoch_count optimizer     lr  gamma  step_size               loss_name   \n",
       "0            2      Adam  0.001    NaN        NaN         ContrastiveLoss  \\\n",
       "1            2      Adam  0.001    NaN        NaN         ContrastiveLoss   \n",
       "2            2      Adam  0.001    NaN        NaN         ContrastiveLoss   \n",
       "3            6      Adam  0.001    NaN        NaN         ContrastiveLoss   \n",
       "4            6      Adam  0.010    0.1        2.0         ContrastiveLoss   \n",
       "5            6      Adam  0.010    0.1        2.0         ContrastiveLoss   \n",
       "6            6      Adam  0.010    0.1        2.0         ContrastiveLoss   \n",
       "7            6      Adam  0.010    0.1        2.0   ContrastiveLoss m=1.5   \n",
       "8            6      Adam  0.010    0.1        2.0  ContrastiveLoss m=1.25   \n",
       "9            6      Adam  0.010    0.1        2.0  ContrastiveLoss m=1.15   \n",
       "\n",
       "                                          val_losses   \n",
       "0               63.47208150227865;14.547251065572103  \\\n",
       "1               10.053370475769043;8.094988663991293   \n",
       "2                6.908087730407715;5.925547281901042   \n",
       "3  1.7107092142105103;1.6221161603927612;1.626214...   \n",
       "4  1.6568951606750488;1.6641317844390868;1.532974...   \n",
       "5  1.5339941811561584;1.5315347909927368;1.524272...   \n",
       "6  1.4901376700401305;1.534993691444397;1.4714239...   \n",
       "7  0.9714098906517029;0.8796071553230286;0.881902...   \n",
       "8  0.6222390758991242;0.6281688070297241;0.619623...   \n",
       "9  0.5868227648735046;0.5092317128181457;0.513857...   \n",
       "\n",
       "                             val_accuracies  best_val_acc  best_val_loss   \n",
       "0     0.9791666666666666;0.9583333333333334      0.979167      14.547251  \\\n",
       "1     0.9583333333333334;0.9791666666666666      0.979167       8.094989   \n",
       "2                    0.9583333333333334;1.0      1.000000       5.925547   \n",
       "3        0.8375;0.9;0.925;0.95;0.7875;0.925      0.950000       1.585436   \n",
       "4          0.85;0.85;0.9125;0.9125;0.95;0.9      0.950000       1.532974   \n",
       "5        0.9025;0.92;0.89;0.92;0.9125;0.925      0.925000       1.483988   \n",
       "6      0.9075;0.915;0.91;0.9225;0.9075;0.91      0.922500       1.443070   \n",
       "7  0.8275;0.9425;0.925;0.9175;0.9025;0.8925      0.942500       0.866354   \n",
       "8      0.8825;0.9075;0.89;0.9175;0.91;0.895      0.917500       0.600483   \n",
       "9  0.8225;0.9075;0.915;0.9175;0.9025;0.9025      0.917500       0.506840   \n",
       "\n",
       "   test_accuracy dataset_config extra_parameters  train_losses   \n",
       "0            NaN  mot20_ext-v1a   threshold=0.25           NaN  \\\n",
       "1            NaN  mot20_ext-v1a   threshold=0.25           NaN   \n",
       "2            NaN  mot20_ext-v1a   threshold=0.25           NaN   \n",
       "3            NaN  mot20_ext-v1b   threshold=0.25           NaN   \n",
       "4            NaN  mot20_ext-v1b   threshold=0.25           NaN   \n",
       "5            NaN  mot20_ext-v1c   threshold=0.25           NaN   \n",
       "6            NaN  mot20_ext-v1c   threshold=0.25           NaN   \n",
       "7            NaN  mot20_ext-v1c   threshold=0.25           NaN   \n",
       "8            NaN  mot20_ext-v1c   threshold=0.25           NaN   \n",
       "9            NaN  mot20_ext-v1c   threshold=0.25           NaN   \n",
       "\n",
       "   train_accuracies  \n",
       "0               NaN  \n",
       "1               NaN  \n",
       "2               NaN  \n",
       "3               NaN  \n",
       "4               NaN  \n",
       "5               NaN  \n",
       "6               NaN  \n",
       "7               NaN  \n",
       "8               NaN  \n",
       "9               NaN  "
      ]
     },
     "execution_count": 23,
     "metadata": {},
     "output_type": "execute_result"
    }
   ],
   "source": [
    "df = pd.read_csv(file_path)\n",
    "df"
   ]
  },
  {
   "cell_type": "code",
   "execution_count": 8,
   "metadata": {},
   "outputs": [
    {
     "data": {
      "text/html": [
       "<div>\n",
       "<style scoped>\n",
       "    .dataframe tbody tr th:only-of-type {\n",
       "        vertical-align: middle;\n",
       "    }\n",
       "\n",
       "    .dataframe tbody tr th {\n",
       "        vertical-align: top;\n",
       "    }\n",
       "\n",
       "    .dataframe thead th {\n",
       "        text-align: right;\n",
       "    }\n",
       "</style>\n",
       "<table border=\"1\" class=\"dataframe\">\n",
       "  <thead>\n",
       "    <tr style=\"text-align: right;\">\n",
       "      <th></th>\n",
       "      <th>train_losses</th>\n",
       "      <th>train_accuracies</th>\n",
       "    </tr>\n",
       "  </thead>\n",
       "  <tbody>\n",
       "  </tbody>\n",
       "</table>\n",
       "</div>"
      ],
      "text/plain": [
       "Empty DataFrame\n",
       "Columns: [train_losses, train_accuracies]\n",
       "Index: []"
      ]
     },
     "execution_count": 8,
     "metadata": {},
     "output_type": "execute_result"
    }
   ],
   "source": [
    "df2 = pd.DataFrame(columns=[\n",
    "    'train_losses',\n",
    "    'train_accuracies'\n",
    "])\n",
    "df2"
   ]
  },
  {
   "cell_type": "code",
   "execution_count": 21,
   "metadata": {},
   "outputs": [
    {
     "data": {
      "text/plain": [
       "Index(['Unnamed: 0', 'model_name', 'datetime', 'epoch_count', 'optimizer',\n",
       "       'lr', 'gamma', 'step_size', 'loss_name', 'val_losses', 'val_accuracies',\n",
       "       'best_val_acc', 'best_val_loss', 'test_accuracy', 'dataset_config',\n",
       "       'extra_parameters', 'train_losses', 'train_accuracies'],\n",
       "      dtype='object')"
      ]
     },
     "execution_count": 21,
     "metadata": {},
     "output_type": "execute_result"
    }
   ],
   "source": [
    "df.columns"
   ]
  },
  {
   "cell_type": "code",
   "execution_count": 15,
   "metadata": {},
   "outputs": [],
   "source": [
    "df.to_csv(file_path)"
   ]
  }
 ],
 "metadata": {
  "kernelspec": {
   "display_name": "Python 3",
   "language": "python",
   "name": "python3"
  },
  "language_info": {
   "codemirror_mode": {
    "name": "ipython",
    "version": 3
   },
   "file_extension": ".py",
   "mimetype": "text/x-python",
   "name": "python",
   "nbconvert_exporter": "python",
   "pygments_lexer": "ipython3",
   "version": "3.10.11"
  },
  "orig_nbformat": 4
 },
 "nbformat": 4,
 "nbformat_minor": 2
}
