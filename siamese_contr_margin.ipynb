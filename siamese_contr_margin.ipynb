{
 "cells": [
  {
   "attachments": {},
   "cell_type": "markdown",
   "metadata": {},
   "source": [
    "# Исследование зависимости обучения сети от margin параметра Contrastive Loss"
   ]
  },
  {
   "attachments": {},
   "cell_type": "markdown",
   "metadata": {},
   "source": [
    "Обучение сиамских сетей на наборе MOT20_ext (2 пары). Используемая функция потерь - Contrastive Loss. Будет произведено обучение нескольких моделей на разных margin и выявлена зависимость обучения от margin"
   ]
  },
  {
   "attachments": {},
   "cell_type": "markdown",
   "metadata": {},
   "source": [
    "_другие гиперпараметры были подобраны ранее_"
   ]
  },
  {
   "cell_type": "code",
   "execution_count": 1,
   "metadata": {},
   "outputs": [],
   "source": [
    "import albumentations as A\n",
    "import torch\n",
    "from torch.optim import Adam\n",
    "import pandas as pd\n",
    "from os.path import join\n",
    "import matplotlib.pyplot as plt\n",
    "\n",
    "from src.config import MOT20_EXT_FIRST_AXIS_MEAN, MOT20_EXT_SECOND_AXIS_MEAN, RESULTS_PATH\n",
    "from src.models import SiameseBasicCNN\n",
    "from src.models.reidentification import SiameseBasicCNN\n",
    "from src.train import ContrastiveLoss, get_config, get_loaders, train_siamese\n",
    "from src.train.loss import ContrastiveLoss\n",
    "from src.transforms import get_norm_transform, get_resize_transform"
   ]
  },
  {
   "attachments": {},
   "cell_type": "markdown",
   "metadata": {},
   "source": [
    "## Загрузка датасета"
   ]
  },
  {
   "cell_type": "code",
   "execution_count": 2,
   "metadata": {},
   "outputs": [
    {
     "data": {
      "text/plain": [
       "{'dataset_config': 'mot20_ext-v1c',\n",
       " 'dataset': 'mot20_ext',\n",
       " 'dataset_use': 0.01,\n",
       " 'test_proportion': 0.15,\n",
       " 'val_proportion': 0.2,\n",
       " 'test_proportion.1': nan,\n",
       " 'batch_size': 16,\n",
       " 'extra_parameters': {'visibility_threshold': 1.0,\n",
       "  'negative_proportion': 0.5,\n",
       "  'frame_distance': 0}}"
      ]
     },
     "execution_count": 2,
     "metadata": {},
     "output_type": "execute_result"
    }
   ],
   "source": [
    "dataset_config = get_config('mot20_ext-v1c')\n",
    "dataset_config"
   ]
  },
  {
   "cell_type": "code",
   "execution_count": 3,
   "metadata": {},
   "outputs": [],
   "source": [
    "resize_transform = get_resize_transform((MOT20_EXT_FIRST_AXIS_MEAN, MOT20_EXT_SECOND_AXIS_MEAN)) \n",
    "norm_transform = get_norm_transform()\n",
    "transform = A.Compose([resize_transform, norm_transform])"
   ]
  },
  {
   "cell_type": "code",
   "execution_count": 4,
   "metadata": {},
   "outputs": [],
   "source": [
    "train_loader, val_loader, test_loader = get_loaders(dataset_config, transform=transform)"
   ]
  },
  {
   "cell_type": "code",
   "execution_count": 5,
   "metadata": {},
   "outputs": [
    {
     "data": {
      "text/plain": [
       "device(type='cuda', index=0)"
      ]
     },
     "execution_count": 5,
     "metadata": {},
     "output_type": "execute_result"
    }
   ],
   "source": [
    "device = torch.device(\"cuda:0\" if torch.cuda.is_available() else \"cpu\")\n",
    "device"
   ]
  },
  {
   "attachments": {},
   "cell_type": "markdown",
   "metadata": {},
   "source": [
    "## Определить примерные границы margin"
   ]
  },
  {
   "attachments": {},
   "cell_type": "markdown",
   "metadata": {},
   "source": [
    "### Basic CNN, margin=0.001"
   ]
  },
  {
   "cell_type": "code",
   "execution_count": 6,
   "metadata": {},
   "outputs": [
    {
     "name": "stdout",
     "output_type": "stream",
     "text": [
      "Epoch 0/5:\n"
     ]
    },
    {
     "name": "stderr",
     "output_type": "stream",
     "text": [
      "/home/nick/reidentification/.venv/lib/python3.10/site-packages/torch/optim/lr_scheduler.py:139: UserWarning: Detected call of `lr_scheduler.step()` before `optimizer.step()`. In PyTorch 1.1.0 and later, you should call them in the opposite order: `optimizer.step()` before `lr_scheduler.step()`.  Failure to do this will result in PyTorch skipping the first value of the learning rate schedule. See more details at https://pytorch.org/docs/stable/optim.html#how-to-adjust-learning-rate\n",
      "  warnings.warn(\"Detected call of `lr_scheduler.step()` before `optimizer.step()`. \"\n",
      "100%|██████████| 110/110 [00:17<00:00,  6.30it/s]"
     ]
    },
    {
     "name": "stdout",
     "output_type": "stream",
     "text": [
      "train Loss: 0.0292 Acc: 0.7415\n"
     ]
    },
    {
     "name": "stderr",
     "output_type": "stream",
     "text": [
      "\n",
      "100%|██████████| 33/33 [00:01<00:00, 20.98it/s]"
     ]
    },
    {
     "name": "stdout",
     "output_type": "stream",
     "text": [
      "val Loss: 0.0046 Acc: 0.7652\n"
     ]
    },
    {
     "name": "stderr",
     "output_type": "stream",
     "text": [
      "\n"
     ]
    },
    {
     "name": "stdout",
     "output_type": "stream",
     "text": [
      "Model saved at basic_cnn.pth\n",
      "Epoch 1/5:\n"
     ]
    },
    {
     "name": "stderr",
     "output_type": "stream",
     "text": [
      "100%|██████████| 110/110 [00:16<00:00,  6.80it/s]"
     ]
    },
    {
     "name": "stdout",
     "output_type": "stream",
     "text": [
      "train Loss: 0.0004 Acc: 0.7347\n"
     ]
    },
    {
     "name": "stderr",
     "output_type": "stream",
     "text": [
      "\n",
      "100%|██████████| 33/33 [00:01<00:00, 22.05it/s]"
     ]
    },
    {
     "name": "stdout",
     "output_type": "stream",
     "text": [
      "val Loss: 0.0000 Acc: 0.8295\n",
      "Model saved at basic_cnn.pth\n",
      "Epoch 2/5:\n"
     ]
    },
    {
     "name": "stderr",
     "output_type": "stream",
     "text": [
      "\n",
      " 30%|███       | 33/110 [00:04<00:11,  6.77it/s]\n"
     ]
    },
    {
     "ename": "KeyboardInterrupt",
     "evalue": "",
     "output_type": "error",
     "traceback": [
      "\u001b[0;31m---------------------------------------------------------------------------\u001b[0m",
      "\u001b[0;31mKeyboardInterrupt\u001b[0m                         Traceback (most recent call last)",
      "Cell \u001b[0;32mIn[6], line 7\u001b[0m\n\u001b[1;32m      4\u001b[0m scheduler \u001b[39m=\u001b[39m torch\u001b[39m.\u001b[39moptim\u001b[39m.\u001b[39mlr_scheduler\u001b[39m.\u001b[39mStepLR(optimizer, step_size\u001b[39m=\u001b[39m\u001b[39m2\u001b[39m, gamma\u001b[39m=\u001b[39m\u001b[39m0.1\u001b[39m)\n\u001b[1;32m      5\u001b[0m criterion \u001b[39m=\u001b[39m ContrastiveLoss(margin\u001b[39m=\u001b[39m\u001b[39m0.001\u001b[39m)\n\u001b[0;32m----> 7\u001b[0m model, results \u001b[39m=\u001b[39m train_siamese(\n\u001b[1;32m      8\u001b[0m     config\u001b[39m=\u001b[39;49mdataset_config,\n\u001b[1;32m      9\u001b[0m     criterion\u001b[39m=\u001b[39;49mcriterion,\n\u001b[1;32m     10\u001b[0m     device\u001b[39m=\u001b[39;49mdevice,\n\u001b[1;32m     11\u001b[0m     epoch_count\u001b[39m=\u001b[39;49m\u001b[39m6\u001b[39;49m,\n\u001b[1;32m     12\u001b[0m     lr\u001b[39m=\u001b[39;49mlr,\n\u001b[1;32m     13\u001b[0m     model\u001b[39m=\u001b[39;49mmodel,\n\u001b[1;32m     14\u001b[0m     optimizer\u001b[39m=\u001b[39;49moptimizer,\n\u001b[1;32m     15\u001b[0m     scheduler\u001b[39m=\u001b[39;49mscheduler,\n\u001b[1;32m     16\u001b[0m     threshold\u001b[39m=\u001b[39;49m\u001b[39m0.25\u001b[39;49m,\n\u001b[1;32m     17\u001b[0m     train_loader\u001b[39m=\u001b[39;49mtrain_loader,\n\u001b[1;32m     18\u001b[0m     val_loader\u001b[39m=\u001b[39;49mval_loader,\n\u001b[1;32m     19\u001b[0m )\n",
      "File \u001b[0;32m~/reidentification/src/train/train.py:195\u001b[0m, in \u001b[0;36mtrain_siamese\u001b[0;34m(model, train_loader, val_loader, optimizer, lr, criterion, epoch_count, threshold, scheduler, device, config)\u001b[0m\n\u001b[1;32m    192\u001b[0m running_loss \u001b[39m=\u001b[39m \u001b[39m0.\u001b[39m\n\u001b[1;32m    193\u001b[0m running_acc \u001b[39m=\u001b[39m \u001b[39m0.\u001b[39m\n\u001b[0;32m--> 195\u001b[0m \u001b[39mfor\u001b[39;00m (x1, x2, y) \u001b[39min\u001b[39;00m tqdm(dataloader):\n\u001b[1;32m    196\u001b[0m     x1, x2, y \u001b[39m=\u001b[39m x1\u001b[39m.\u001b[39mto(device), x2\u001b[39m.\u001b[39mto(device), y\u001b[39m.\u001b[39mto(device)\n\u001b[1;32m    197\u001b[0m     optimizer\u001b[39m.\u001b[39mzero_grad()\n",
      "File \u001b[0;32m~/reidentification/.venv/lib/python3.10/site-packages/tqdm/std.py:1178\u001b[0m, in \u001b[0;36mtqdm.__iter__\u001b[0;34m(self)\u001b[0m\n\u001b[1;32m   1175\u001b[0m time \u001b[39m=\u001b[39m \u001b[39mself\u001b[39m\u001b[39m.\u001b[39m_time\n\u001b[1;32m   1177\u001b[0m \u001b[39mtry\u001b[39;00m:\n\u001b[0;32m-> 1178\u001b[0m     \u001b[39mfor\u001b[39;00m obj \u001b[39min\u001b[39;00m iterable:\n\u001b[1;32m   1179\u001b[0m         \u001b[39myield\u001b[39;00m obj\n\u001b[1;32m   1180\u001b[0m         \u001b[39m# Update and possibly print the progressbar.\u001b[39;00m\n\u001b[1;32m   1181\u001b[0m         \u001b[39m# Note: does not call self.update(1) for speed optimisation.\u001b[39;00m\n",
      "File \u001b[0;32m~/reidentification/.venv/lib/python3.10/site-packages/torch/utils/data/dataloader.py:633\u001b[0m, in \u001b[0;36m_BaseDataLoaderIter.__next__\u001b[0;34m(self)\u001b[0m\n\u001b[1;32m    630\u001b[0m \u001b[39mif\u001b[39;00m \u001b[39mself\u001b[39m\u001b[39m.\u001b[39m_sampler_iter \u001b[39mis\u001b[39;00m \u001b[39mNone\u001b[39;00m:\n\u001b[1;32m    631\u001b[0m     \u001b[39m# TODO(https://github.com/pytorch/pytorch/issues/76750)\u001b[39;00m\n\u001b[1;32m    632\u001b[0m     \u001b[39mself\u001b[39m\u001b[39m.\u001b[39m_reset()  \u001b[39m# type: ignore[call-arg]\u001b[39;00m\n\u001b[0;32m--> 633\u001b[0m data \u001b[39m=\u001b[39m \u001b[39mself\u001b[39;49m\u001b[39m.\u001b[39;49m_next_data()\n\u001b[1;32m    634\u001b[0m \u001b[39mself\u001b[39m\u001b[39m.\u001b[39m_num_yielded \u001b[39m+\u001b[39m\u001b[39m=\u001b[39m \u001b[39m1\u001b[39m\n\u001b[1;32m    635\u001b[0m \u001b[39mif\u001b[39;00m \u001b[39mself\u001b[39m\u001b[39m.\u001b[39m_dataset_kind \u001b[39m==\u001b[39m _DatasetKind\u001b[39m.\u001b[39mIterable \u001b[39mand\u001b[39;00m \\\n\u001b[1;32m    636\u001b[0m         \u001b[39mself\u001b[39m\u001b[39m.\u001b[39m_IterableDataset_len_called \u001b[39mis\u001b[39;00m \u001b[39mnot\u001b[39;00m \u001b[39mNone\u001b[39;00m \u001b[39mand\u001b[39;00m \\\n\u001b[1;32m    637\u001b[0m         \u001b[39mself\u001b[39m\u001b[39m.\u001b[39m_num_yielded \u001b[39m>\u001b[39m \u001b[39mself\u001b[39m\u001b[39m.\u001b[39m_IterableDataset_len_called:\n",
      "File \u001b[0;32m~/reidentification/.venv/lib/python3.10/site-packages/torch/utils/data/dataloader.py:677\u001b[0m, in \u001b[0;36m_SingleProcessDataLoaderIter._next_data\u001b[0;34m(self)\u001b[0m\n\u001b[1;32m    675\u001b[0m \u001b[39mdef\u001b[39;00m \u001b[39m_next_data\u001b[39m(\u001b[39mself\u001b[39m):\n\u001b[1;32m    676\u001b[0m     index \u001b[39m=\u001b[39m \u001b[39mself\u001b[39m\u001b[39m.\u001b[39m_next_index()  \u001b[39m# may raise StopIteration\u001b[39;00m\n\u001b[0;32m--> 677\u001b[0m     data \u001b[39m=\u001b[39m \u001b[39mself\u001b[39;49m\u001b[39m.\u001b[39;49m_dataset_fetcher\u001b[39m.\u001b[39;49mfetch(index)  \u001b[39m# may raise StopIteration\u001b[39;00m\n\u001b[1;32m    678\u001b[0m     \u001b[39mif\u001b[39;00m \u001b[39mself\u001b[39m\u001b[39m.\u001b[39m_pin_memory:\n\u001b[1;32m    679\u001b[0m         data \u001b[39m=\u001b[39m _utils\u001b[39m.\u001b[39mpin_memory\u001b[39m.\u001b[39mpin_memory(data, \u001b[39mself\u001b[39m\u001b[39m.\u001b[39m_pin_memory_device)\n",
      "File \u001b[0;32m~/reidentification/.venv/lib/python3.10/site-packages/torch/utils/data/_utils/fetch.py:51\u001b[0m, in \u001b[0;36m_MapDatasetFetcher.fetch\u001b[0;34m(self, possibly_batched_index)\u001b[0m\n\u001b[1;32m     49\u001b[0m         data \u001b[39m=\u001b[39m \u001b[39mself\u001b[39m\u001b[39m.\u001b[39mdataset\u001b[39m.\u001b[39m__getitems__(possibly_batched_index)\n\u001b[1;32m     50\u001b[0m     \u001b[39melse\u001b[39;00m:\n\u001b[0;32m---> 51\u001b[0m         data \u001b[39m=\u001b[39m [\u001b[39mself\u001b[39m\u001b[39m.\u001b[39mdataset[idx] \u001b[39mfor\u001b[39;00m idx \u001b[39min\u001b[39;00m possibly_batched_index]\n\u001b[1;32m     52\u001b[0m \u001b[39melse\u001b[39;00m:\n\u001b[1;32m     53\u001b[0m     data \u001b[39m=\u001b[39m \u001b[39mself\u001b[39m\u001b[39m.\u001b[39mdataset[possibly_batched_index]\n",
      "File \u001b[0;32m~/reidentification/.venv/lib/python3.10/site-packages/torch/utils/data/_utils/fetch.py:51\u001b[0m, in \u001b[0;36m<listcomp>\u001b[0;34m(.0)\u001b[0m\n\u001b[1;32m     49\u001b[0m         data \u001b[39m=\u001b[39m \u001b[39mself\u001b[39m\u001b[39m.\u001b[39mdataset\u001b[39m.\u001b[39m__getitems__(possibly_batched_index)\n\u001b[1;32m     50\u001b[0m     \u001b[39melse\u001b[39;00m:\n\u001b[0;32m---> 51\u001b[0m         data \u001b[39m=\u001b[39m [\u001b[39mself\u001b[39;49m\u001b[39m.\u001b[39;49mdataset[idx] \u001b[39mfor\u001b[39;00m idx \u001b[39min\u001b[39;00m possibly_batched_index]\n\u001b[1;32m     52\u001b[0m \u001b[39melse\u001b[39;00m:\n\u001b[1;32m     53\u001b[0m     data \u001b[39m=\u001b[39m \u001b[39mself\u001b[39m\u001b[39m.\u001b[39mdataset[possibly_batched_index]\n",
      "File \u001b[0;32m~/reidentification/.venv/lib/python3.10/site-packages/torch/utils/data/dataset.py:298\u001b[0m, in \u001b[0;36mSubset.__getitem__\u001b[0;34m(self, idx)\u001b[0m\n\u001b[1;32m    296\u001b[0m \u001b[39mif\u001b[39;00m \u001b[39misinstance\u001b[39m(idx, \u001b[39mlist\u001b[39m):\n\u001b[1;32m    297\u001b[0m     \u001b[39mreturn\u001b[39;00m \u001b[39mself\u001b[39m\u001b[39m.\u001b[39mdataset[[\u001b[39mself\u001b[39m\u001b[39m.\u001b[39mindices[i] \u001b[39mfor\u001b[39;00m i \u001b[39min\u001b[39;00m idx]]\n\u001b[0;32m--> 298\u001b[0m \u001b[39mreturn\u001b[39;00m \u001b[39mself\u001b[39;49m\u001b[39m.\u001b[39;49mdataset[\u001b[39mself\u001b[39;49m\u001b[39m.\u001b[39;49mindices[idx]]\n",
      "File \u001b[0;32m~/reidentification/.venv/lib/python3.10/site-packages/torch/utils/data/dataset.py:298\u001b[0m, in \u001b[0;36mSubset.__getitem__\u001b[0;34m(self, idx)\u001b[0m\n\u001b[1;32m    296\u001b[0m \u001b[39mif\u001b[39;00m \u001b[39misinstance\u001b[39m(idx, \u001b[39mlist\u001b[39m):\n\u001b[1;32m    297\u001b[0m     \u001b[39mreturn\u001b[39;00m \u001b[39mself\u001b[39m\u001b[39m.\u001b[39mdataset[[\u001b[39mself\u001b[39m\u001b[39m.\u001b[39mindices[i] \u001b[39mfor\u001b[39;00m i \u001b[39min\u001b[39;00m idx]]\n\u001b[0;32m--> 298\u001b[0m \u001b[39mreturn\u001b[39;00m \u001b[39mself\u001b[39;49m\u001b[39m.\u001b[39;49mdataset[\u001b[39mself\u001b[39;49m\u001b[39m.\u001b[39;49mindices[idx]]\n",
      "File \u001b[0;32m~/reidentification/.venv/lib/python3.10/site-packages/torch/utils/data/dataset.py:243\u001b[0m, in \u001b[0;36mConcatDataset.__getitem__\u001b[0;34m(self, idx)\u001b[0m\n\u001b[1;32m    241\u001b[0m \u001b[39melse\u001b[39;00m:\n\u001b[1;32m    242\u001b[0m     sample_idx \u001b[39m=\u001b[39m idx \u001b[39m-\u001b[39m \u001b[39mself\u001b[39m\u001b[39m.\u001b[39mcumulative_sizes[dataset_idx \u001b[39m-\u001b[39m \u001b[39m1\u001b[39m]\n\u001b[0;32m--> 243\u001b[0m \u001b[39mreturn\u001b[39;00m \u001b[39mself\u001b[39;49m\u001b[39m.\u001b[39;49mdatasets[dataset_idx][sample_idx]\n",
      "File \u001b[0;32m~/reidentification/src/data/mot_ext.py:218\u001b[0m, in \u001b[0;36mMOT20ExtDataset.__getitem__\u001b[0;34m(self, idx)\u001b[0m\n\u001b[1;32m    208\u001b[0m \u001b[39mdef\u001b[39;00m \u001b[39m__getitem__\u001b[39m(\u001b[39mself\u001b[39m, idx: \u001b[39mint\u001b[39m) \u001b[39m-\u001b[39m\u001b[39m>\u001b[39m \u001b[39mtuple\u001b[39m[cv2\u001b[39m.\u001b[39mMat, cv2\u001b[39m.\u001b[39mMat, \u001b[39mint\u001b[39m]:\n\u001b[1;32m    209\u001b[0m \u001b[39m    \u001b[39m\u001b[39m\"\"\"Возвращает два изображения в формате cv2.Mat и метку: 1, если на изображении один и тот же объект, иначе 0\u001b[39;00m\n\u001b[1;32m    210\u001b[0m \u001b[39m    Нумерация начинается с 0. Объекты в датасете хранятся в порядке:\u001b[39;00m\n\u001b[1;32m    211\u001b[0m \u001b[39m    - пары <объект;объект>\u001b[39;00m\n\u001b[0;32m   (...)\u001b[0m\n\u001b[1;32m    215\u001b[0m \u001b[39m        - рандомный объект\u001b[39;00m\n\u001b[1;32m    216\u001b[0m \u001b[39m    \"\"\"\u001b[39;00m\n\u001b[1;32m    217\u001b[0m     id1, id2, frame_id1, frame_id2 \u001b[39m=\u001b[39m \u001b[39mself\u001b[39m\u001b[39m.\u001b[39m_get_pairs_by_idx(\n\u001b[0;32m--> 218\u001b[0m         idx) \u001b[39mif\u001b[39;00m (idx \u001b[39m<\u001b[39m \u001b[39mself\u001b[39m\u001b[39m.\u001b[39m_len_1) \u001b[39melse\u001b[39;00m \u001b[39mself\u001b[39;49m\u001b[39m.\u001b[39;49m_get_pairs0_by_idx(idx)\n\u001b[1;32m    219\u001b[0m     img1 \u001b[39m=\u001b[39m cv2\u001b[39m.\u001b[39mimread(join(\u001b[39mself\u001b[39m\u001b[39m.\u001b[39mvideo_path, \u001b[39mstr\u001b[39m(\n\u001b[1;32m    220\u001b[0m         id1), \u001b[39mf\u001b[39m\u001b[39m'\u001b[39m\u001b[39m{\u001b[39;00m\u001b[39mstr\u001b[39m(frame_id1)\u001b[39m.\u001b[39mzfill(\u001b[39m6\u001b[39m)\u001b[39m}\u001b[39;00m\u001b[39m.jpg\u001b[39m\u001b[39m'\u001b[39m))\n\u001b[1;32m    221\u001b[0m     img2 \u001b[39m=\u001b[39m cv2\u001b[39m.\u001b[39mimread(join(\u001b[39mself\u001b[39m\u001b[39m.\u001b[39mvideo_path, \u001b[39mstr\u001b[39m(\n\u001b[1;32m    222\u001b[0m         id2), \u001b[39mf\u001b[39m\u001b[39m'\u001b[39m\u001b[39m{\u001b[39;00m\u001b[39mstr\u001b[39m(frame_id2)\u001b[39m.\u001b[39mzfill(\u001b[39m6\u001b[39m)\u001b[39m}\u001b[39;00m\u001b[39m.jpg\u001b[39m\u001b[39m'\u001b[39m))\n",
      "File \u001b[0;32m~/reidentification/src/data/mot_ext.py:195\u001b[0m, in \u001b[0;36mMOT20ExtDataset._get_pairs0_by_idx\u001b[0;34m(self, idx)\u001b[0m\n\u001b[1;32m    193\u001b[0m object_ids \u001b[39m=\u001b[39m \u001b[39mself\u001b[39m\u001b[39m.\u001b[39mground_truth[\u001b[39m'\u001b[39m\u001b[39mid\u001b[39m\u001b[39m'\u001b[39m]\u001b[39m.\u001b[39munique()\n\u001b[1;32m    194\u001b[0m id1 \u001b[39m=\u001b[39m choice(object_ids)\n\u001b[0;32m--> 195\u001b[0m frame_ids \u001b[39m=\u001b[39m \u001b[39mself\u001b[39m\u001b[39m.\u001b[39mground_truth[\u001b[39mself\u001b[39;49m\u001b[39m.\u001b[39;49mground_truth[\u001b[39m'\u001b[39;49m\u001b[39mid\u001b[39;49m\u001b[39m'\u001b[39;49m]\n\u001b[1;32m    196\u001b[0m                               \u001b[39m==\u001b[39;49m id1][\u001b[39m'\u001b[39m\u001b[39mframe\u001b[39m\u001b[39m'\u001b[39m]\n\u001b[1;32m    197\u001b[0m frame1 \u001b[39m=\u001b[39m choice(frame_ids)\n\u001b[1;32m    198\u001b[0m id2 \u001b[39m=\u001b[39m choice(object_ids)\n",
      "File \u001b[0;32m~/reidentification/.venv/lib/python3.10/site-packages/pandas/core/ops/common.py:81\u001b[0m, in \u001b[0;36m_unpack_zerodim_and_defer.<locals>.new_method\u001b[0;34m(self, other)\u001b[0m\n\u001b[1;32m     77\u001b[0m             \u001b[39mreturn\u001b[39;00m \u001b[39mNotImplemented\u001b[39m\n\u001b[1;32m     79\u001b[0m other \u001b[39m=\u001b[39m item_from_zerodim(other)\n\u001b[0;32m---> 81\u001b[0m \u001b[39mreturn\u001b[39;00m method(\u001b[39mself\u001b[39;49m, other)\n",
      "File \u001b[0;32m~/reidentification/.venv/lib/python3.10/site-packages/pandas/core/arraylike.py:40\u001b[0m, in \u001b[0;36mOpsMixin.__eq__\u001b[0;34m(self, other)\u001b[0m\n\u001b[1;32m     38\u001b[0m \u001b[39m@unpack_zerodim_and_defer\u001b[39m(\u001b[39m\"\u001b[39m\u001b[39m__eq__\u001b[39m\u001b[39m\"\u001b[39m)\n\u001b[1;32m     39\u001b[0m \u001b[39mdef\u001b[39;00m \u001b[39m__eq__\u001b[39m(\u001b[39mself\u001b[39m, other):\n\u001b[0;32m---> 40\u001b[0m     \u001b[39mreturn\u001b[39;00m \u001b[39mself\u001b[39;49m\u001b[39m.\u001b[39;49m_cmp_method(other, operator\u001b[39m.\u001b[39;49meq)\n",
      "File \u001b[0;32m~/reidentification/.venv/lib/python3.10/site-packages/pandas/core/series.py:6094\u001b[0m, in \u001b[0;36mSeries._cmp_method\u001b[0;34m(self, other, op)\u001b[0m\n\u001b[1;32m   6091\u001b[0m \u001b[39mwith\u001b[39;00m np\u001b[39m.\u001b[39merrstate(\u001b[39mall\u001b[39m\u001b[39m=\u001b[39m\u001b[39m\"\u001b[39m\u001b[39mignore\u001b[39m\u001b[39m\"\u001b[39m):\n\u001b[1;32m   6092\u001b[0m     res_values \u001b[39m=\u001b[39m ops\u001b[39m.\u001b[39mcomparison_op(lvalues, rvalues, op)\n\u001b[0;32m-> 6094\u001b[0m \u001b[39mreturn\u001b[39;00m \u001b[39mself\u001b[39;49m\u001b[39m.\u001b[39;49m_construct_result(res_values, name\u001b[39m=\u001b[39;49mres_name)\n",
      "File \u001b[0;32m~/reidentification/.venv/lib/python3.10/site-packages/pandas/core/series.py:3101\u001b[0m, in \u001b[0;36mSeries._construct_result\u001b[0;34m(self, result, name)\u001b[0m\n\u001b[1;32m   3098\u001b[0m \u001b[39m# TODO: result should always be ArrayLike, but this fails for some\u001b[39;00m\n\u001b[1;32m   3099\u001b[0m \u001b[39m#  JSONArray tests\u001b[39;00m\n\u001b[1;32m   3100\u001b[0m dtype \u001b[39m=\u001b[39m \u001b[39mgetattr\u001b[39m(result, \u001b[39m\"\u001b[39m\u001b[39mdtype\u001b[39m\u001b[39m\"\u001b[39m, \u001b[39mNone\u001b[39;00m)\n\u001b[0;32m-> 3101\u001b[0m out \u001b[39m=\u001b[39m \u001b[39mself\u001b[39;49m\u001b[39m.\u001b[39;49m_constructor(result, index\u001b[39m=\u001b[39;49m\u001b[39mself\u001b[39;49m\u001b[39m.\u001b[39;49mindex, dtype\u001b[39m=\u001b[39;49mdtype)\n\u001b[1;32m   3102\u001b[0m out \u001b[39m=\u001b[39m out\u001b[39m.\u001b[39m__finalize__(\u001b[39mself\u001b[39m)\n\u001b[1;32m   3104\u001b[0m \u001b[39m# Set the result's name after __finalize__ is called because __finalize__\u001b[39;00m\n\u001b[1;32m   3105\u001b[0m \u001b[39m#  would set it back to self.name\u001b[39;00m\n",
      "File \u001b[0;32m~/reidentification/.venv/lib/python3.10/site-packages/pandas/core/series.py:425\u001b[0m, in \u001b[0;36mSeries.__init__\u001b[0;34m(self, data, index, dtype, name, copy, fastpath)\u001b[0m\n\u001b[1;32m    422\u001b[0m name \u001b[39m=\u001b[39m ibase\u001b[39m.\u001b[39mmaybe_extract_name(name, data, \u001b[39mtype\u001b[39m(\u001b[39mself\u001b[39m))\n\u001b[1;32m    424\u001b[0m \u001b[39mif\u001b[39;00m index \u001b[39mis\u001b[39;00m \u001b[39mnot\u001b[39;00m \u001b[39mNone\u001b[39;00m:\n\u001b[0;32m--> 425\u001b[0m     index \u001b[39m=\u001b[39m ensure_index(index)\n\u001b[1;32m    427\u001b[0m \u001b[39mif\u001b[39;00m dtype \u001b[39mis\u001b[39;00m \u001b[39mnot\u001b[39;00m \u001b[39mNone\u001b[39;00m:\n\u001b[1;32m    428\u001b[0m     dtype \u001b[39m=\u001b[39m \u001b[39mself\u001b[39m\u001b[39m.\u001b[39m_validate_dtype(dtype)\n",
      "File \u001b[0;32m~/reidentification/.venv/lib/python3.10/site-packages/pandas/core/indexes/base.py:7100\u001b[0m, in \u001b[0;36mensure_index\u001b[0;34m(index_like, copy)\u001b[0m\n\u001b[1;32m   7069\u001b[0m \u001b[39mdef\u001b[39;00m \u001b[39mensure_index\u001b[39m(index_like: Axes, copy: \u001b[39mbool\u001b[39m \u001b[39m=\u001b[39m \u001b[39mFalse\u001b[39;00m) \u001b[39m-\u001b[39m\u001b[39m>\u001b[39m Index:\n\u001b[1;32m   7070\u001b[0m \u001b[39m    \u001b[39m\u001b[39m\"\"\"\u001b[39;00m\n\u001b[1;32m   7071\u001b[0m \u001b[39m    Ensure that we have an index from some index-like object.\u001b[39;00m\n\u001b[1;32m   7072\u001b[0m \n\u001b[0;32m   (...)\u001b[0m\n\u001b[1;32m   7098\u001b[0m \u001b[39m           )\u001b[39;00m\n\u001b[1;32m   7099\u001b[0m \u001b[39m    \"\"\"\u001b[39;00m\n\u001b[0;32m-> 7100\u001b[0m     \u001b[39mif\u001b[39;00m \u001b[39misinstance\u001b[39;49m(index_like, Index):\n\u001b[1;32m   7101\u001b[0m         \u001b[39mif\u001b[39;00m copy:\n\u001b[1;32m   7102\u001b[0m             index_like \u001b[39m=\u001b[39m index_like\u001b[39m.\u001b[39mcopy()\n",
      "\u001b[0;31mKeyboardInterrupt\u001b[0m: "
     ]
    }
   ],
   "source": [
    "model = SiameseBasicCNN().to(device)\n",
    "lr = 1e-2\n",
    "optimizer = Adam(model.parameters(), lr)\n",
    "scheduler = torch.optim.lr_scheduler.StepLR(optimizer, step_size=2, gamma=0.1)\n",
    "criterion = ContrastiveLoss(margin=0.001)\n",
    "\n",
    "model, results = train_siamese(\n",
    "    config=dataset_config,\n",
    "    criterion=criterion,\n",
    "    device=device,\n",
    "    epoch_count=6,\n",
    "    lr=lr,\n",
    "    model=model,\n",
    "    optimizer=optimizer,\n",
    "    scheduler=scheduler,\n",
    "    threshold=0.25,\n",
    "    train_loader=train_loader,\n",
    "    val_loader=val_loader,\n",
    ")"
   ]
  },
  {
   "attachments": {},
   "cell_type": "markdown",
   "metadata": {},
   "source": [
    "### Basic CNN, margin=0.01"
   ]
  },
  {
   "cell_type": "code",
   "execution_count": 7,
   "metadata": {},
   "outputs": [
    {
     "name": "stdout",
     "output_type": "stream",
     "text": [
      "Epoch 0/5:\n"
     ]
    },
    {
     "name": "stderr",
     "output_type": "stream",
     "text": [
      "100%|██████████| 110/110 [00:16<00:00,  6.82it/s]"
     ]
    },
    {
     "name": "stdout",
     "output_type": "stream",
     "text": [
      "train Loss: 0.0313 Acc: 0.7807\n"
     ]
    },
    {
     "name": "stderr",
     "output_type": "stream",
     "text": [
      "\n",
      "100%|██████████| 33/33 [00:01<00:00, 22.50it/s]"
     ]
    },
    {
     "name": "stdout",
     "output_type": "stream",
     "text": [
      "val Loss: 0.0001 Acc: 0.8712\n",
      "Model saved at basic_cnn.pth\n",
      "Epoch 1/5:\n"
     ]
    },
    {
     "name": "stderr",
     "output_type": "stream",
     "text": [
      "\n",
      "100%|██████████| 110/110 [00:16<00:00,  6.80it/s]"
     ]
    },
    {
     "name": "stdout",
     "output_type": "stream",
     "text": [
      "train Loss: 0.0000 Acc: 0.7102\n"
     ]
    },
    {
     "name": "stderr",
     "output_type": "stream",
     "text": [
      "\n",
      "100%|██████████| 33/33 [00:01<00:00, 22.62it/s]"
     ]
    },
    {
     "name": "stdout",
     "output_type": "stream",
     "text": [
      "val Loss: 0.0000 Acc: 0.8352\n",
      "Epoch 2/5:\n"
     ]
    },
    {
     "name": "stderr",
     "output_type": "stream",
     "text": [
      "\n",
      "  9%|▉         | 10/110 [00:01<00:16,  6.18it/s]\n"
     ]
    },
    {
     "ename": "KeyboardInterrupt",
     "evalue": "",
     "output_type": "error",
     "traceback": [
      "\u001b[0;31m---------------------------------------------------------------------------\u001b[0m",
      "\u001b[0;31mKeyboardInterrupt\u001b[0m                         Traceback (most recent call last)",
      "Cell \u001b[0;32mIn[7], line 7\u001b[0m\n\u001b[1;32m      4\u001b[0m scheduler \u001b[39m=\u001b[39m torch\u001b[39m.\u001b[39moptim\u001b[39m.\u001b[39mlr_scheduler\u001b[39m.\u001b[39mStepLR(optimizer, step_size\u001b[39m=\u001b[39m\u001b[39m2\u001b[39m, gamma\u001b[39m=\u001b[39m\u001b[39m0.1\u001b[39m)\n\u001b[1;32m      5\u001b[0m criterion \u001b[39m=\u001b[39m ContrastiveLoss(margin\u001b[39m=\u001b[39m\u001b[39m0.01\u001b[39m)\n\u001b[0;32m----> 7\u001b[0m model, results \u001b[39m=\u001b[39m train_siamese(\n\u001b[1;32m      8\u001b[0m     config\u001b[39m=\u001b[39;49mdataset_config,\n\u001b[1;32m      9\u001b[0m     criterion\u001b[39m=\u001b[39;49mcriterion,\n\u001b[1;32m     10\u001b[0m     device\u001b[39m=\u001b[39;49mdevice,\n\u001b[1;32m     11\u001b[0m     epoch_count\u001b[39m=\u001b[39;49m\u001b[39m6\u001b[39;49m,\n\u001b[1;32m     12\u001b[0m     lr\u001b[39m=\u001b[39;49mlr,\n\u001b[1;32m     13\u001b[0m     model\u001b[39m=\u001b[39;49mmodel,\n\u001b[1;32m     14\u001b[0m     optimizer\u001b[39m=\u001b[39;49moptimizer,\n\u001b[1;32m     15\u001b[0m     scheduler\u001b[39m=\u001b[39;49mscheduler,\n\u001b[1;32m     16\u001b[0m     threshold\u001b[39m=\u001b[39;49m\u001b[39m0.25\u001b[39;49m,\n\u001b[1;32m     17\u001b[0m     train_loader\u001b[39m=\u001b[39;49mtrain_loader,\n\u001b[1;32m     18\u001b[0m     val_loader\u001b[39m=\u001b[39;49mval_loader,\n\u001b[1;32m     19\u001b[0m )\n",
      "File \u001b[0;32m~/reidentification/src/train/train.py:206\u001b[0m, in \u001b[0;36mtrain_siamese\u001b[0;34m(model, train_loader, val_loader, optimizer, lr, criterion, epoch_count, threshold, scheduler, device, config)\u001b[0m\n\u001b[1;32m    203\u001b[0m             loss\u001b[39m.\u001b[39mbackward()\n\u001b[1;32m    204\u001b[0m             optimizer\u001b[39m.\u001b[39mstep()\n\u001b[0;32m--> 206\u001b[0m     running_loss \u001b[39m+\u001b[39m\u001b[39m=\u001b[39m loss\u001b[39m.\u001b[39;49mitem()\n\u001b[1;32m    207\u001b[0m     running_acc \u001b[39m+\u001b[39m\u001b[39m=\u001b[39m get_distance_accuracy(\n\u001b[1;32m    208\u001b[0m         distance\u001b[39m.\u001b[39mclone(), y, threshold)\n\u001b[1;32m    210\u001b[0m epoch_loss \u001b[39m=\u001b[39m running_loss \u001b[39m/\u001b[39m \u001b[39mlen\u001b[39m(dataloader)\n",
      "\u001b[0;31mKeyboardInterrupt\u001b[0m: "
     ]
    }
   ],
   "source": [
    "model = SiameseBasicCNN().to(device)\n",
    "lr = 1e-2\n",
    "optimizer = Adam(model.parameters(), lr)\n",
    "scheduler = torch.optim.lr_scheduler.StepLR(optimizer, step_size=2, gamma=0.1)\n",
    "criterion = ContrastiveLoss(margin=0.01)\n",
    "\n",
    "model, results = train_siamese(\n",
    "    config=dataset_config,\n",
    "    criterion=criterion,\n",
    "    device=device,\n",
    "    epoch_count=6,\n",
    "    lr=lr,\n",
    "    model=model,\n",
    "    optimizer=optimizer,\n",
    "    scheduler=scheduler,\n",
    "    threshold=0.25,\n",
    "    train_loader=train_loader,\n",
    "    val_loader=val_loader,\n",
    ")"
   ]
  },
  {
   "attachments": {},
   "cell_type": "markdown",
   "metadata": {},
   "source": [
    "### Basic CNN, margin=0.1"
   ]
  },
  {
   "cell_type": "code",
   "execution_count": 8,
   "metadata": {},
   "outputs": [
    {
     "name": "stdout",
     "output_type": "stream",
     "text": [
      "Epoch 0/5:\n"
     ]
    },
    {
     "name": "stderr",
     "output_type": "stream",
     "text": [
      "100%|██████████| 110/110 [00:16<00:00,  6.76it/s]"
     ]
    },
    {
     "name": "stdout",
     "output_type": "stream",
     "text": [
      "train Loss: 0.0475 Acc: 0.7466\n"
     ]
    },
    {
     "name": "stderr",
     "output_type": "stream",
     "text": [
      "\n",
      "100%|██████████| 33/33 [00:01<00:00, 22.29it/s]"
     ]
    },
    {
     "name": "stdout",
     "output_type": "stream",
     "text": [
      "val Loss: 0.0050 Acc: 0.8485\n",
      "Model saved at basic_cnn.pth\n",
      "Epoch 1/5:\n"
     ]
    },
    {
     "name": "stderr",
     "output_type": "stream",
     "text": [
      "\n",
      "100%|██████████| 110/110 [00:16<00:00,  6.84it/s]"
     ]
    },
    {
     "name": "stdout",
     "output_type": "stream",
     "text": [
      "train Loss: 0.0035 Acc: 0.7824\n"
     ]
    },
    {
     "name": "stderr",
     "output_type": "stream",
     "text": [
      "\n",
      "100%|██████████| 33/33 [00:01<00:00, 22.08it/s]"
     ]
    },
    {
     "name": "stdout",
     "output_type": "stream",
     "text": [
      "val Loss: 0.0040 Acc: 0.8864\n",
      "Model saved at basic_cnn.pth\n",
      "Epoch 2/5:\n"
     ]
    },
    {
     "name": "stderr",
     "output_type": "stream",
     "text": [
      "\n",
      "100%|██████████| 110/110 [00:16<00:00,  6.82it/s]"
     ]
    },
    {
     "name": "stdout",
     "output_type": "stream",
     "text": [
      "train Loss: 0.0034 Acc: 0.8136\n"
     ]
    },
    {
     "name": "stderr",
     "output_type": "stream",
     "text": [
      "\n",
      "100%|██████████| 33/33 [00:01<00:00, 22.48it/s]"
     ]
    },
    {
     "name": "stdout",
     "output_type": "stream",
     "text": [
      "val Loss: 0.0044 Acc: 0.8580\n",
      "Epoch 3/5:\n"
     ]
    },
    {
     "name": "stderr",
     "output_type": "stream",
     "text": [
      "\n",
      " 15%|█▌        | 17/110 [00:02<00:14,  6.46it/s]\n"
     ]
    },
    {
     "ename": "KeyboardInterrupt",
     "evalue": "",
     "output_type": "error",
     "traceback": [
      "\u001b[0;31m---------------------------------------------------------------------------\u001b[0m",
      "\u001b[0;31mKeyboardInterrupt\u001b[0m                         Traceback (most recent call last)",
      "Cell \u001b[0;32mIn[8], line 7\u001b[0m\n\u001b[1;32m      4\u001b[0m scheduler \u001b[39m=\u001b[39m torch\u001b[39m.\u001b[39moptim\u001b[39m.\u001b[39mlr_scheduler\u001b[39m.\u001b[39mStepLR(optimizer, step_size\u001b[39m=\u001b[39m\u001b[39m2\u001b[39m, gamma\u001b[39m=\u001b[39m\u001b[39m0.1\u001b[39m)\n\u001b[1;32m      5\u001b[0m criterion \u001b[39m=\u001b[39m ContrastiveLoss(margin\u001b[39m=\u001b[39m\u001b[39m0.1\u001b[39m)\n\u001b[0;32m----> 7\u001b[0m model, results \u001b[39m=\u001b[39m train_siamese(\n\u001b[1;32m      8\u001b[0m     config\u001b[39m=\u001b[39;49mdataset_config,\n\u001b[1;32m      9\u001b[0m     criterion\u001b[39m=\u001b[39;49mcriterion,\n\u001b[1;32m     10\u001b[0m     device\u001b[39m=\u001b[39;49mdevice,\n\u001b[1;32m     11\u001b[0m     epoch_count\u001b[39m=\u001b[39;49m\u001b[39m6\u001b[39;49m,\n\u001b[1;32m     12\u001b[0m     lr\u001b[39m=\u001b[39;49mlr,\n\u001b[1;32m     13\u001b[0m     model\u001b[39m=\u001b[39;49mmodel,\n\u001b[1;32m     14\u001b[0m     optimizer\u001b[39m=\u001b[39;49moptimizer,\n\u001b[1;32m     15\u001b[0m     scheduler\u001b[39m=\u001b[39;49mscheduler,\n\u001b[1;32m     16\u001b[0m     threshold\u001b[39m=\u001b[39;49m\u001b[39m0.25\u001b[39;49m,\n\u001b[1;32m     17\u001b[0m     train_loader\u001b[39m=\u001b[39;49mtrain_loader,\n\u001b[1;32m     18\u001b[0m     val_loader\u001b[39m=\u001b[39;49mval_loader,\n\u001b[1;32m     19\u001b[0m )\n",
      "File \u001b[0;32m~/reidentification/src/train/train.py:206\u001b[0m, in \u001b[0;36mtrain_siamese\u001b[0;34m(model, train_loader, val_loader, optimizer, lr, criterion, epoch_count, threshold, scheduler, device, config)\u001b[0m\n\u001b[1;32m    203\u001b[0m             loss\u001b[39m.\u001b[39mbackward()\n\u001b[1;32m    204\u001b[0m             optimizer\u001b[39m.\u001b[39mstep()\n\u001b[0;32m--> 206\u001b[0m     running_loss \u001b[39m+\u001b[39m\u001b[39m=\u001b[39m loss\u001b[39m.\u001b[39;49mitem()\n\u001b[1;32m    207\u001b[0m     running_acc \u001b[39m+\u001b[39m\u001b[39m=\u001b[39m get_distance_accuracy(\n\u001b[1;32m    208\u001b[0m         distance\u001b[39m.\u001b[39mclone(), y, threshold)\n\u001b[1;32m    210\u001b[0m epoch_loss \u001b[39m=\u001b[39m running_loss \u001b[39m/\u001b[39m \u001b[39mlen\u001b[39m(dataloader)\n",
      "\u001b[0;31mKeyboardInterrupt\u001b[0m: "
     ]
    }
   ],
   "source": [
    "model = SiameseBasicCNN().to(device)\n",
    "lr = 1e-2\n",
    "optimizer = Adam(model.parameters(), lr)\n",
    "scheduler = torch.optim.lr_scheduler.StepLR(optimizer, step_size=2, gamma=0.1)\n",
    "criterion = ContrastiveLoss(margin=0.1)\n",
    "\n",
    "model, results = train_siamese(\n",
    "    config=dataset_config,\n",
    "    criterion=criterion,\n",
    "    device=device,\n",
    "    epoch_count=6,\n",
    "    lr=lr,\n",
    "    model=model,\n",
    "    optimizer=optimizer,\n",
    "    scheduler=scheduler,\n",
    "    threshold=0.25,\n",
    "    train_loader=train_loader,\n",
    "    val_loader=val_loader,\n",
    ")"
   ]
  },
  {
   "attachments": {},
   "cell_type": "markdown",
   "metadata": {},
   "source": [
    "### Basic CNN, margin=0.5"
   ]
  },
  {
   "cell_type": "code",
   "execution_count": 9,
   "metadata": {},
   "outputs": [
    {
     "name": "stdout",
     "output_type": "stream",
     "text": [
      "Epoch 0/5:\n"
     ]
    },
    {
     "name": "stderr",
     "output_type": "stream",
     "text": [
      "100%|██████████| 110/110 [00:16<00:00,  6.85it/s]"
     ]
    },
    {
     "name": "stdout",
     "output_type": "stream",
     "text": [
      "train Loss: 0.1223 Acc: 0.7727\n"
     ]
    },
    {
     "name": "stderr",
     "output_type": "stream",
     "text": [
      "\n",
      "100%|██████████| 33/33 [00:01<00:00, 22.12it/s]"
     ]
    },
    {
     "name": "stdout",
     "output_type": "stream",
     "text": [
      "val Loss: 0.1037 Acc: 0.8580\n",
      "Model saved at basic_cnn.pth\n",
      "Epoch 1/5:\n"
     ]
    },
    {
     "name": "stderr",
     "output_type": "stream",
     "text": [
      "\n",
      "100%|██████████| 110/110 [00:16<00:00,  6.83it/s]"
     ]
    },
    {
     "name": "stdout",
     "output_type": "stream",
     "text": [
      "train Loss: 0.0850 Acc: 0.8000\n"
     ]
    },
    {
     "name": "stderr",
     "output_type": "stream",
     "text": [
      "\n",
      "100%|██████████| 33/33 [00:01<00:00, 22.41it/s]"
     ]
    },
    {
     "name": "stdout",
     "output_type": "stream",
     "text": [
      "val Loss: 0.0977 Acc: 0.9186\n",
      "Model saved at basic_cnn.pth\n",
      "Epoch 2/5:\n"
     ]
    },
    {
     "name": "stderr",
     "output_type": "stream",
     "text": [
      "\n",
      "100%|██████████| 110/110 [00:16<00:00,  6.83it/s]"
     ]
    },
    {
     "name": "stdout",
     "output_type": "stream",
     "text": [
      "train Loss: 0.0857 Acc: 0.7966\n"
     ]
    },
    {
     "name": "stderr",
     "output_type": "stream",
     "text": [
      "\n",
      "100%|██████████| 33/33 [00:01<00:00, 23.13it/s]"
     ]
    },
    {
     "name": "stdout",
     "output_type": "stream",
     "text": [
      "val Loss: 0.0975 Acc: 0.8996\n",
      "Epoch 3/5:\n"
     ]
    },
    {
     "name": "stderr",
     "output_type": "stream",
     "text": [
      "\n",
      "100%|██████████| 110/110 [00:16<00:00,  6.82it/s]"
     ]
    },
    {
     "name": "stdout",
     "output_type": "stream",
     "text": [
      "train Loss: 0.0836 Acc: 0.8114\n"
     ]
    },
    {
     "name": "stderr",
     "output_type": "stream",
     "text": [
      "\n",
      "100%|██████████| 33/33 [00:01<00:00, 21.92it/s]"
     ]
    },
    {
     "name": "stdout",
     "output_type": "stream",
     "text": [
      "val Loss: 0.0966 Acc: 0.9299\n",
      "Model saved at basic_cnn.pth\n",
      "Epoch 4/5:\n"
     ]
    },
    {
     "name": "stderr",
     "output_type": "stream",
     "text": [
      "\n",
      "100%|██████████| 110/110 [00:16<00:00,  6.86it/s]"
     ]
    },
    {
     "name": "stdout",
     "output_type": "stream",
     "text": [
      "train Loss: 0.0845 Acc: 0.7795\n"
     ]
    },
    {
     "name": "stderr",
     "output_type": "stream",
     "text": [
      "\n",
      "100%|██████████| 33/33 [00:01<00:00, 23.15it/s]"
     ]
    },
    {
     "name": "stdout",
     "output_type": "stream",
     "text": [
      "val Loss: 0.0946 Acc: 0.9186\n",
      "Epoch 5/5:\n"
     ]
    },
    {
     "name": "stderr",
     "output_type": "stream",
     "text": [
      "\n",
      "100%|██████████| 110/110 [00:16<00:00,  6.84it/s]"
     ]
    },
    {
     "name": "stdout",
     "output_type": "stream",
     "text": [
      "train Loss: 0.0847 Acc: 0.8284\n"
     ]
    },
    {
     "name": "stderr",
     "output_type": "stream",
     "text": [
      "\n",
      "100%|██████████| 33/33 [00:01<00:00, 22.01it/s]"
     ]
    },
    {
     "name": "stdout",
     "output_type": "stream",
     "text": [
      "val Loss: 0.0960 Acc: 0.9034\n"
     ]
    },
    {
     "name": "stderr",
     "output_type": "stream",
     "text": [
      "\n"
     ]
    }
   ],
   "source": [
    "model = SiameseBasicCNN().to(device)\n",
    "lr = 1e-2\n",
    "optimizer = Adam(model.parameters(), lr)\n",
    "scheduler = torch.optim.lr_scheduler.StepLR(optimizer, step_size=2, gamma=0.1)\n",
    "criterion = ContrastiveLoss(margin=0.5)\n",
    "\n",
    "model, results = train_siamese(\n",
    "    config=dataset_config,\n",
    "    criterion=criterion,\n",
    "    device=device,\n",
    "    epoch_count=6,\n",
    "    lr=lr,\n",
    "    model=model,\n",
    "    optimizer=optimizer,\n",
    "    scheduler=scheduler,\n",
    "    threshold=0.25,\n",
    "    train_loader=train_loader,\n",
    "    val_loader=val_loader,\n",
    ")"
   ]
  },
  {
   "attachments": {},
   "cell_type": "markdown",
   "metadata": {},
   "source": [
    "## Подбор параметра"
   ]
  },
  {
   "cell_type": "code",
   "execution_count": null,
   "metadata": {},
   "outputs": [],
   "source": [
    "for m in range(1, 6):\n",
    "    model = SiameseBasicCNN().to(device)\n",
    "    lr = 1e-2\n",
    "    optimizer = Adam(model.parameters(), lr)\n",
    "    scheduler = torch.optim.lr_scheduler.StepLR(optimizer, step_size=2, gamma=0.1)\n",
    "    criterion = ContrastiveLoss(margin=m)\n",
    "\n",
    "    model, results = train_siamese(\n",
    "        config=dataset_config,\n",
    "        criterion=criterion,\n",
    "        device=device,\n",
    "        epoch_count=6,\n",
    "        lr=lr,\n",
    "        model=model,\n",
    "        optimizer=optimizer,\n",
    "        scheduler=scheduler,\n",
    "        threshold=0.25,\n",
    "        train_loader=train_loader,\n",
    "        val_loader=val_loader,\n",
    "    )"
   ]
  },
  {
   "attachments": {},
   "cell_type": "markdown",
   "metadata": {},
   "source": [
    "### Интерпретация"
   ]
  },
  {
   "cell_type": "code",
   "execution_count": 49,
   "metadata": {},
   "outputs": [
    {
     "data": {
      "text/html": [
       "<div>\n",
       "<style scoped>\n",
       "    .dataframe tbody tr th:only-of-type {\n",
       "        vertical-align: middle;\n",
       "    }\n",
       "\n",
       "    .dataframe tbody tr th {\n",
       "        vertical-align: top;\n",
       "    }\n",
       "\n",
       "    .dataframe thead th {\n",
       "        text-align: right;\n",
       "    }\n",
       "</style>\n",
       "<table border=\"1\" class=\"dataframe\">\n",
       "  <thead>\n",
       "    <tr style=\"text-align: right;\">\n",
       "      <th></th>\n",
       "      <th>model_name</th>\n",
       "      <th>datetime</th>\n",
       "      <th>epoch_count</th>\n",
       "      <th>optimizer</th>\n",
       "      <th>lr</th>\n",
       "      <th>gamma</th>\n",
       "      <th>step_size</th>\n",
       "      <th>loss_name</th>\n",
       "      <th>val_losses</th>\n",
       "      <th>val_accuracies</th>\n",
       "      <th>best_val_acc</th>\n",
       "      <th>best_val_loss</th>\n",
       "      <th>test_accuracy</th>\n",
       "      <th>dataset_config</th>\n",
       "      <th>extra_parameters</th>\n",
       "      <th>train_losses</th>\n",
       "      <th>train_accuracies</th>\n",
       "    </tr>\n",
       "  </thead>\n",
       "  <tbody>\n",
       "    <tr>\n",
       "      <th>10</th>\n",
       "      <td>basic_cnn</td>\n",
       "      <td>2023-05-17 16:13:29.995821</td>\n",
       "      <td>6</td>\n",
       "      <td>Adam</td>\n",
       "      <td>0.01</td>\n",
       "      <td>0.1</td>\n",
       "      <td>2.0</td>\n",
       "      <td>ContrastiveLoss m=0.5</td>\n",
       "      <td>0.10366702621633356;0.09767509500185649;0.0975...</td>\n",
       "      <td>0.8579545454545454;0.9185606060606061;0.899621...</td>\n",
       "      <td>0.929924</td>\n",
       "      <td>0.094597</td>\n",
       "      <td>NaN</td>\n",
       "      <td>mot20_ext-v1c</td>\n",
       "      <td>threshold=0.25</td>\n",
       "      <td>NaN</td>\n",
       "      <td>NaN</td>\n",
       "    </tr>\n",
       "    <tr>\n",
       "      <th>11</th>\n",
       "      <td>basic_cnn</td>\n",
       "      <td>2023-05-17 16:16:08.357209</td>\n",
       "      <td>6</td>\n",
       "      <td>Adam</td>\n",
       "      <td>0.01</td>\n",
       "      <td>0.1</td>\n",
       "      <td>2.0</td>\n",
       "      <td>ContrastiveLoss m=1</td>\n",
       "      <td>0.3937322163220608;0.38748486656131165;0.39237...</td>\n",
       "      <td>0.8920454545454546;0.8901515151515151;0.895833...</td>\n",
       "      <td>0.931818</td>\n",
       "      <td>0.375903</td>\n",
       "      <td>NaN</td>\n",
       "      <td>mot20_ext-v1c</td>\n",
       "      <td>threshold=0.25</td>\n",
       "      <td>NaN</td>\n",
       "      <td>NaN</td>\n",
       "    </tr>\n",
       "    <tr>\n",
       "      <th>12</th>\n",
       "      <td>basic_cnn</td>\n",
       "      <td>2023-05-17 16:18:12.320181</td>\n",
       "      <td>6</td>\n",
       "      <td>Adam</td>\n",
       "      <td>0.01</td>\n",
       "      <td>0.1</td>\n",
       "      <td>2.0</td>\n",
       "      <td>ContrastiveLoss m=2</td>\n",
       "      <td>1.6220077167857776;1.501405044035478;1.5712510...</td>\n",
       "      <td>0.8200757575757576;0.9015151515151515;0.922348...</td>\n",
       "      <td>0.928030</td>\n",
       "      <td>1.484149</td>\n",
       "      <td>NaN</td>\n",
       "      <td>mot20_ext-v1c</td>\n",
       "      <td>threshold=0.25</td>\n",
       "      <td>NaN</td>\n",
       "      <td>NaN</td>\n",
       "    </tr>\n",
       "    <tr>\n",
       "      <th>13</th>\n",
       "      <td>basic_cnn</td>\n",
       "      <td>2023-05-17 16:19:21.640774</td>\n",
       "      <td>6</td>\n",
       "      <td>Adam</td>\n",
       "      <td>0.01</td>\n",
       "      <td>0.1</td>\n",
       "      <td>2.0</td>\n",
       "      <td>ContrastiveLoss m=3</td>\n",
       "      <td>3.7105082381855357;3.536945205746275;3.4418311...</td>\n",
       "      <td>0.8314393939393939;0.8939393939393939;0.922348...</td>\n",
       "      <td>0.922348</td>\n",
       "      <td>3.441831</td>\n",
       "      <td>NaN</td>\n",
       "      <td>mot20_ext-v1c</td>\n",
       "      <td>threshold=0.25</td>\n",
       "      <td>NaN</td>\n",
       "      <td>NaN</td>\n",
       "    </tr>\n",
       "    <tr>\n",
       "      <th>14</th>\n",
       "      <td>basic_cnn</td>\n",
       "      <td>2023-05-17 16:21:27.245222</td>\n",
       "      <td>6</td>\n",
       "      <td>Adam</td>\n",
       "      <td>0.01</td>\n",
       "      <td>0.1</td>\n",
       "      <td>2.0</td>\n",
       "      <td>ContrastiveLoss m=4</td>\n",
       "      <td>6.333531899885698;6.176032673228871;6.33328749...</td>\n",
       "      <td>0.8712121212121212;0.9053030303030303;0.926136...</td>\n",
       "      <td>0.929924</td>\n",
       "      <td>6.133762</td>\n",
       "      <td>NaN</td>\n",
       "      <td>mot20_ext-v1c</td>\n",
       "      <td>threshold=0.25</td>\n",
       "      <td>NaN</td>\n",
       "      <td>NaN</td>\n",
       "    </tr>\n",
       "    <tr>\n",
       "      <th>15</th>\n",
       "      <td>basic_cnn</td>\n",
       "      <td>2023-05-17 16:23:15.268691</td>\n",
       "      <td>6</td>\n",
       "      <td>Adam</td>\n",
       "      <td>0.01</td>\n",
       "      <td>0.1</td>\n",
       "      <td>2.0</td>\n",
       "      <td>ContrastiveLoss m=5</td>\n",
       "      <td>9.332255450162021;9.461283712676078;9.44731449...</td>\n",
       "      <td>0.9223484848484849;0.9071969696969697;0.931818...</td>\n",
       "      <td>0.931818</td>\n",
       "      <td>9.222168</td>\n",
       "      <td>NaN</td>\n",
       "      <td>mot20_ext-v1c</td>\n",
       "      <td>threshold=0.25</td>\n",
       "      <td>NaN</td>\n",
       "      <td>NaN</td>\n",
       "    </tr>\n",
       "  </tbody>\n",
       "</table>\n",
       "</div>"
      ],
      "text/plain": [
       "   model_name                    datetime  epoch_count optimizer    lr  gamma   \n",
       "10  basic_cnn  2023-05-17 16:13:29.995821            6      Adam  0.01    0.1  \\\n",
       "11  basic_cnn  2023-05-17 16:16:08.357209            6      Adam  0.01    0.1   \n",
       "12  basic_cnn  2023-05-17 16:18:12.320181            6      Adam  0.01    0.1   \n",
       "13  basic_cnn  2023-05-17 16:19:21.640774            6      Adam  0.01    0.1   \n",
       "14  basic_cnn  2023-05-17 16:21:27.245222            6      Adam  0.01    0.1   \n",
       "15  basic_cnn  2023-05-17 16:23:15.268691            6      Adam  0.01    0.1   \n",
       "\n",
       "    step_size              loss_name   \n",
       "10        2.0  ContrastiveLoss m=0.5  \\\n",
       "11        2.0    ContrastiveLoss m=1   \n",
       "12        2.0    ContrastiveLoss m=2   \n",
       "13        2.0    ContrastiveLoss m=3   \n",
       "14        2.0    ContrastiveLoss m=4   \n",
       "15        2.0    ContrastiveLoss m=5   \n",
       "\n",
       "                                           val_losses   \n",
       "10  0.10366702621633356;0.09767509500185649;0.0975...  \\\n",
       "11  0.3937322163220608;0.38748486656131165;0.39237...   \n",
       "12  1.6220077167857776;1.501405044035478;1.5712510...   \n",
       "13  3.7105082381855357;3.536945205746275;3.4418311...   \n",
       "14  6.333531899885698;6.176032673228871;6.33328749...   \n",
       "15  9.332255450162021;9.461283712676078;9.44731449...   \n",
       "\n",
       "                                       val_accuracies  best_val_acc   \n",
       "10  0.8579545454545454;0.9185606060606061;0.899621...      0.929924  \\\n",
       "11  0.8920454545454546;0.8901515151515151;0.895833...      0.931818   \n",
       "12  0.8200757575757576;0.9015151515151515;0.922348...      0.928030   \n",
       "13  0.8314393939393939;0.8939393939393939;0.922348...      0.922348   \n",
       "14  0.8712121212121212;0.9053030303030303;0.926136...      0.929924   \n",
       "15  0.9223484848484849;0.9071969696969697;0.931818...      0.931818   \n",
       "\n",
       "    best_val_loss  test_accuracy dataset_config extra_parameters   \n",
       "10       0.094597            NaN  mot20_ext-v1c   threshold=0.25  \\\n",
       "11       0.375903            NaN  mot20_ext-v1c   threshold=0.25   \n",
       "12       1.484149            NaN  mot20_ext-v1c   threshold=0.25   \n",
       "13       3.441831            NaN  mot20_ext-v1c   threshold=0.25   \n",
       "14       6.133762            NaN  mot20_ext-v1c   threshold=0.25   \n",
       "15       9.222168            NaN  mot20_ext-v1c   threshold=0.25   \n",
       "\n",
       "    train_losses  train_accuracies  \n",
       "10           NaN               NaN  \n",
       "11           NaN               NaN  \n",
       "12           NaN               NaN  \n",
       "13           NaN               NaN  \n",
       "14           NaN               NaN  \n",
       "15           NaN               NaN  "
      ]
     },
     "execution_count": 49,
     "metadata": {},
     "output_type": "execute_result"
    }
   ],
   "source": [
    "df = pd.read_csv(join(RESULTS_PATH, 'experiments.csv'))\n",
    "res1 = df[(df['datetime'] > '2023-05-17 16:13:29') & (df['datetime'] < '2023-05-17 16:24')]\n",
    "res1"
   ]
  },
  {
   "cell_type": "code",
   "execution_count": 53,
   "metadata": {},
   "outputs": [],
   "source": [
    "margins = list(map(lambda x: float(x.split(' ')[1][2:]), list(res1['loss_name'])))\n",
    "val_accuracies = list(res1['best_val_acc'])\n",
    "val_losses = list(res1['best_val_loss'])"
   ]
  },
  {
   "cell_type": "code",
   "execution_count": 57,
   "metadata": {},
   "outputs": [
    {
     "data": {
      "text/plain": [
       "<matplotlib.legend.Legend at 0x7fcea73528f0>"
      ]
     },
     "execution_count": 57,
     "metadata": {},
     "output_type": "execute_result"
    },
    {
     "data": {
      "image/png": "[encoded data removed]",
      "text/plain": [
       "<Figure size 640x480 with 1 Axes>"
      ]
     },
     "metadata": {},
     "output_type": "display_data"
    }
   ],
   "source": [
    "plt.plot(margins, val_accuracies)\n",
    "plt.xlabel('margin')\n",
    "plt.ylabel('best validation accuracy')"
   ]
  },
  {
   "cell_type": "code",
   "execution_count": null,
   "metadata": {},
   "outputs": [],
   "source": [
    "for m in range(6, 10):\n",
    "    model = SiameseBasicCNN().to(device)\n",
    "    lr = 1e-2\n",
    "    optimizer = Adam(model.parameters(), lr)\n",
    "    scheduler = torch.optim.lr_scheduler.StepLR(optimizer, step_size=2, gamma=0.1)\n",
    "    criterion = ContrastiveLoss(margin=m)\n",
    "\n",
    "    model, results = train_siamese(\n",
    "        config=dataset_config,\n",
    "        criterion=criterion,\n",
    "        device=device,\n",
    "        epoch_count=6,\n",
    "        lr=lr,\n",
    "        model=model,\n",
    "        optimizer=optimizer,\n",
    "        scheduler=scheduler,\n",
    "        threshold=0.25,\n",
    "        train_loader=train_loader,\n",
    "        val_loader=val_loader,\n",
    "    )"
   ]
  },
  {
   "cell_type": "code",
   "execution_count": 10,
   "metadata": {},
   "outputs": [
    {
     "data": {
      "text/html": [
       "<div>\n",
       "<style scoped>\n",
       "    .dataframe tbody tr th:only-of-type {\n",
       "        vertical-align: middle;\n",
       "    }\n",
       "\n",
       "    .dataframe tbody tr th {\n",
       "        vertical-align: top;\n",
       "    }\n",
       "\n",
       "    .dataframe thead th {\n",
       "        text-align: right;\n",
       "    }\n",
       "</style>\n",
       "<table border=\"1\" class=\"dataframe\">\n",
       "  <thead>\n",
       "    <tr style=\"text-align: right;\">\n",
       "      <th></th>\n",
       "      <th>model_name</th>\n",
       "      <th>datetime</th>\n",
       "      <th>epoch_count</th>\n",
       "      <th>optimizer</th>\n",
       "      <th>lr</th>\n",
       "      <th>gamma</th>\n",
       "      <th>step_size</th>\n",
       "      <th>loss_name</th>\n",
       "      <th>val_losses</th>\n",
       "      <th>val_accuracies</th>\n",
       "      <th>best_val_acc</th>\n",
       "      <th>best_val_loss</th>\n",
       "      <th>test_accuracy</th>\n",
       "      <th>dataset_config</th>\n",
       "      <th>extra_parameters</th>\n",
       "      <th>train_losses</th>\n",
       "      <th>train_accuracies</th>\n",
       "    </tr>\n",
       "  </thead>\n",
       "  <tbody>\n",
       "    <tr>\n",
       "      <th>10</th>\n",
       "      <td>basic_cnn</td>\n",
       "      <td>2023-05-17 16:13:29.995821</td>\n",
       "      <td>6</td>\n",
       "      <td>Adam</td>\n",
       "      <td>0.01</td>\n",
       "      <td>0.1</td>\n",
       "      <td>2.0</td>\n",
       "      <td>ContrastiveLoss m=0.5</td>\n",
       "      <td>0.10366702621633356;0.09767509500185649;0.0975...</td>\n",
       "      <td>0.8579545454545454;0.9185606060606061;0.899621...</td>\n",
       "      <td>0.929924</td>\n",
       "      <td>0.094597</td>\n",
       "      <td>NaN</td>\n",
       "      <td>mot20_ext-v1c</td>\n",
       "      <td>threshold=0.25</td>\n",
       "      <td>NaN</td>\n",
       "      <td>NaN</td>\n",
       "    </tr>\n",
       "    <tr>\n",
       "      <th>11</th>\n",
       "      <td>basic_cnn</td>\n",
       "      <td>2023-05-17 16:16:08.357209</td>\n",
       "      <td>6</td>\n",
       "      <td>Adam</td>\n",
       "      <td>0.01</td>\n",
       "      <td>0.1</td>\n",
       "      <td>2.0</td>\n",
       "      <td>ContrastiveLoss m=1</td>\n",
       "      <td>0.3937322163220608;0.38748486656131165;0.39237...</td>\n",
       "      <td>0.8920454545454546;0.8901515151515151;0.895833...</td>\n",
       "      <td>0.931818</td>\n",
       "      <td>0.375903</td>\n",
       "      <td>NaN</td>\n",
       "      <td>mot20_ext-v1c</td>\n",
       "      <td>threshold=0.25</td>\n",
       "      <td>NaN</td>\n",
       "      <td>NaN</td>\n",
       "    </tr>\n",
       "    <tr>\n",
       "      <th>12</th>\n",
       "      <td>basic_cnn</td>\n",
       "      <td>2023-05-17 16:18:12.320181</td>\n",
       "      <td>6</td>\n",
       "      <td>Adam</td>\n",
       "      <td>0.01</td>\n",
       "      <td>0.1</td>\n",
       "      <td>2.0</td>\n",
       "      <td>ContrastiveLoss m=2</td>\n",
       "      <td>1.6220077167857776;1.501405044035478;1.5712510...</td>\n",
       "      <td>0.8200757575757576;0.9015151515151515;0.922348...</td>\n",
       "      <td>0.928030</td>\n",
       "      <td>1.484149</td>\n",
       "      <td>NaN</td>\n",
       "      <td>mot20_ext-v1c</td>\n",
       "      <td>threshold=0.25</td>\n",
       "      <td>NaN</td>\n",
       "      <td>NaN</td>\n",
       "    </tr>\n",
       "    <tr>\n",
       "      <th>13</th>\n",
       "      <td>basic_cnn</td>\n",
       "      <td>2023-05-17 16:19:21.640774</td>\n",
       "      <td>6</td>\n",
       "      <td>Adam</td>\n",
       "      <td>0.01</td>\n",
       "      <td>0.1</td>\n",
       "      <td>2.0</td>\n",
       "      <td>ContrastiveLoss m=3</td>\n",
       "      <td>3.7105082381855357;3.536945205746275;3.4418311...</td>\n",
       "      <td>0.8314393939393939;0.8939393939393939;0.922348...</td>\n",
       "      <td>0.922348</td>\n",
       "      <td>3.441831</td>\n",
       "      <td>NaN</td>\n",
       "      <td>mot20_ext-v1c</td>\n",
       "      <td>threshold=0.25</td>\n",
       "      <td>NaN</td>\n",
       "      <td>NaN</td>\n",
       "    </tr>\n",
       "    <tr>\n",
       "      <th>14</th>\n",
       "      <td>basic_cnn</td>\n",
       "      <td>2023-05-17 16:21:27.245222</td>\n",
       "      <td>6</td>\n",
       "      <td>Adam</td>\n",
       "      <td>0.01</td>\n",
       "      <td>0.1</td>\n",
       "      <td>2.0</td>\n",
       "      <td>ContrastiveLoss m=4</td>\n",
       "      <td>6.333531899885698;6.176032673228871;6.33328749...</td>\n",
       "      <td>0.8712121212121212;0.9053030303030303;0.926136...</td>\n",
       "      <td>0.929924</td>\n",
       "      <td>6.133762</td>\n",
       "      <td>NaN</td>\n",
       "      <td>mot20_ext-v1c</td>\n",
       "      <td>threshold=0.25</td>\n",
       "      <td>NaN</td>\n",
       "      <td>NaN</td>\n",
       "    </tr>\n",
       "    <tr>\n",
       "      <th>15</th>\n",
       "      <td>basic_cnn</td>\n",
       "      <td>2023-05-17 16:23:15.268691</td>\n",
       "      <td>6</td>\n",
       "      <td>Adam</td>\n",
       "      <td>0.01</td>\n",
       "      <td>0.1</td>\n",
       "      <td>2.0</td>\n",
       "      <td>ContrastiveLoss m=5</td>\n",
       "      <td>9.332255450162021;9.461283712676078;9.44731449...</td>\n",
       "      <td>0.9223484848484849;0.9071969696969697;0.931818...</td>\n",
       "      <td>0.931818</td>\n",
       "      <td>9.222168</td>\n",
       "      <td>NaN</td>\n",
       "      <td>mot20_ext-v1c</td>\n",
       "      <td>threshold=0.25</td>\n",
       "      <td>NaN</td>\n",
       "      <td>NaN</td>\n",
       "    </tr>\n",
       "    <tr>\n",
       "      <th>16</th>\n",
       "      <td>basic_cnn</td>\n",
       "      <td>2023-05-17 21:00:03.709968</td>\n",
       "      <td>6</td>\n",
       "      <td>Adam</td>\n",
       "      <td>0.01</td>\n",
       "      <td>0.1</td>\n",
       "      <td>2.0</td>\n",
       "      <td>ContrastiveLoss m=6</td>\n",
       "      <td>13.878573908950344;13.060300306840377;13.10220...</td>\n",
       "      <td>0.8939393939393939;0.9261363636363636;0.897727...</td>\n",
       "      <td>0.929924</td>\n",
       "      <td>13.051024</td>\n",
       "      <td>NaN</td>\n",
       "      <td>mot20_ext-v1c</td>\n",
       "      <td>threshold=0.25</td>\n",
       "      <td>13.192607082020153;12.551794164830989;12.40417...</td>\n",
       "      <td>0.8164772727272728;0.8204545454545454;0.813068...</td>\n",
       "    </tr>\n",
       "    <tr>\n",
       "      <th>17</th>\n",
       "      <td>basic_cnn</td>\n",
       "      <td>2023-05-17 21:01:33.411204</td>\n",
       "      <td>6</td>\n",
       "      <td>Adam</td>\n",
       "      <td>0.01</td>\n",
       "      <td>0.1</td>\n",
       "      <td>2.0</td>\n",
       "      <td>ContrastiveLoss m=7</td>\n",
       "      <td>18.079176021344733;18.220480572093617;18.08935...</td>\n",
       "      <td>0.8731060606060606;0.9147727272727273;0.916666...</td>\n",
       "      <td>0.924242</td>\n",
       "      <td>17.897235</td>\n",
       "      <td>NaN</td>\n",
       "      <td>mot20_ext-v1c</td>\n",
       "      <td>threshold=0.25</td>\n",
       "      <td>17.58050719174472;16.84292718713934;16.4055915...</td>\n",
       "      <td>0.8051136363636363;0.8454545454545455;0.841477...</td>\n",
       "    </tr>\n",
       "    <tr>\n",
       "      <th>18</th>\n",
       "      <td>basic_cnn</td>\n",
       "      <td>2023-05-17 21:02:54.414179</td>\n",
       "      <td>6</td>\n",
       "      <td>Adam</td>\n",
       "      <td>0.01</td>\n",
       "      <td>0.1</td>\n",
       "      <td>2.0</td>\n",
       "      <td>ContrastiveLoss m=8</td>\n",
       "      <td>22.80516474174731;23.3486483891805;23.63430419...</td>\n",
       "      <td>0.9034090909090909;0.8977272727272727;0.909090...</td>\n",
       "      <td>0.916667</td>\n",
       "      <td>22.805165</td>\n",
       "      <td>NaN</td>\n",
       "      <td>mot20_ext-v1c</td>\n",
       "      <td>threshold=0.25</td>\n",
       "      <td>22.975373545559968;21.979100903597747;22.10880...</td>\n",
       "      <td>0.8159090909090909;0.7761363636363636;0.775568...</td>\n",
       "    </tr>\n",
       "    <tr>\n",
       "      <th>19</th>\n",
       "      <td>basic_cnn</td>\n",
       "      <td>2023-05-17 21:03:34.423338</td>\n",
       "      <td>6</td>\n",
       "      <td>Adam</td>\n",
       "      <td>0.01</td>\n",
       "      <td>0.1</td>\n",
       "      <td>2.0</td>\n",
       "      <td>ContrastiveLoss m=9</td>\n",
       "      <td>30.34436826994925;29.567539272886336;29.090578...</td>\n",
       "      <td>0.928030303030303;0.9375;0.9034090909090909;0....</td>\n",
       "      <td>0.937500</td>\n",
       "      <td>29.090578</td>\n",
       "      <td>NaN</td>\n",
       "      <td>mot20_ext-v1c</td>\n",
       "      <td>threshold=0.25</td>\n",
       "      <td>28.716273047707297;27.45019069151445;27.528893...</td>\n",
       "      <td>0.8005681818181818;0.8181818181818182;0.805113...</td>\n",
       "    </tr>\n",
       "  </tbody>\n",
       "</table>\n",
       "</div>"
      ],
      "text/plain": [
       "   model_name                    datetime  epoch_count optimizer    lr  gamma   \n",
       "10  basic_cnn  2023-05-17 16:13:29.995821            6      Adam  0.01    0.1  \\\n",
       "11  basic_cnn  2023-05-17 16:16:08.357209            6      Adam  0.01    0.1   \n",
       "12  basic_cnn  2023-05-17 16:18:12.320181            6      Adam  0.01    0.1   \n",
       "13  basic_cnn  2023-05-17 16:19:21.640774            6      Adam  0.01    0.1   \n",
       "14  basic_cnn  2023-05-17 16:21:27.245222            6      Adam  0.01    0.1   \n",
       "15  basic_cnn  2023-05-17 16:23:15.268691            6      Adam  0.01    0.1   \n",
       "16  basic_cnn  2023-05-17 21:00:03.709968            6      Adam  0.01    0.1   \n",
       "17  basic_cnn  2023-05-17 21:01:33.411204            6      Adam  0.01    0.1   \n",
       "18  basic_cnn  2023-05-17 21:02:54.414179            6      Adam  0.01    0.1   \n",
       "19  basic_cnn  2023-05-17 21:03:34.423338            6      Adam  0.01    0.1   \n",
       "\n",
       "    step_size              loss_name   \n",
       "10        2.0  ContrastiveLoss m=0.5  \\\n",
       "11        2.0    ContrastiveLoss m=1   \n",
       "12        2.0    ContrastiveLoss m=2   \n",
       "13        2.0    ContrastiveLoss m=3   \n",
       "14        2.0    ContrastiveLoss m=4   \n",
       "15        2.0    ContrastiveLoss m=5   \n",
       "16        2.0    ContrastiveLoss m=6   \n",
       "17        2.0    ContrastiveLoss m=7   \n",
       "18        2.0    ContrastiveLoss m=8   \n",
       "19        2.0    ContrastiveLoss m=9   \n",
       "\n",
       "                                           val_losses   \n",
       "10  0.10366702621633356;0.09767509500185649;0.0975...  \\\n",
       "11  0.3937322163220608;0.38748486656131165;0.39237...   \n",
       "12  1.6220077167857776;1.501405044035478;1.5712510...   \n",
       "13  3.7105082381855357;3.536945205746275;3.4418311...   \n",
       "14  6.333531899885698;6.176032673228871;6.33328749...   \n",
       "15  9.332255450162021;9.461283712676078;9.44731449...   \n",
       "16  13.878573908950344;13.060300306840377;13.10220...   \n",
       "17  18.079176021344733;18.220480572093617;18.08935...   \n",
       "18  22.80516474174731;23.3486483891805;23.63430419...   \n",
       "19  30.34436826994925;29.567539272886336;29.090578...   \n",
       "\n",
       "                                       val_accuracies  best_val_acc   \n",
       "10  0.8579545454545454;0.9185606060606061;0.899621...      0.929924  \\\n",
       "11  0.8920454545454546;0.8901515151515151;0.895833...      0.931818   \n",
       "12  0.8200757575757576;0.9015151515151515;0.922348...      0.928030   \n",
       "13  0.8314393939393939;0.8939393939393939;0.922348...      0.922348   \n",
       "14  0.8712121212121212;0.9053030303030303;0.926136...      0.929924   \n",
       "15  0.9223484848484849;0.9071969696969697;0.931818...      0.931818   \n",
       "16  0.8939393939393939;0.9261363636363636;0.897727...      0.929924   \n",
       "17  0.8731060606060606;0.9147727272727273;0.916666...      0.924242   \n",
       "18  0.9034090909090909;0.8977272727272727;0.909090...      0.916667   \n",
       "19  0.928030303030303;0.9375;0.9034090909090909;0....      0.937500   \n",
       "\n",
       "    best_val_loss  test_accuracy dataset_config extra_parameters   \n",
       "10       0.094597            NaN  mot20_ext-v1c   threshold=0.25  \\\n",
       "11       0.375903            NaN  mot20_ext-v1c   threshold=0.25   \n",
       "12       1.484149            NaN  mot20_ext-v1c   threshold=0.25   \n",
       "13       3.441831            NaN  mot20_ext-v1c   threshold=0.25   \n",
       "14       6.133762            NaN  mot20_ext-v1c   threshold=0.25   \n",
       "15       9.222168            NaN  mot20_ext-v1c   threshold=0.25   \n",
       "16      13.051024            NaN  mot20_ext-v1c   threshold=0.25   \n",
       "17      17.897235            NaN  mot20_ext-v1c   threshold=0.25   \n",
       "18      22.805165            NaN  mot20_ext-v1c   threshold=0.25   \n",
       "19      29.090578            NaN  mot20_ext-v1c   threshold=0.25   \n",
       "\n",
       "                                         train_losses   \n",
       "10                                                NaN  \\\n",
       "11                                                NaN   \n",
       "12                                                NaN   \n",
       "13                                                NaN   \n",
       "14                                                NaN   \n",
       "15                                                NaN   \n",
       "16  13.192607082020153;12.551794164830989;12.40417...   \n",
       "17  17.58050719174472;16.84292718713934;16.4055915...   \n",
       "18  22.975373545559968;21.979100903597747;22.10880...   \n",
       "19  28.716273047707297;27.45019069151445;27.528893...   \n",
       "\n",
       "                                     train_accuracies  \n",
       "10                                                NaN  \n",
       "11                                                NaN  \n",
       "12                                                NaN  \n",
       "13                                                NaN  \n",
       "14                                                NaN  \n",
       "15                                                NaN  \n",
       "16  0.8164772727272728;0.8204545454545454;0.813068...  \n",
       "17  0.8051136363636363;0.8454545454545455;0.841477...  \n",
       "18  0.8159090909090909;0.7761363636363636;0.775568...  \n",
       "19  0.8005681818181818;0.8181818181818182;0.805113...  "
      ]
     },
     "execution_count": 10,
     "metadata": {},
     "output_type": "execute_result"
    }
   ],
   "source": [
    "df = pd.read_csv(join(RESULTS_PATH, 'experiments.csv'))\n",
    "res2 = df[(df['datetime'] > '2023-05-17 16:13:29') & (df['datetime'] < '2023-05-17 21:04')]\n",
    "res2"
   ]
  },
  {
   "cell_type": "code",
   "execution_count": 11,
   "metadata": {},
   "outputs": [],
   "source": [
    "margins = list(map(lambda x: float(x.split(' ')[1][2:]), list(res2['loss_name'])))\n",
    "val_accuracies = list(res2['best_val_acc'])\n",
    "val_losses = list(res2['best_val_loss'])"
   ]
  },
  {
   "cell_type": "code",
   "execution_count": 12,
   "metadata": {},
   "outputs": [
    {
     "data": {
      "text/plain": [
       "Text(0, 0.5, 'best validation accuracy')"
      ]
     },
     "execution_count": 12,
     "metadata": {},
     "output_type": "execute_result"
    },
    {
     "data": {
      "image/png": "[encoded data removed]",
      "text/plain": [
       "<Figure size 640x480 with 1 Axes>"
      ]
     },
     "metadata": {},
     "output_type": "display_data"
    }
   ],
   "source": [
    "plt.plot(margins, val_accuracies)\n",
    "plt.xlabel('margin')\n",
    "plt.ylabel('best validation accuracy')"
   ]
  },
  {
   "cell_type": "code",
   "execution_count": 34,
   "metadata": {},
   "outputs": [
    {
     "data": {
      "text/plain": [
       "[0, 1, 2, 3, 4, 5]"
      ]
     },
     "execution_count": 34,
     "metadata": {},
     "output_type": "execute_result"
    }
   ],
   "source": [
    "best_res = df[df['loss_name'] == 'ContrastiveLoss m=9']\n",
    "vl = list(map(float, best_res['val_losses'].item().split(';')))\n",
    "va = list(map(float, best_res['val_accuracies'].item().split(';')))\n",
    "tl = list(map(float, best_res['train_losses'].item().split(';')))\n",
    "ta = list(map(float, best_res['train_accuracies'].item().split(';')))\n",
    "ec = best_res['epoch_count'].item()"
   ]
  },
  {
   "cell_type": "code",
   "execution_count": 46,
   "metadata": {},
   "outputs": [
    {
     "data": {
      "text/plain": [
       "Text(0, 0.5, 'accuracy')"
      ]
     },
     "execution_count": 46,
     "metadata": {},
     "output_type": "execute_result"
    },
    {
     "data": {
      "image/png": "[encoded data removed]",
      "text/plain": [
       "<Figure size 640x480 with 1 Axes>"
      ]
     },
     "metadata": {},
     "output_type": "display_data"
    }
   ],
   "source": [
    "plt.plot(list(range(ec)), va, ta)\n",
    "plt.legend(['val', 'train'])\n",
    "plt.xlabel('epoch')\n",
    "plt.ylabel('accuracy')"
   ]
  },
  {
   "cell_type": "code",
   "execution_count": 48,
   "metadata": {},
   "outputs": [
    {
     "data": {
      "text/plain": [
       "Text(0, 0.5, 'loss')"
      ]
     },
     "execution_count": 48,
     "metadata": {},
     "output_type": "execute_result"
    },
    {
     "data": {
      "image/png": "[encoded data removed]",
      "text/plain": [
       "<Figure size 640x480 with 1 Axes>"
      ]
     },
     "metadata": {},
     "output_type": "display_data"
    }
   ],
   "source": [
    "plt.plot(list(range(ec)), vl, tl)\n",
    "plt.legend(['val', 'train'])\n",
    "plt.xlabel('epoch')\n",
    "plt.ylabel('loss')"
   ]
  }
 ],
 "metadata": {
  "kernelspec": {
   "display_name": ".venv",
   "language": "python",
   "name": "python3"
  },
  "language_info": {
   "codemirror_mode": {
    "name": "ipython",
    "version": 3
   },
   "file_extension": ".py",
   "mimetype": "text/x-python",
   "name": "python",
   "nbconvert_exporter": "python",
   "pygments_lexer": "ipython3",
   "version": "3.10.11"
  },
  "orig_nbformat": 4
 },
 "nbformat": 4,
 "nbformat_minor": 2
}
